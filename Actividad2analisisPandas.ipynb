{
  "nbformat": 4,
  "nbformat_minor": 0,
  "metadata": {
    "colab": {
      "provenance": [],
      "include_colab_link": true
    },
    "kernelspec": {
      "name": "python3",
      "display_name": "Python 3"
    },
    "language_info": {
      "name": "python"
    }
  },
  "cells": [
    {
      "cell_type": "markdown",
      "metadata": {
        "id": "view-in-github",
        "colab_type": "text"
      },
      "source": [
        "<a href=\"https://colab.research.google.com/github/CastilloGabriela/Hands-On-Data-Preprocessing-in-Python/blob/main/Actividad2analisisPandas.ipynb\" target=\"_parent\"><img src=\"https://colab.research.google.com/assets/colab-badge.svg\" alt=\"Open In Colab\"/></a>"
      ]
    },
    {
      "cell_type": "markdown",
      "source": [
        "**MAESTRÍA EN INTELIGENCIA ARTIFICIAL APLICADA**\n",
        "\n",
        "**Curso: TC4029 - Ciencia y analítica de datos**\n",
        "\n",
        "Tecnológico de Monterrey\n",
        "\n",
        "Prof Grettel Barceló Alonso\n",
        "\n",
        "**Semana 2**\n",
        "Pandas para el análisis de datos en Python\n",
        "\n",
        "---"
      ],
      "metadata": {
        "id": "SML-04QQLd9l"
      }
    },
    {
      "cell_type": "markdown",
      "source": [
        "*   NOMBRE:Nancy Gabriela GOnzález Castillo\n",
        "*   MATRÍCULA: A01794546\n"
      ],
      "metadata": {
        "id": "6q35__bSBB3G"
      }
    },
    {
      "cell_type": "markdown",
      "source": [
        "---"
      ],
      "metadata": {
        "id": "AepY3wwtDXkc"
      }
    },
    {
      "cell_type": "code",
      "source": [
        "from google.colab import drive\n",
        "drive.mount ('/content/drive')"
      ],
      "metadata": {
        "colab": {
          "base_uri": "https://localhost:8080/"
        },
        "id": "MmY0MowO6Q8Z",
        "outputId": "fbe20244-217f-4b42-9c73-2d061f45e102"
      },
      "execution_count": 8,
      "outputs": [
        {
          "output_type": "stream",
          "name": "stdout",
          "text": [
            "Drive already mounted at /content/drive; to attempt to forcibly remount, call drive.mount(\"/content/drive\", force_remount=True).\n"
          ]
        }
      ]
    },
    {
      "cell_type": "markdown",
      "source": [
        "En esta actividad usarás el archivo de datos `LaqnData.csv`. Cada fila de este conjunto de datos muestra un registro de medición, por hora, de uno de los siguientes cinco contaminantes del aire: \n",
        "\n",
        "*   `NO` (óxido nítrico)\n",
        "*   `NO2` (dióxido de nitrógeno)\n",
        "*   `NOX` (óxidos nitrosos)\n",
        "*   `PM10` (partículas suspendidas con un diámetro aerodinámico igual o menor a 10 micrómetros)\n",
        "*   `PM2.5` (partículas suspendidas con un diámetro aerodinámico igual o menor a 2.5 micrómetros)\n",
        "\n",
        "Los datos se recopilaron en una ubicación de Londres durante todo el año 2017.\n",
        "\n",
        "**NOTA IMPORTANTE:** Asegúrate de responder *explícitamente* todos los cuestionamientos.\n"
      ],
      "metadata": {
        "id": "BumCtObqBqGr"
      }
    },
    {
      "cell_type": "markdown",
      "source": [
        "1.\tDescarga el archivo: `LaqnData.csv` y guarda, en un dataframe (`air_df`), todos sus registros.\n",
        "*   Observa la estructura y contenido del dataframe con los atributos y métodos estudiados (`shape`, `columns`, `head()`, `tail()`, `dtypes`)\n",
        "*   Calcula el porcentaje total de valores faltantes 7.37"
      ],
      "metadata": {
        "id": "mqtTwAL3Mr44"
      }
    },
    {
      "cell_type": "code",
      "execution_count": 3,
      "metadata": {
        "id": "F5JognteLaJV",
        "colab": {
          "base_uri": "https://localhost:8080/",
          "height": 423
        },
        "outputId": "bc481969-4367-43cb-993e-372ceb5af416"
      },
      "outputs": [
        {
          "output_type": "execute_result",
          "data": {
            "text/plain": [
              "      Site Species   ReadingDateTime  Value   Units Provisional or Ratified\n",
              "0      CT3      NO  01/01/2017 00:00    3.5  ug m-3                       R\n",
              "1      CT3      NO  01/01/2017 01:00    3.6  ug m-3                       R\n",
              "2      CT3      NO  01/01/2017 02:00    2.2  ug m-3                       R\n",
              "3      CT3      NO  01/01/2017 03:00    2.1  ug m-3                       R\n",
              "4      CT3      NO  01/01/2017 04:00    3.3  ug m-3                       R\n",
              "...    ...     ...               ...    ...     ...                     ...\n",
              "43795  CT3   PM2.5  31/12/2017 19:00   -2.0  ug m-3                       R\n",
              "43796  CT3   PM2.5  31/12/2017 20:00    6.0  ug m-3                       R\n",
              "43797  CT3   PM2.5  31/12/2017 21:00    5.0  ug m-3                       R\n",
              "43798  CT3   PM2.5  31/12/2017 22:00    5.0  ug m-3                       R\n",
              "43799  CT3   PM2.5  31/12/2017 23:00    6.0  ug m-3                       R\n",
              "\n",
              "[43800 rows x 6 columns]"
            ],
            "text/html": [
              "\n",
              "  <div id=\"df-599f2f00-1be4-46a8-9b00-fe53f0a63a37\">\n",
              "    <div class=\"colab-df-container\">\n",
              "      <div>\n",
              "<style scoped>\n",
              "    .dataframe tbody tr th:only-of-type {\n",
              "        vertical-align: middle;\n",
              "    }\n",
              "\n",
              "    .dataframe tbody tr th {\n",
              "        vertical-align: top;\n",
              "    }\n",
              "\n",
              "    .dataframe thead th {\n",
              "        text-align: right;\n",
              "    }\n",
              "</style>\n",
              "<table border=\"1\" class=\"dataframe\">\n",
              "  <thead>\n",
              "    <tr style=\"text-align: right;\">\n",
              "      <th></th>\n",
              "      <th>Site</th>\n",
              "      <th>Species</th>\n",
              "      <th>ReadingDateTime</th>\n",
              "      <th>Value</th>\n",
              "      <th>Units</th>\n",
              "      <th>Provisional or Ratified</th>\n",
              "    </tr>\n",
              "  </thead>\n",
              "  <tbody>\n",
              "    <tr>\n",
              "      <th>0</th>\n",
              "      <td>CT3</td>\n",
              "      <td>NO</td>\n",
              "      <td>01/01/2017 00:00</td>\n",
              "      <td>3.5</td>\n",
              "      <td>ug m-3</td>\n",
              "      <td>R</td>\n",
              "    </tr>\n",
              "    <tr>\n",
              "      <th>1</th>\n",
              "      <td>CT3</td>\n",
              "      <td>NO</td>\n",
              "      <td>01/01/2017 01:00</td>\n",
              "      <td>3.6</td>\n",
              "      <td>ug m-3</td>\n",
              "      <td>R</td>\n",
              "    </tr>\n",
              "    <tr>\n",
              "      <th>2</th>\n",
              "      <td>CT3</td>\n",
              "      <td>NO</td>\n",
              "      <td>01/01/2017 02:00</td>\n",
              "      <td>2.2</td>\n",
              "      <td>ug m-3</td>\n",
              "      <td>R</td>\n",
              "    </tr>\n",
              "    <tr>\n",
              "      <th>3</th>\n",
              "      <td>CT3</td>\n",
              "      <td>NO</td>\n",
              "      <td>01/01/2017 03:00</td>\n",
              "      <td>2.1</td>\n",
              "      <td>ug m-3</td>\n",
              "      <td>R</td>\n",
              "    </tr>\n",
              "    <tr>\n",
              "      <th>4</th>\n",
              "      <td>CT3</td>\n",
              "      <td>NO</td>\n",
              "      <td>01/01/2017 04:00</td>\n",
              "      <td>3.3</td>\n",
              "      <td>ug m-3</td>\n",
              "      <td>R</td>\n",
              "    </tr>\n",
              "    <tr>\n",
              "      <th>...</th>\n",
              "      <td>...</td>\n",
              "      <td>...</td>\n",
              "      <td>...</td>\n",
              "      <td>...</td>\n",
              "      <td>...</td>\n",
              "      <td>...</td>\n",
              "    </tr>\n",
              "    <tr>\n",
              "      <th>43795</th>\n",
              "      <td>CT3</td>\n",
              "      <td>PM2.5</td>\n",
              "      <td>31/12/2017 19:00</td>\n",
              "      <td>-2.0</td>\n",
              "      <td>ug m-3</td>\n",
              "      <td>R</td>\n",
              "    </tr>\n",
              "    <tr>\n",
              "      <th>43796</th>\n",
              "      <td>CT3</td>\n",
              "      <td>PM2.5</td>\n",
              "      <td>31/12/2017 20:00</td>\n",
              "      <td>6.0</td>\n",
              "      <td>ug m-3</td>\n",
              "      <td>R</td>\n",
              "    </tr>\n",
              "    <tr>\n",
              "      <th>43797</th>\n",
              "      <td>CT3</td>\n",
              "      <td>PM2.5</td>\n",
              "      <td>31/12/2017 21:00</td>\n",
              "      <td>5.0</td>\n",
              "      <td>ug m-3</td>\n",
              "      <td>R</td>\n",
              "    </tr>\n",
              "    <tr>\n",
              "      <th>43798</th>\n",
              "      <td>CT3</td>\n",
              "      <td>PM2.5</td>\n",
              "      <td>31/12/2017 22:00</td>\n",
              "      <td>5.0</td>\n",
              "      <td>ug m-3</td>\n",
              "      <td>R</td>\n",
              "    </tr>\n",
              "    <tr>\n",
              "      <th>43799</th>\n",
              "      <td>CT3</td>\n",
              "      <td>PM2.5</td>\n",
              "      <td>31/12/2017 23:00</td>\n",
              "      <td>6.0</td>\n",
              "      <td>ug m-3</td>\n",
              "      <td>R</td>\n",
              "    </tr>\n",
              "  </tbody>\n",
              "</table>\n",
              "<p>43800 rows × 6 columns</p>\n",
              "</div>\n",
              "      <button class=\"colab-df-convert\" onclick=\"convertToInteractive('df-599f2f00-1be4-46a8-9b00-fe53f0a63a37')\"\n",
              "              title=\"Convert this dataframe to an interactive table.\"\n",
              "              style=\"display:none;\">\n",
              "        \n",
              "  <svg xmlns=\"http://www.w3.org/2000/svg\" height=\"24px\"viewBox=\"0 0 24 24\"\n",
              "       width=\"24px\">\n",
              "    <path d=\"M0 0h24v24H0V0z\" fill=\"none\"/>\n",
              "    <path d=\"M18.56 5.44l.94 2.06.94-2.06 2.06-.94-2.06-.94-.94-2.06-.94 2.06-2.06.94zm-11 1L8.5 8.5l.94-2.06 2.06-.94-2.06-.94L8.5 2.5l-.94 2.06-2.06.94zm10 10l.94 2.06.94-2.06 2.06-.94-2.06-.94-.94-2.06-.94 2.06-2.06.94z\"/><path d=\"M17.41 7.96l-1.37-1.37c-.4-.4-.92-.59-1.43-.59-.52 0-1.04.2-1.43.59L10.3 9.45l-7.72 7.72c-.78.78-.78 2.05 0 2.83L4 21.41c.39.39.9.59 1.41.59.51 0 1.02-.2 1.41-.59l7.78-7.78 2.81-2.81c.8-.78.8-2.07 0-2.86zM5.41 20L4 18.59l7.72-7.72 1.47 1.35L5.41 20z\"/>\n",
              "  </svg>\n",
              "      </button>\n",
              "      \n",
              "  <style>\n",
              "    .colab-df-container {\n",
              "      display:flex;\n",
              "      flex-wrap:wrap;\n",
              "      gap: 12px;\n",
              "    }\n",
              "\n",
              "    .colab-df-convert {\n",
              "      background-color: #E8F0FE;\n",
              "      border: none;\n",
              "      border-radius: 50%;\n",
              "      cursor: pointer;\n",
              "      display: none;\n",
              "      fill: #1967D2;\n",
              "      height: 32px;\n",
              "      padding: 0 0 0 0;\n",
              "      width: 32px;\n",
              "    }\n",
              "\n",
              "    .colab-df-convert:hover {\n",
              "      background-color: #E2EBFA;\n",
              "      box-shadow: 0px 1px 2px rgba(60, 64, 67, 0.3), 0px 1px 3px 1px rgba(60, 64, 67, 0.15);\n",
              "      fill: #174EA6;\n",
              "    }\n",
              "\n",
              "    [theme=dark] .colab-df-convert {\n",
              "      background-color: #3B4455;\n",
              "      fill: #D2E3FC;\n",
              "    }\n",
              "\n",
              "    [theme=dark] .colab-df-convert:hover {\n",
              "      background-color: #434B5C;\n",
              "      box-shadow: 0px 1px 3px 1px rgba(0, 0, 0, 0.15);\n",
              "      filter: drop-shadow(0px 1px 2px rgba(0, 0, 0, 0.3));\n",
              "      fill: #FFFFFF;\n",
              "    }\n",
              "  </style>\n",
              "\n",
              "      <script>\n",
              "        const buttonEl =\n",
              "          document.querySelector('#df-599f2f00-1be4-46a8-9b00-fe53f0a63a37 button.colab-df-convert');\n",
              "        buttonEl.style.display =\n",
              "          google.colab.kernel.accessAllowed ? 'block' : 'none';\n",
              "\n",
              "        async function convertToInteractive(key) {\n",
              "          const element = document.querySelector('#df-599f2f00-1be4-46a8-9b00-fe53f0a63a37');\n",
              "          const dataTable =\n",
              "            await google.colab.kernel.invokeFunction('convertToInteractive',\n",
              "                                                     [key], {});\n",
              "          if (!dataTable) return;\n",
              "\n",
              "          const docLinkHtml = 'Like what you see? Visit the ' +\n",
              "            '<a target=\"_blank\" href=https://colab.research.google.com/notebooks/data_table.ipynb>data table notebook</a>'\n",
              "            + ' to learn more about interactive tables.';\n",
              "          element.innerHTML = '';\n",
              "          dataTable['output_type'] = 'display_data';\n",
              "          await google.colab.output.renderOutput(dataTable, element);\n",
              "          const docLink = document.createElement('div');\n",
              "          docLink.innerHTML = docLinkHtml;\n",
              "          element.appendChild(docLink);\n",
              "        }\n",
              "      </script>\n",
              "    </div>\n",
              "  </div>\n",
              "  "
            ]
          },
          "metadata": {},
          "execution_count": 3
        }
      ],
      "source": [
        "import pandas as pd\n",
        "air_df = pd.read_csv('/content/drive/MyDrive/Colab Notebooks/MNA/semana 2/LaqnData.csv')\n",
        "air_df"
      ]
    },
    {
      "cell_type": "code",
      "source": [
        "air_df.shape"
      ],
      "metadata": {
        "colab": {
          "base_uri": "https://localhost:8080/"
        },
        "id": "dKytJUi7azF_",
        "outputId": "f60a68fb-82a0-490d-bf7b-dda8b1473cf3"
      },
      "execution_count": 244,
      "outputs": [
        {
          "output_type": "execute_result",
          "data": {
            "text/plain": [
              "(43800, 6)"
            ]
          },
          "metadata": {},
          "execution_count": 244
        }
      ]
    },
    {
      "cell_type": "code",
      "source": [
        "air_df.columns"
      ],
      "metadata": {
        "colab": {
          "base_uri": "https://localhost:8080/"
        },
        "id": "P2XKRW8ma5tV",
        "outputId": "205edb27-d966-4986-8dcf-f7547b94ce68"
      },
      "execution_count": 245,
      "outputs": [
        {
          "output_type": "execute_result",
          "data": {
            "text/plain": [
              "Index(['Site', 'Species', 'ReadingDateTime', 'Value', 'Units',\n",
              "       'Provisional or Ratified'],\n",
              "      dtype='object')"
            ]
          },
          "metadata": {},
          "execution_count": 245
        }
      ]
    },
    {
      "cell_type": "code",
      "source": [
        "air_df.head()"
      ],
      "metadata": {
        "colab": {
          "base_uri": "https://localhost:8080/",
          "height": 206
        },
        "id": "gI7OtL9Q7v5G",
        "outputId": "0a5b7c6e-5644-45ea-8299-0a36af611ee0"
      },
      "execution_count": 246,
      "outputs": [
        {
          "output_type": "execute_result",
          "data": {
            "text/plain": [
              "  Site Species   ReadingDateTime  Value   Units Provisional or Ratified\n",
              "0  CT3      NO  01/01/2017 00:00    3.5  ug m-3                       R\n",
              "1  CT3      NO  01/01/2017 01:00    3.6  ug m-3                       R\n",
              "2  CT3      NO  01/01/2017 02:00    2.2  ug m-3                       R\n",
              "3  CT3      NO  01/01/2017 03:00    2.1  ug m-3                       R\n",
              "4  CT3      NO  01/01/2017 04:00    3.3  ug m-3                       R"
            ],
            "text/html": [
              "\n",
              "  <div id=\"df-830e01b5-fad1-444b-a2ed-63882d9fcc5d\">\n",
              "    <div class=\"colab-df-container\">\n",
              "      <div>\n",
              "<style scoped>\n",
              "    .dataframe tbody tr th:only-of-type {\n",
              "        vertical-align: middle;\n",
              "    }\n",
              "\n",
              "    .dataframe tbody tr th {\n",
              "        vertical-align: top;\n",
              "    }\n",
              "\n",
              "    .dataframe thead th {\n",
              "        text-align: right;\n",
              "    }\n",
              "</style>\n",
              "<table border=\"1\" class=\"dataframe\">\n",
              "  <thead>\n",
              "    <tr style=\"text-align: right;\">\n",
              "      <th></th>\n",
              "      <th>Site</th>\n",
              "      <th>Species</th>\n",
              "      <th>ReadingDateTime</th>\n",
              "      <th>Value</th>\n",
              "      <th>Units</th>\n",
              "      <th>Provisional or Ratified</th>\n",
              "    </tr>\n",
              "  </thead>\n",
              "  <tbody>\n",
              "    <tr>\n",
              "      <th>0</th>\n",
              "      <td>CT3</td>\n",
              "      <td>NO</td>\n",
              "      <td>01/01/2017 00:00</td>\n",
              "      <td>3.5</td>\n",
              "      <td>ug m-3</td>\n",
              "      <td>R</td>\n",
              "    </tr>\n",
              "    <tr>\n",
              "      <th>1</th>\n",
              "      <td>CT3</td>\n",
              "      <td>NO</td>\n",
              "      <td>01/01/2017 01:00</td>\n",
              "      <td>3.6</td>\n",
              "      <td>ug m-3</td>\n",
              "      <td>R</td>\n",
              "    </tr>\n",
              "    <tr>\n",
              "      <th>2</th>\n",
              "      <td>CT3</td>\n",
              "      <td>NO</td>\n",
              "      <td>01/01/2017 02:00</td>\n",
              "      <td>2.2</td>\n",
              "      <td>ug m-3</td>\n",
              "      <td>R</td>\n",
              "    </tr>\n",
              "    <tr>\n",
              "      <th>3</th>\n",
              "      <td>CT3</td>\n",
              "      <td>NO</td>\n",
              "      <td>01/01/2017 03:00</td>\n",
              "      <td>2.1</td>\n",
              "      <td>ug m-3</td>\n",
              "      <td>R</td>\n",
              "    </tr>\n",
              "    <tr>\n",
              "      <th>4</th>\n",
              "      <td>CT3</td>\n",
              "      <td>NO</td>\n",
              "      <td>01/01/2017 04:00</td>\n",
              "      <td>3.3</td>\n",
              "      <td>ug m-3</td>\n",
              "      <td>R</td>\n",
              "    </tr>\n",
              "  </tbody>\n",
              "</table>\n",
              "</div>\n",
              "      <button class=\"colab-df-convert\" onclick=\"convertToInteractive('df-830e01b5-fad1-444b-a2ed-63882d9fcc5d')\"\n",
              "              title=\"Convert this dataframe to an interactive table.\"\n",
              "              style=\"display:none;\">\n",
              "        \n",
              "  <svg xmlns=\"http://www.w3.org/2000/svg\" height=\"24px\"viewBox=\"0 0 24 24\"\n",
              "       width=\"24px\">\n",
              "    <path d=\"M0 0h24v24H0V0z\" fill=\"none\"/>\n",
              "    <path d=\"M18.56 5.44l.94 2.06.94-2.06 2.06-.94-2.06-.94-.94-2.06-.94 2.06-2.06.94zm-11 1L8.5 8.5l.94-2.06 2.06-.94-2.06-.94L8.5 2.5l-.94 2.06-2.06.94zm10 10l.94 2.06.94-2.06 2.06-.94-2.06-.94-.94-2.06-.94 2.06-2.06.94z\"/><path d=\"M17.41 7.96l-1.37-1.37c-.4-.4-.92-.59-1.43-.59-.52 0-1.04.2-1.43.59L10.3 9.45l-7.72 7.72c-.78.78-.78 2.05 0 2.83L4 21.41c.39.39.9.59 1.41.59.51 0 1.02-.2 1.41-.59l7.78-7.78 2.81-2.81c.8-.78.8-2.07 0-2.86zM5.41 20L4 18.59l7.72-7.72 1.47 1.35L5.41 20z\"/>\n",
              "  </svg>\n",
              "      </button>\n",
              "      \n",
              "  <style>\n",
              "    .colab-df-container {\n",
              "      display:flex;\n",
              "      flex-wrap:wrap;\n",
              "      gap: 12px;\n",
              "    }\n",
              "\n",
              "    .colab-df-convert {\n",
              "      background-color: #E8F0FE;\n",
              "      border: none;\n",
              "      border-radius: 50%;\n",
              "      cursor: pointer;\n",
              "      display: none;\n",
              "      fill: #1967D2;\n",
              "      height: 32px;\n",
              "      padding: 0 0 0 0;\n",
              "      width: 32px;\n",
              "    }\n",
              "\n",
              "    .colab-df-convert:hover {\n",
              "      background-color: #E2EBFA;\n",
              "      box-shadow: 0px 1px 2px rgba(60, 64, 67, 0.3), 0px 1px 3px 1px rgba(60, 64, 67, 0.15);\n",
              "      fill: #174EA6;\n",
              "    }\n",
              "\n",
              "    [theme=dark] .colab-df-convert {\n",
              "      background-color: #3B4455;\n",
              "      fill: #D2E3FC;\n",
              "    }\n",
              "\n",
              "    [theme=dark] .colab-df-convert:hover {\n",
              "      background-color: #434B5C;\n",
              "      box-shadow: 0px 1px 3px 1px rgba(0, 0, 0, 0.15);\n",
              "      filter: drop-shadow(0px 1px 2px rgba(0, 0, 0, 0.3));\n",
              "      fill: #FFFFFF;\n",
              "    }\n",
              "  </style>\n",
              "\n",
              "      <script>\n",
              "        const buttonEl =\n",
              "          document.querySelector('#df-830e01b5-fad1-444b-a2ed-63882d9fcc5d button.colab-df-convert');\n",
              "        buttonEl.style.display =\n",
              "          google.colab.kernel.accessAllowed ? 'block' : 'none';\n",
              "\n",
              "        async function convertToInteractive(key) {\n",
              "          const element = document.querySelector('#df-830e01b5-fad1-444b-a2ed-63882d9fcc5d');\n",
              "          const dataTable =\n",
              "            await google.colab.kernel.invokeFunction('convertToInteractive',\n",
              "                                                     [key], {});\n",
              "          if (!dataTable) return;\n",
              "\n",
              "          const docLinkHtml = 'Like what you see? Visit the ' +\n",
              "            '<a target=\"_blank\" href=https://colab.research.google.com/notebooks/data_table.ipynb>data table notebook</a>'\n",
              "            + ' to learn more about interactive tables.';\n",
              "          element.innerHTML = '';\n",
              "          dataTable['output_type'] = 'display_data';\n",
              "          await google.colab.output.renderOutput(dataTable, element);\n",
              "          const docLink = document.createElement('div');\n",
              "          docLink.innerHTML = docLinkHtml;\n",
              "          element.appendChild(docLink);\n",
              "        }\n",
              "      </script>\n",
              "    </div>\n",
              "  </div>\n",
              "  "
            ]
          },
          "metadata": {},
          "execution_count": 246
        }
      ]
    },
    {
      "cell_type": "code",
      "source": [
        "air_df.tail()"
      ],
      "metadata": {
        "colab": {
          "base_uri": "https://localhost:8080/",
          "height": 206
        },
        "id": "20-KgHygG8wd",
        "outputId": "cb0e2b68-611d-4b47-df40-3e4418e6f681"
      },
      "execution_count": 247,
      "outputs": [
        {
          "output_type": "execute_result",
          "data": {
            "text/plain": [
              "      Site Species   ReadingDateTime  Value   Units Provisional or Ratified\n",
              "43795  CT3   PM2.5  31/12/2017 19:00   -2.0  ug m-3                       R\n",
              "43796  CT3   PM2.5  31/12/2017 20:00    6.0  ug m-3                       R\n",
              "43797  CT3   PM2.5  31/12/2017 21:00    5.0  ug m-3                       R\n",
              "43798  CT3   PM2.5  31/12/2017 22:00    5.0  ug m-3                       R\n",
              "43799  CT3   PM2.5  31/12/2017 23:00    6.0  ug m-3                       R"
            ],
            "text/html": [
              "\n",
              "  <div id=\"df-4267c58b-8a9b-439c-9abc-ad6b775aca37\">\n",
              "    <div class=\"colab-df-container\">\n",
              "      <div>\n",
              "<style scoped>\n",
              "    .dataframe tbody tr th:only-of-type {\n",
              "        vertical-align: middle;\n",
              "    }\n",
              "\n",
              "    .dataframe tbody tr th {\n",
              "        vertical-align: top;\n",
              "    }\n",
              "\n",
              "    .dataframe thead th {\n",
              "        text-align: right;\n",
              "    }\n",
              "</style>\n",
              "<table border=\"1\" class=\"dataframe\">\n",
              "  <thead>\n",
              "    <tr style=\"text-align: right;\">\n",
              "      <th></th>\n",
              "      <th>Site</th>\n",
              "      <th>Species</th>\n",
              "      <th>ReadingDateTime</th>\n",
              "      <th>Value</th>\n",
              "      <th>Units</th>\n",
              "      <th>Provisional or Ratified</th>\n",
              "    </tr>\n",
              "  </thead>\n",
              "  <tbody>\n",
              "    <tr>\n",
              "      <th>43795</th>\n",
              "      <td>CT3</td>\n",
              "      <td>PM2.5</td>\n",
              "      <td>31/12/2017 19:00</td>\n",
              "      <td>-2.0</td>\n",
              "      <td>ug m-3</td>\n",
              "      <td>R</td>\n",
              "    </tr>\n",
              "    <tr>\n",
              "      <th>43796</th>\n",
              "      <td>CT3</td>\n",
              "      <td>PM2.5</td>\n",
              "      <td>31/12/2017 20:00</td>\n",
              "      <td>6.0</td>\n",
              "      <td>ug m-3</td>\n",
              "      <td>R</td>\n",
              "    </tr>\n",
              "    <tr>\n",
              "      <th>43797</th>\n",
              "      <td>CT3</td>\n",
              "      <td>PM2.5</td>\n",
              "      <td>31/12/2017 21:00</td>\n",
              "      <td>5.0</td>\n",
              "      <td>ug m-3</td>\n",
              "      <td>R</td>\n",
              "    </tr>\n",
              "    <tr>\n",
              "      <th>43798</th>\n",
              "      <td>CT3</td>\n",
              "      <td>PM2.5</td>\n",
              "      <td>31/12/2017 22:00</td>\n",
              "      <td>5.0</td>\n",
              "      <td>ug m-3</td>\n",
              "      <td>R</td>\n",
              "    </tr>\n",
              "    <tr>\n",
              "      <th>43799</th>\n",
              "      <td>CT3</td>\n",
              "      <td>PM2.5</td>\n",
              "      <td>31/12/2017 23:00</td>\n",
              "      <td>6.0</td>\n",
              "      <td>ug m-3</td>\n",
              "      <td>R</td>\n",
              "    </tr>\n",
              "  </tbody>\n",
              "</table>\n",
              "</div>\n",
              "      <button class=\"colab-df-convert\" onclick=\"convertToInteractive('df-4267c58b-8a9b-439c-9abc-ad6b775aca37')\"\n",
              "              title=\"Convert this dataframe to an interactive table.\"\n",
              "              style=\"display:none;\">\n",
              "        \n",
              "  <svg xmlns=\"http://www.w3.org/2000/svg\" height=\"24px\"viewBox=\"0 0 24 24\"\n",
              "       width=\"24px\">\n",
              "    <path d=\"M0 0h24v24H0V0z\" fill=\"none\"/>\n",
              "    <path d=\"M18.56 5.44l.94 2.06.94-2.06 2.06-.94-2.06-.94-.94-2.06-.94 2.06-2.06.94zm-11 1L8.5 8.5l.94-2.06 2.06-.94-2.06-.94L8.5 2.5l-.94 2.06-2.06.94zm10 10l.94 2.06.94-2.06 2.06-.94-2.06-.94-.94-2.06-.94 2.06-2.06.94z\"/><path d=\"M17.41 7.96l-1.37-1.37c-.4-.4-.92-.59-1.43-.59-.52 0-1.04.2-1.43.59L10.3 9.45l-7.72 7.72c-.78.78-.78 2.05 0 2.83L4 21.41c.39.39.9.59 1.41.59.51 0 1.02-.2 1.41-.59l7.78-7.78 2.81-2.81c.8-.78.8-2.07 0-2.86zM5.41 20L4 18.59l7.72-7.72 1.47 1.35L5.41 20z\"/>\n",
              "  </svg>\n",
              "      </button>\n",
              "      \n",
              "  <style>\n",
              "    .colab-df-container {\n",
              "      display:flex;\n",
              "      flex-wrap:wrap;\n",
              "      gap: 12px;\n",
              "    }\n",
              "\n",
              "    .colab-df-convert {\n",
              "      background-color: #E8F0FE;\n",
              "      border: none;\n",
              "      border-radius: 50%;\n",
              "      cursor: pointer;\n",
              "      display: none;\n",
              "      fill: #1967D2;\n",
              "      height: 32px;\n",
              "      padding: 0 0 0 0;\n",
              "      width: 32px;\n",
              "    }\n",
              "\n",
              "    .colab-df-convert:hover {\n",
              "      background-color: #E2EBFA;\n",
              "      box-shadow: 0px 1px 2px rgba(60, 64, 67, 0.3), 0px 1px 3px 1px rgba(60, 64, 67, 0.15);\n",
              "      fill: #174EA6;\n",
              "    }\n",
              "\n",
              "    [theme=dark] .colab-df-convert {\n",
              "      background-color: #3B4455;\n",
              "      fill: #D2E3FC;\n",
              "    }\n",
              "\n",
              "    [theme=dark] .colab-df-convert:hover {\n",
              "      background-color: #434B5C;\n",
              "      box-shadow: 0px 1px 3px 1px rgba(0, 0, 0, 0.15);\n",
              "      filter: drop-shadow(0px 1px 2px rgba(0, 0, 0, 0.3));\n",
              "      fill: #FFFFFF;\n",
              "    }\n",
              "  </style>\n",
              "\n",
              "      <script>\n",
              "        const buttonEl =\n",
              "          document.querySelector('#df-4267c58b-8a9b-439c-9abc-ad6b775aca37 button.colab-df-convert');\n",
              "        buttonEl.style.display =\n",
              "          google.colab.kernel.accessAllowed ? 'block' : 'none';\n",
              "\n",
              "        async function convertToInteractive(key) {\n",
              "          const element = document.querySelector('#df-4267c58b-8a9b-439c-9abc-ad6b775aca37');\n",
              "          const dataTable =\n",
              "            await google.colab.kernel.invokeFunction('convertToInteractive',\n",
              "                                                     [key], {});\n",
              "          if (!dataTable) return;\n",
              "\n",
              "          const docLinkHtml = 'Like what you see? Visit the ' +\n",
              "            '<a target=\"_blank\" href=https://colab.research.google.com/notebooks/data_table.ipynb>data table notebook</a>'\n",
              "            + ' to learn more about interactive tables.';\n",
              "          element.innerHTML = '';\n",
              "          dataTable['output_type'] = 'display_data';\n",
              "          await google.colab.output.renderOutput(dataTable, element);\n",
              "          const docLink = document.createElement('div');\n",
              "          docLink.innerHTML = docLinkHtml;\n",
              "          element.appendChild(docLink);\n",
              "        }\n",
              "      </script>\n",
              "    </div>\n",
              "  </div>\n",
              "  "
            ]
          },
          "metadata": {},
          "execution_count": 247
        }
      ]
    },
    {
      "cell_type": "code",
      "source": [
        "air_df.dtypes"
      ],
      "metadata": {
        "colab": {
          "base_uri": "https://localhost:8080/"
        },
        "id": "G6DWSX6xHMUS",
        "outputId": "03e897fb-c7c0-4e19-e441-d9b2796925db"
      },
      "execution_count": 248,
      "outputs": [
        {
          "output_type": "execute_result",
          "data": {
            "text/plain": [
              "Site                        object\n",
              "Species                     object\n",
              "ReadingDateTime             object\n",
              "Value                      float64\n",
              "Units                       object\n",
              "Provisional or Ratified     object\n",
              "dtype: object"
            ]
          },
          "metadata": {},
          "execution_count": 248
        }
      ]
    },
    {
      "cell_type": "code",
      "source": [
        "r=(air_df['Species'].value_counts().sum()-air_df['Value'].value_counts().sum()) / air_df['Species'].value_counts().sum() *100\n",
        "print('Porcentaje de valores faltantes')\n",
        "print(r) \n"
      ],
      "metadata": {
        "colab": {
          "base_uri": "https://localhost:8080/"
        },
        "id": "xHR8nVFZgAfH",
        "outputId": "d68f4ab6-9bc4-43c4-b322-7eb0f74bcfb7"
      },
      "execution_count": 249,
      "outputs": [
        {
          "output_type": "stream",
          "name": "stdout",
          "text": [
            "Porcentaje de valores faltantes\n",
            "7.374429223744292\n"
          ]
        }
      ]
    },
    {
      "cell_type": "markdown",
      "source": [
        "2.\tObtén la cantidad de valores únicos por columna (`nunique()`) para responder:\n",
        "\n",
        "\n",
        "*   ¿Cuántas mediciones se hicieron? 40570\n",
        "*   ¿Cuántos contaminantes del aire (`Species`) se analizaron? 5\n",
        "*   ¿Qué columnas no agregan ningún valor informativo porque el mismo valor en todo el conjunto de datos? Elimínalas del dataframe. Site y Provisional or Ratified\n",
        "*   La columna `Units` tampoco posee valor informativo. Verifícalo con la función `unique()` y elimínala del dataframe."
      ],
      "metadata": {
        "id": "APrlS185Cw-K"
      }
    },
    {
      "cell_type": "code",
      "source": [
        "air_df.nunique()"
      ],
      "metadata": {
        "id": "Ke0EGLVaCwm6",
        "colab": {
          "base_uri": "https://localhost:8080/"
        },
        "outputId": "a7689a3f-f473-4039-b2a0-8214e50e01cd"
      },
      "execution_count": 15,
      "outputs": [
        {
          "output_type": "execute_result",
          "data": {
            "text/plain": [
              "Site                          1\n",
              "Value                      1847\n",
              "Units                         3\n",
              "Provisional or Ratified       1\n",
              "dtype: int64"
            ]
          },
          "metadata": {},
          "execution_count": 15
        }
      ]
    },
    {
      "cell_type": "code",
      "source": [
        "air_df['Value'].value_counts().sum()"
      ],
      "metadata": {
        "colab": {
          "base_uri": "https://localhost:8080/"
        },
        "id": "ZUvfV4OOcbCq",
        "outputId": "ba8adef5-fdd4-4bf6-f99c-617b674b1bea"
      },
      "execution_count": 250,
      "outputs": [
        {
          "output_type": "execute_result",
          "data": {
            "text/plain": [
              "40570"
            ]
          },
          "metadata": {},
          "execution_count": 250
        }
      ]
    },
    {
      "cell_type": "code",
      "source": [
        "air_df['Species'].value_counts()\n"
      ],
      "metadata": {
        "id": "inCKasmZEPsv",
        "colab": {
          "base_uri": "https://localhost:8080/"
        },
        "outputId": "55833744-47c3-45c0-8990-572c069b7e7b"
      },
      "execution_count": 240,
      "outputs": [
        {
          "output_type": "execute_result",
          "data": {
            "text/plain": [
              "NO       8760\n",
              "NO2      8760\n",
              "NOX      8760\n",
              "PM10     8760\n",
              "PM2.5    8760\n",
              "Name: Species, dtype: int64"
            ]
          },
          "metadata": {},
          "execution_count": 240
        }
      ]
    },
    {
      "cell_type": "code",
      "source": [
        "air_df['Species'].value_counts().shape"
      ],
      "metadata": {
        "colab": {
          "base_uri": "https://localhost:8080/"
        },
        "id": "0JL4ntbtbVgK",
        "outputId": "f4b6ed51-2de1-4ed6-ec01-08cb05dfd75b"
      },
      "execution_count": 251,
      "outputs": [
        {
          "output_type": "execute_result",
          "data": {
            "text/plain": [
              "(5,)"
            ]
          },
          "metadata": {},
          "execution_count": 251
        }
      ]
    },
    {
      "cell_type": "code",
      "source": [
        "air_df.drop(['Site','Provisional or Ratified'],axis=1)\n"
      ],
      "metadata": {
        "colab": {
          "base_uri": "https://localhost:8080/",
          "height": 423
        },
        "id": "rLpuNWhkmV06",
        "outputId": "aa2c92c5-5f3c-4bc4-9cf8-8c335872d8eb"
      },
      "execution_count": 279,
      "outputs": [
        {
          "output_type": "execute_result",
          "data": {
            "text/plain": [
              "      Species   ReadingDateTime  Value   Units\n",
              "0          NO  01/01/2017 00:00    3.5  ug m-3\n",
              "1          NO  01/01/2017 01:00    3.6  ug m-3\n",
              "2          NO  01/01/2017 02:00    2.2  ug m-3\n",
              "3          NO  01/01/2017 03:00    2.1  ug m-3\n",
              "4          NO  01/01/2017 04:00    3.3  ug m-3\n",
              "...       ...               ...    ...     ...\n",
              "43795   PM2.5  31/12/2017 19:00   -2.0  ug m-3\n",
              "43796   PM2.5  31/12/2017 20:00    6.0  ug m-3\n",
              "43797   PM2.5  31/12/2017 21:00    5.0  ug m-3\n",
              "43798   PM2.5  31/12/2017 22:00    5.0  ug m-3\n",
              "43799   PM2.5  31/12/2017 23:00    6.0  ug m-3\n",
              "\n",
              "[43800 rows x 4 columns]"
            ],
            "text/html": [
              "\n",
              "  <div id=\"df-2c7ede34-c226-4020-8283-2221956f13d5\">\n",
              "    <div class=\"colab-df-container\">\n",
              "      <div>\n",
              "<style scoped>\n",
              "    .dataframe tbody tr th:only-of-type {\n",
              "        vertical-align: middle;\n",
              "    }\n",
              "\n",
              "    .dataframe tbody tr th {\n",
              "        vertical-align: top;\n",
              "    }\n",
              "\n",
              "    .dataframe thead th {\n",
              "        text-align: right;\n",
              "    }\n",
              "</style>\n",
              "<table border=\"1\" class=\"dataframe\">\n",
              "  <thead>\n",
              "    <tr style=\"text-align: right;\">\n",
              "      <th></th>\n",
              "      <th>Species</th>\n",
              "      <th>ReadingDateTime</th>\n",
              "      <th>Value</th>\n",
              "      <th>Units</th>\n",
              "    </tr>\n",
              "  </thead>\n",
              "  <tbody>\n",
              "    <tr>\n",
              "      <th>0</th>\n",
              "      <td>NO</td>\n",
              "      <td>01/01/2017 00:00</td>\n",
              "      <td>3.5</td>\n",
              "      <td>ug m-3</td>\n",
              "    </tr>\n",
              "    <tr>\n",
              "      <th>1</th>\n",
              "      <td>NO</td>\n",
              "      <td>01/01/2017 01:00</td>\n",
              "      <td>3.6</td>\n",
              "      <td>ug m-3</td>\n",
              "    </tr>\n",
              "    <tr>\n",
              "      <th>2</th>\n",
              "      <td>NO</td>\n",
              "      <td>01/01/2017 02:00</td>\n",
              "      <td>2.2</td>\n",
              "      <td>ug m-3</td>\n",
              "    </tr>\n",
              "    <tr>\n",
              "      <th>3</th>\n",
              "      <td>NO</td>\n",
              "      <td>01/01/2017 03:00</td>\n",
              "      <td>2.1</td>\n",
              "      <td>ug m-3</td>\n",
              "    </tr>\n",
              "    <tr>\n",
              "      <th>4</th>\n",
              "      <td>NO</td>\n",
              "      <td>01/01/2017 04:00</td>\n",
              "      <td>3.3</td>\n",
              "      <td>ug m-3</td>\n",
              "    </tr>\n",
              "    <tr>\n",
              "      <th>...</th>\n",
              "      <td>...</td>\n",
              "      <td>...</td>\n",
              "      <td>...</td>\n",
              "      <td>...</td>\n",
              "    </tr>\n",
              "    <tr>\n",
              "      <th>43795</th>\n",
              "      <td>PM2.5</td>\n",
              "      <td>31/12/2017 19:00</td>\n",
              "      <td>-2.0</td>\n",
              "      <td>ug m-3</td>\n",
              "    </tr>\n",
              "    <tr>\n",
              "      <th>43796</th>\n",
              "      <td>PM2.5</td>\n",
              "      <td>31/12/2017 20:00</td>\n",
              "      <td>6.0</td>\n",
              "      <td>ug m-3</td>\n",
              "    </tr>\n",
              "    <tr>\n",
              "      <th>43797</th>\n",
              "      <td>PM2.5</td>\n",
              "      <td>31/12/2017 21:00</td>\n",
              "      <td>5.0</td>\n",
              "      <td>ug m-3</td>\n",
              "    </tr>\n",
              "    <tr>\n",
              "      <th>43798</th>\n",
              "      <td>PM2.5</td>\n",
              "      <td>31/12/2017 22:00</td>\n",
              "      <td>5.0</td>\n",
              "      <td>ug m-3</td>\n",
              "    </tr>\n",
              "    <tr>\n",
              "      <th>43799</th>\n",
              "      <td>PM2.5</td>\n",
              "      <td>31/12/2017 23:00</td>\n",
              "      <td>6.0</td>\n",
              "      <td>ug m-3</td>\n",
              "    </tr>\n",
              "  </tbody>\n",
              "</table>\n",
              "<p>43800 rows × 4 columns</p>\n",
              "</div>\n",
              "      <button class=\"colab-df-convert\" onclick=\"convertToInteractive('df-2c7ede34-c226-4020-8283-2221956f13d5')\"\n",
              "              title=\"Convert this dataframe to an interactive table.\"\n",
              "              style=\"display:none;\">\n",
              "        \n",
              "  <svg xmlns=\"http://www.w3.org/2000/svg\" height=\"24px\"viewBox=\"0 0 24 24\"\n",
              "       width=\"24px\">\n",
              "    <path d=\"M0 0h24v24H0V0z\" fill=\"none\"/>\n",
              "    <path d=\"M18.56 5.44l.94 2.06.94-2.06 2.06-.94-2.06-.94-.94-2.06-.94 2.06-2.06.94zm-11 1L8.5 8.5l.94-2.06 2.06-.94-2.06-.94L8.5 2.5l-.94 2.06-2.06.94zm10 10l.94 2.06.94-2.06 2.06-.94-2.06-.94-.94-2.06-.94 2.06-2.06.94z\"/><path d=\"M17.41 7.96l-1.37-1.37c-.4-.4-.92-.59-1.43-.59-.52 0-1.04.2-1.43.59L10.3 9.45l-7.72 7.72c-.78.78-.78 2.05 0 2.83L4 21.41c.39.39.9.59 1.41.59.51 0 1.02-.2 1.41-.59l7.78-7.78 2.81-2.81c.8-.78.8-2.07 0-2.86zM5.41 20L4 18.59l7.72-7.72 1.47 1.35L5.41 20z\"/>\n",
              "  </svg>\n",
              "      </button>\n",
              "      \n",
              "  <style>\n",
              "    .colab-df-container {\n",
              "      display:flex;\n",
              "      flex-wrap:wrap;\n",
              "      gap: 12px;\n",
              "    }\n",
              "\n",
              "    .colab-df-convert {\n",
              "      background-color: #E8F0FE;\n",
              "      border: none;\n",
              "      border-radius: 50%;\n",
              "      cursor: pointer;\n",
              "      display: none;\n",
              "      fill: #1967D2;\n",
              "      height: 32px;\n",
              "      padding: 0 0 0 0;\n",
              "      width: 32px;\n",
              "    }\n",
              "\n",
              "    .colab-df-convert:hover {\n",
              "      background-color: #E2EBFA;\n",
              "      box-shadow: 0px 1px 2px rgba(60, 64, 67, 0.3), 0px 1px 3px 1px rgba(60, 64, 67, 0.15);\n",
              "      fill: #174EA6;\n",
              "    }\n",
              "\n",
              "    [theme=dark] .colab-df-convert {\n",
              "      background-color: #3B4455;\n",
              "      fill: #D2E3FC;\n",
              "    }\n",
              "\n",
              "    [theme=dark] .colab-df-convert:hover {\n",
              "      background-color: #434B5C;\n",
              "      box-shadow: 0px 1px 3px 1px rgba(0, 0, 0, 0.15);\n",
              "      filter: drop-shadow(0px 1px 2px rgba(0, 0, 0, 0.3));\n",
              "      fill: #FFFFFF;\n",
              "    }\n",
              "  </style>\n",
              "\n",
              "      <script>\n",
              "        const buttonEl =\n",
              "          document.querySelector('#df-2c7ede34-c226-4020-8283-2221956f13d5 button.colab-df-convert');\n",
              "        buttonEl.style.display =\n",
              "          google.colab.kernel.accessAllowed ? 'block' : 'none';\n",
              "\n",
              "        async function convertToInteractive(key) {\n",
              "          const element = document.querySelector('#df-2c7ede34-c226-4020-8283-2221956f13d5');\n",
              "          const dataTable =\n",
              "            await google.colab.kernel.invokeFunction('convertToInteractive',\n",
              "                                                     [key], {});\n",
              "          if (!dataTable) return;\n",
              "\n",
              "          const docLinkHtml = 'Like what you see? Visit the ' +\n",
              "            '<a target=\"_blank\" href=https://colab.research.google.com/notebooks/data_table.ipynb>data table notebook</a>'\n",
              "            + ' to learn more about interactive tables.';\n",
              "          element.innerHTML = '';\n",
              "          dataTable['output_type'] = 'display_data';\n",
              "          await google.colab.output.renderOutput(dataTable, element);\n",
              "          const docLink = document.createElement('div');\n",
              "          docLink.innerHTML = docLinkHtml;\n",
              "          element.appendChild(docLink);\n",
              "        }\n",
              "      </script>\n",
              "    </div>\n",
              "  </div>\n",
              "  "
            ]
          },
          "metadata": {},
          "execution_count": 279
        }
      ]
    },
    {
      "cell_type": "code",
      "source": [
        "air_df.nunique().drop('Units')"
      ],
      "metadata": {
        "colab": {
          "base_uri": "https://localhost:8080/"
        },
        "id": "aC6q7RGPiWh6",
        "outputId": "9f40cc5b-16f7-403a-dce9-b7ef38d1866f"
      },
      "execution_count": 263,
      "outputs": [
        {
          "output_type": "execute_result",
          "data": {
            "text/plain": [
              "Site                          1\n",
              "Species                       5\n",
              "ReadingDateTime            8760\n",
              "Value                      1847\n",
              "Provisional or Ratified       1\n",
              "dtype: int64"
            ]
          },
          "metadata": {},
          "execution_count": 263
        }
      ]
    },
    {
      "cell_type": "markdown",
      "source": [
        "3.\tRealiza el conteo de valores por categoría (`value_counts()`) para la columna `Species` y determina si las lecturas de cada contaminante coincide con el total de mediciones."
      ],
      "metadata": {
        "id": "zEddCwHWEJZ7"
      }
    },
    {
      "cell_type": "code",
      "source": [
        "air_df['Species'].value_counts().sum()"
      ],
      "metadata": {
        "colab": {
          "base_uri": "https://localhost:8080/"
        },
        "id": "qa9MwNcAbcUE",
        "outputId": "87398d77-7589-4772-b49f-da4757864ec9"
      },
      "execution_count": 200,
      "outputs": [
        {
          "output_type": "execute_result",
          "data": {
            "text/plain": [
              "43800"
            ]
          },
          "metadata": {},
          "execution_count": 200
        }
      ]
    },
    {
      "cell_type": "code",
      "source": [
        "r=air_df['Species'].value_counts().sum() - air_df['Value'].value_counts().sum()\n",
        "print('faltaron')\n",
        "print(r) \n",
        "print('mediciones')"
      ],
      "metadata": {
        "colab": {
          "base_uri": "https://localhost:8080/"
        },
        "id": "xLNQ4F6kcjPK",
        "outputId": "698a1d08-c678-4dc7-ca63-19fec82016e9"
      },
      "execution_count": 217,
      "outputs": [
        {
          "output_type": "stream",
          "name": "stdout",
          "text": [
            "faltaron\n",
            "3230\n",
            "mediciones\n"
          ]
        }
      ]
    },
    {
      "cell_type": "code",
      "source": [],
      "metadata": {
        "id": "l_L_S0GRfYbR"
      },
      "execution_count": null,
      "outputs": []
    },
    {
      "cell_type": "markdown",
      "source": [
        "4.\tUtiliza la función `groupby()` para determinar el promedio del valor por contaminante."
      ],
      "metadata": {
        "id": "zhJM6l1vETfI"
      }
    },
    {
      "cell_type": "code",
      "source": [
        "air_df.groupby('Species').mean()"
      ],
      "metadata": {
        "id": "zstyHahSETJK",
        "colab": {
          "base_uri": "https://localhost:8080/",
          "height": 237
        },
        "outputId": "dab498d4-bca7-4926-cdeb-06909107e26c"
      },
      "execution_count": 347,
      "outputs": [
        {
          "output_type": "execute_result",
          "data": {
            "text/plain": [
              "             Value\n",
              "Species           \n",
              "NO       15.045115\n",
              "NO2      38.010185\n",
              "NOX      61.078661\n",
              "PM10     22.551704\n",
              "PM2.5    14.999831"
            ],
            "text/html": [
              "\n",
              "  <div id=\"df-f13166af-fb2a-4e47-90dd-a7e3b7d5c1ea\">\n",
              "    <div class=\"colab-df-container\">\n",
              "      <div>\n",
              "<style scoped>\n",
              "    .dataframe tbody tr th:only-of-type {\n",
              "        vertical-align: middle;\n",
              "    }\n",
              "\n",
              "    .dataframe tbody tr th {\n",
              "        vertical-align: top;\n",
              "    }\n",
              "\n",
              "    .dataframe thead th {\n",
              "        text-align: right;\n",
              "    }\n",
              "</style>\n",
              "<table border=\"1\" class=\"dataframe\">\n",
              "  <thead>\n",
              "    <tr style=\"text-align: right;\">\n",
              "      <th></th>\n",
              "      <th>Value</th>\n",
              "    </tr>\n",
              "    <tr>\n",
              "      <th>Species</th>\n",
              "      <th></th>\n",
              "    </tr>\n",
              "  </thead>\n",
              "  <tbody>\n",
              "    <tr>\n",
              "      <th>NO</th>\n",
              "      <td>15.045115</td>\n",
              "    </tr>\n",
              "    <tr>\n",
              "      <th>NO2</th>\n",
              "      <td>38.010185</td>\n",
              "    </tr>\n",
              "    <tr>\n",
              "      <th>NOX</th>\n",
              "      <td>61.078661</td>\n",
              "    </tr>\n",
              "    <tr>\n",
              "      <th>PM10</th>\n",
              "      <td>22.551704</td>\n",
              "    </tr>\n",
              "    <tr>\n",
              "      <th>PM2.5</th>\n",
              "      <td>14.999831</td>\n",
              "    </tr>\n",
              "  </tbody>\n",
              "</table>\n",
              "</div>\n",
              "      <button class=\"colab-df-convert\" onclick=\"convertToInteractive('df-f13166af-fb2a-4e47-90dd-a7e3b7d5c1ea')\"\n",
              "              title=\"Convert this dataframe to an interactive table.\"\n",
              "              style=\"display:none;\">\n",
              "        \n",
              "  <svg xmlns=\"http://www.w3.org/2000/svg\" height=\"24px\"viewBox=\"0 0 24 24\"\n",
              "       width=\"24px\">\n",
              "    <path d=\"M0 0h24v24H0V0z\" fill=\"none\"/>\n",
              "    <path d=\"M18.56 5.44l.94 2.06.94-2.06 2.06-.94-2.06-.94-.94-2.06-.94 2.06-2.06.94zm-11 1L8.5 8.5l.94-2.06 2.06-.94-2.06-.94L8.5 2.5l-.94 2.06-2.06.94zm10 10l.94 2.06.94-2.06 2.06-.94-2.06-.94-.94-2.06-.94 2.06-2.06.94z\"/><path d=\"M17.41 7.96l-1.37-1.37c-.4-.4-.92-.59-1.43-.59-.52 0-1.04.2-1.43.59L10.3 9.45l-7.72 7.72c-.78.78-.78 2.05 0 2.83L4 21.41c.39.39.9.59 1.41.59.51 0 1.02-.2 1.41-.59l7.78-7.78 2.81-2.81c.8-.78.8-2.07 0-2.86zM5.41 20L4 18.59l7.72-7.72 1.47 1.35L5.41 20z\"/>\n",
              "  </svg>\n",
              "      </button>\n",
              "      \n",
              "  <style>\n",
              "    .colab-df-container {\n",
              "      display:flex;\n",
              "      flex-wrap:wrap;\n",
              "      gap: 12px;\n",
              "    }\n",
              "\n",
              "    .colab-df-convert {\n",
              "      background-color: #E8F0FE;\n",
              "      border: none;\n",
              "      border-radius: 50%;\n",
              "      cursor: pointer;\n",
              "      display: none;\n",
              "      fill: #1967D2;\n",
              "      height: 32px;\n",
              "      padding: 0 0 0 0;\n",
              "      width: 32px;\n",
              "    }\n",
              "\n",
              "    .colab-df-convert:hover {\n",
              "      background-color: #E2EBFA;\n",
              "      box-shadow: 0px 1px 2px rgba(60, 64, 67, 0.3), 0px 1px 3px 1px rgba(60, 64, 67, 0.15);\n",
              "      fill: #174EA6;\n",
              "    }\n",
              "\n",
              "    [theme=dark] .colab-df-convert {\n",
              "      background-color: #3B4455;\n",
              "      fill: #D2E3FC;\n",
              "    }\n",
              "\n",
              "    [theme=dark] .colab-df-convert:hover {\n",
              "      background-color: #434B5C;\n",
              "      box-shadow: 0px 1px 3px 1px rgba(0, 0, 0, 0.15);\n",
              "      filter: drop-shadow(0px 1px 2px rgba(0, 0, 0, 0.3));\n",
              "      fill: #FFFFFF;\n",
              "    }\n",
              "  </style>\n",
              "\n",
              "      <script>\n",
              "        const buttonEl =\n",
              "          document.querySelector('#df-f13166af-fb2a-4e47-90dd-a7e3b7d5c1ea button.colab-df-convert');\n",
              "        buttonEl.style.display =\n",
              "          google.colab.kernel.accessAllowed ? 'block' : 'none';\n",
              "\n",
              "        async function convertToInteractive(key) {\n",
              "          const element = document.querySelector('#df-f13166af-fb2a-4e47-90dd-a7e3b7d5c1ea');\n",
              "          const dataTable =\n",
              "            await google.colab.kernel.invokeFunction('convertToInteractive',\n",
              "                                                     [key], {});\n",
              "          if (!dataTable) return;\n",
              "\n",
              "          const docLinkHtml = 'Like what you see? Visit the ' +\n",
              "            '<a target=\"_blank\" href=https://colab.research.google.com/notebooks/data_table.ipynb>data table notebook</a>'\n",
              "            + ' to learn more about interactive tables.';\n",
              "          element.innerHTML = '';\n",
              "          dataTable['output_type'] = 'display_data';\n",
              "          await google.colab.output.renderOutput(dataTable, element);\n",
              "          const docLink = document.createElement('div');\n",
              "          docLink.innerHTML = docLinkHtml;\n",
              "          element.appendChild(docLink);\n",
              "        }\n",
              "      </script>\n",
              "    </div>\n",
              "  </div>\n",
              "  "
            ]
          },
          "metadata": {},
          "execution_count": 347
        }
      ]
    },
    {
      "cell_type": "markdown",
      "source": [
        "5.\tEl conjunto de datos está en un formato largo. Aplique la función apropiada para cambiarlo al formato ancho (`ReadingDateTime` como índice y cada contaminante en una columna). Nombre el dataframe resultante como `pvt_df`."
      ],
      "metadata": {
        "id": "GY2ux-Q_EV7J"
      }
    },
    {
      "cell_type": "code",
      "source": [
        "Species=air_df['Species']\n",
        "RDT=air_df['ReadingDateTime']\n",
        "Value=air_df['Value']\n",
        "pvt_df=pd.DataFrame(Species)\n",
        "pvt_df\n"
      ],
      "metadata": {
        "colab": {
          "base_uri": "https://localhost:8080/",
          "height": 423
        },
        "id": "AMIGUOu0qG3D",
        "outputId": "dd1efbe7-55e8-4736-f756-7fe37094a75a"
      },
      "execution_count": 30,
      "outputs": [
        {
          "output_type": "execute_result",
          "data": {
            "text/plain": [
              "      Species\n",
              "0          NO\n",
              "1          NO\n",
              "2          NO\n",
              "3          NO\n",
              "4          NO\n",
              "...       ...\n",
              "43795   PM2.5\n",
              "43796   PM2.5\n",
              "43797   PM2.5\n",
              "43798   PM2.5\n",
              "43799   PM2.5\n",
              "\n",
              "[43800 rows x 1 columns]"
            ],
            "text/html": [
              "\n",
              "  <div id=\"df-7cb3527c-03c3-4e30-beef-b381cea7bf09\">\n",
              "    <div class=\"colab-df-container\">\n",
              "      <div>\n",
              "<style scoped>\n",
              "    .dataframe tbody tr th:only-of-type {\n",
              "        vertical-align: middle;\n",
              "    }\n",
              "\n",
              "    .dataframe tbody tr th {\n",
              "        vertical-align: top;\n",
              "    }\n",
              "\n",
              "    .dataframe thead th {\n",
              "        text-align: right;\n",
              "    }\n",
              "</style>\n",
              "<table border=\"1\" class=\"dataframe\">\n",
              "  <thead>\n",
              "    <tr style=\"text-align: right;\">\n",
              "      <th></th>\n",
              "      <th>Species</th>\n",
              "    </tr>\n",
              "  </thead>\n",
              "  <tbody>\n",
              "    <tr>\n",
              "      <th>0</th>\n",
              "      <td>NO</td>\n",
              "    </tr>\n",
              "    <tr>\n",
              "      <th>1</th>\n",
              "      <td>NO</td>\n",
              "    </tr>\n",
              "    <tr>\n",
              "      <th>2</th>\n",
              "      <td>NO</td>\n",
              "    </tr>\n",
              "    <tr>\n",
              "      <th>3</th>\n",
              "      <td>NO</td>\n",
              "    </tr>\n",
              "    <tr>\n",
              "      <th>4</th>\n",
              "      <td>NO</td>\n",
              "    </tr>\n",
              "    <tr>\n",
              "      <th>...</th>\n",
              "      <td>...</td>\n",
              "    </tr>\n",
              "    <tr>\n",
              "      <th>43795</th>\n",
              "      <td>PM2.5</td>\n",
              "    </tr>\n",
              "    <tr>\n",
              "      <th>43796</th>\n",
              "      <td>PM2.5</td>\n",
              "    </tr>\n",
              "    <tr>\n",
              "      <th>43797</th>\n",
              "      <td>PM2.5</td>\n",
              "    </tr>\n",
              "    <tr>\n",
              "      <th>43798</th>\n",
              "      <td>PM2.5</td>\n",
              "    </tr>\n",
              "    <tr>\n",
              "      <th>43799</th>\n",
              "      <td>PM2.5</td>\n",
              "    </tr>\n",
              "  </tbody>\n",
              "</table>\n",
              "<p>43800 rows × 1 columns</p>\n",
              "</div>\n",
              "      <button class=\"colab-df-convert\" onclick=\"convertToInteractive('df-7cb3527c-03c3-4e30-beef-b381cea7bf09')\"\n",
              "              title=\"Convert this dataframe to an interactive table.\"\n",
              "              style=\"display:none;\">\n",
              "        \n",
              "  <svg xmlns=\"http://www.w3.org/2000/svg\" height=\"24px\"viewBox=\"0 0 24 24\"\n",
              "       width=\"24px\">\n",
              "    <path d=\"M0 0h24v24H0V0z\" fill=\"none\"/>\n",
              "    <path d=\"M18.56 5.44l.94 2.06.94-2.06 2.06-.94-2.06-.94-.94-2.06-.94 2.06-2.06.94zm-11 1L8.5 8.5l.94-2.06 2.06-.94-2.06-.94L8.5 2.5l-.94 2.06-2.06.94zm10 10l.94 2.06.94-2.06 2.06-.94-2.06-.94-.94-2.06-.94 2.06-2.06.94z\"/><path d=\"M17.41 7.96l-1.37-1.37c-.4-.4-.92-.59-1.43-.59-.52 0-1.04.2-1.43.59L10.3 9.45l-7.72 7.72c-.78.78-.78 2.05 0 2.83L4 21.41c.39.39.9.59 1.41.59.51 0 1.02-.2 1.41-.59l7.78-7.78 2.81-2.81c.8-.78.8-2.07 0-2.86zM5.41 20L4 18.59l7.72-7.72 1.47 1.35L5.41 20z\"/>\n",
              "  </svg>\n",
              "      </button>\n",
              "      \n",
              "  <style>\n",
              "    .colab-df-container {\n",
              "      display:flex;\n",
              "      flex-wrap:wrap;\n",
              "      gap: 12px;\n",
              "    }\n",
              "\n",
              "    .colab-df-convert {\n",
              "      background-color: #E8F0FE;\n",
              "      border: none;\n",
              "      border-radius: 50%;\n",
              "      cursor: pointer;\n",
              "      display: none;\n",
              "      fill: #1967D2;\n",
              "      height: 32px;\n",
              "      padding: 0 0 0 0;\n",
              "      width: 32px;\n",
              "    }\n",
              "\n",
              "    .colab-df-convert:hover {\n",
              "      background-color: #E2EBFA;\n",
              "      box-shadow: 0px 1px 2px rgba(60, 64, 67, 0.3), 0px 1px 3px 1px rgba(60, 64, 67, 0.15);\n",
              "      fill: #174EA6;\n",
              "    }\n",
              "\n",
              "    [theme=dark] .colab-df-convert {\n",
              "      background-color: #3B4455;\n",
              "      fill: #D2E3FC;\n",
              "    }\n",
              "\n",
              "    [theme=dark] .colab-df-convert:hover {\n",
              "      background-color: #434B5C;\n",
              "      box-shadow: 0px 1px 3px 1px rgba(0, 0, 0, 0.15);\n",
              "      filter: drop-shadow(0px 1px 2px rgba(0, 0, 0, 0.3));\n",
              "      fill: #FFFFFF;\n",
              "    }\n",
              "  </style>\n",
              "\n",
              "      <script>\n",
              "        const buttonEl =\n",
              "          document.querySelector('#df-7cb3527c-03c3-4e30-beef-b381cea7bf09 button.colab-df-convert');\n",
              "        buttonEl.style.display =\n",
              "          google.colab.kernel.accessAllowed ? 'block' : 'none';\n",
              "\n",
              "        async function convertToInteractive(key) {\n",
              "          const element = document.querySelector('#df-7cb3527c-03c3-4e30-beef-b381cea7bf09');\n",
              "          const dataTable =\n",
              "            await google.colab.kernel.invokeFunction('convertToInteractive',\n",
              "                                                     [key], {});\n",
              "          if (!dataTable) return;\n",
              "\n",
              "          const docLinkHtml = 'Like what you see? Visit the ' +\n",
              "            '<a target=\"_blank\" href=https://colab.research.google.com/notebooks/data_table.ipynb>data table notebook</a>'\n",
              "            + ' to learn more about interactive tables.';\n",
              "          element.innerHTML = '';\n",
              "          dataTable['output_type'] = 'display_data';\n",
              "          await google.colab.output.renderOutput(dataTable, element);\n",
              "          const docLink = document.createElement('div');\n",
              "          docLink.innerHTML = docLinkHtml;\n",
              "          element.appendChild(docLink);\n",
              "        }\n",
              "      </script>\n",
              "    </div>\n",
              "  </div>\n",
              "  "
            ]
          },
          "metadata": {},
          "execution_count": 30
        }
      ]
    },
    {
      "cell_type": "markdown",
      "source": [
        "6.\tA través de la función `describe()` responde:\n",
        "\n",
        "*   ¿Cuál es el mayor valor de `NO2` registrado? ¿A qué día pertenece?\n",
        "*   ¿Cuál es el menor valor de `PM10` registrado?¿A qué día pertenece?\n",
        "*   ¿Cuál es la mediana del `NO`? ¿Cómo se interpreta?\n",
        "*   ¿Cuál es el primer cuartil de `PM2.5`? ¿Qué significa?"
      ],
      "metadata": {
        "id": "JmbiBXqFFIZx"
      }
    },
    {
      "cell_type": "code",
      "source": [
        "pvt_df.describe()"
      ],
      "metadata": {
        "id": "_qWYoEx3Fbod",
        "colab": {
          "base_uri": "https://localhost:8080/",
          "height": 300
        },
        "outputId": "3200eba1-b94e-4845-b317-9df13a92e7cf"
      },
      "execution_count": 27,
      "outputs": [
        {
          "output_type": "execute_result",
          "data": {
            "text/plain": [
              "              Value\n",
              "count  40570.000000\n",
              "mean      31.368602\n",
              "std       35.343362\n",
              "min       -8.000000\n",
              "25%       11.000000\n",
              "50%       22.100000\n",
              "75%       40.900000\n",
              "max      734.299990"
            ],
            "text/html": [
              "\n",
              "  <div id=\"df-e9a96d7c-e8e4-477f-9f70-32962b4076e2\">\n",
              "    <div class=\"colab-df-container\">\n",
              "      <div>\n",
              "<style scoped>\n",
              "    .dataframe tbody tr th:only-of-type {\n",
              "        vertical-align: middle;\n",
              "    }\n",
              "\n",
              "    .dataframe tbody tr th {\n",
              "        vertical-align: top;\n",
              "    }\n",
              "\n",
              "    .dataframe thead th {\n",
              "        text-align: right;\n",
              "    }\n",
              "</style>\n",
              "<table border=\"1\" class=\"dataframe\">\n",
              "  <thead>\n",
              "    <tr style=\"text-align: right;\">\n",
              "      <th></th>\n",
              "      <th>Value</th>\n",
              "    </tr>\n",
              "  </thead>\n",
              "  <tbody>\n",
              "    <tr>\n",
              "      <th>count</th>\n",
              "      <td>40570.000000</td>\n",
              "    </tr>\n",
              "    <tr>\n",
              "      <th>mean</th>\n",
              "      <td>31.368602</td>\n",
              "    </tr>\n",
              "    <tr>\n",
              "      <th>std</th>\n",
              "      <td>35.343362</td>\n",
              "    </tr>\n",
              "    <tr>\n",
              "      <th>min</th>\n",
              "      <td>-8.000000</td>\n",
              "    </tr>\n",
              "    <tr>\n",
              "      <th>25%</th>\n",
              "      <td>11.000000</td>\n",
              "    </tr>\n",
              "    <tr>\n",
              "      <th>50%</th>\n",
              "      <td>22.100000</td>\n",
              "    </tr>\n",
              "    <tr>\n",
              "      <th>75%</th>\n",
              "      <td>40.900000</td>\n",
              "    </tr>\n",
              "    <tr>\n",
              "      <th>max</th>\n",
              "      <td>734.299990</td>\n",
              "    </tr>\n",
              "  </tbody>\n",
              "</table>\n",
              "</div>\n",
              "      <button class=\"colab-df-convert\" onclick=\"convertToInteractive('df-e9a96d7c-e8e4-477f-9f70-32962b4076e2')\"\n",
              "              title=\"Convert this dataframe to an interactive table.\"\n",
              "              style=\"display:none;\">\n",
              "        \n",
              "  <svg xmlns=\"http://www.w3.org/2000/svg\" height=\"24px\"viewBox=\"0 0 24 24\"\n",
              "       width=\"24px\">\n",
              "    <path d=\"M0 0h24v24H0V0z\" fill=\"none\"/>\n",
              "    <path d=\"M18.56 5.44l.94 2.06.94-2.06 2.06-.94-2.06-.94-.94-2.06-.94 2.06-2.06.94zm-11 1L8.5 8.5l.94-2.06 2.06-.94-2.06-.94L8.5 2.5l-.94 2.06-2.06.94zm10 10l.94 2.06.94-2.06 2.06-.94-2.06-.94-.94-2.06-.94 2.06-2.06.94z\"/><path d=\"M17.41 7.96l-1.37-1.37c-.4-.4-.92-.59-1.43-.59-.52 0-1.04.2-1.43.59L10.3 9.45l-7.72 7.72c-.78.78-.78 2.05 0 2.83L4 21.41c.39.39.9.59 1.41.59.51 0 1.02-.2 1.41-.59l7.78-7.78 2.81-2.81c.8-.78.8-2.07 0-2.86zM5.41 20L4 18.59l7.72-7.72 1.47 1.35L5.41 20z\"/>\n",
              "  </svg>\n",
              "      </button>\n",
              "      \n",
              "  <style>\n",
              "    .colab-df-container {\n",
              "      display:flex;\n",
              "      flex-wrap:wrap;\n",
              "      gap: 12px;\n",
              "    }\n",
              "\n",
              "    .colab-df-convert {\n",
              "      background-color: #E8F0FE;\n",
              "      border: none;\n",
              "      border-radius: 50%;\n",
              "      cursor: pointer;\n",
              "      display: none;\n",
              "      fill: #1967D2;\n",
              "      height: 32px;\n",
              "      padding: 0 0 0 0;\n",
              "      width: 32px;\n",
              "    }\n",
              "\n",
              "    .colab-df-convert:hover {\n",
              "      background-color: #E2EBFA;\n",
              "      box-shadow: 0px 1px 2px rgba(60, 64, 67, 0.3), 0px 1px 3px 1px rgba(60, 64, 67, 0.15);\n",
              "      fill: #174EA6;\n",
              "    }\n",
              "\n",
              "    [theme=dark] .colab-df-convert {\n",
              "      background-color: #3B4455;\n",
              "      fill: #D2E3FC;\n",
              "    }\n",
              "\n",
              "    [theme=dark] .colab-df-convert:hover {\n",
              "      background-color: #434B5C;\n",
              "      box-shadow: 0px 1px 3px 1px rgba(0, 0, 0, 0.15);\n",
              "      filter: drop-shadow(0px 1px 2px rgba(0, 0, 0, 0.3));\n",
              "      fill: #FFFFFF;\n",
              "    }\n",
              "  </style>\n",
              "\n",
              "      <script>\n",
              "        const buttonEl =\n",
              "          document.querySelector('#df-e9a96d7c-e8e4-477f-9f70-32962b4076e2 button.colab-df-convert');\n",
              "        buttonEl.style.display =\n",
              "          google.colab.kernel.accessAllowed ? 'block' : 'none';\n",
              "\n",
              "        async function convertToInteractive(key) {\n",
              "          const element = document.querySelector('#df-e9a96d7c-e8e4-477f-9f70-32962b4076e2');\n",
              "          const dataTable =\n",
              "            await google.colab.kernel.invokeFunction('convertToInteractive',\n",
              "                                                     [key], {});\n",
              "          if (!dataTable) return;\n",
              "\n",
              "          const docLinkHtml = 'Like what you see? Visit the ' +\n",
              "            '<a target=\"_blank\" href=https://colab.research.google.com/notebooks/data_table.ipynb>data table notebook</a>'\n",
              "            + ' to learn more about interactive tables.';\n",
              "          element.innerHTML = '';\n",
              "          dataTable['output_type'] = 'display_data';\n",
              "          await google.colab.output.renderOutput(dataTable, element);\n",
              "          const docLink = document.createElement('div');\n",
              "          docLink.innerHTML = docLinkHtml;\n",
              "          element.appendChild(docLink);\n",
              "        }\n",
              "      </script>\n",
              "    </div>\n",
              "  </div>\n",
              "  "
            ]
          },
          "metadata": {},
          "execution_count": 27
        }
      ]
    },
    {
      "cell_type": "markdown",
      "source": [
        "7.\tDibuja un histograma para cada columna de `pvt_df`. ¿Qué contaminante tiene mayor variabilidad?"
      ],
      "metadata": {
        "id": "Rki16hYaFd9p"
      }
    },
    {
      "cell_type": "code",
      "source": [],
      "metadata": {
        "id": "NaGkunSeFfn8"
      },
      "execution_count": null,
      "outputs": []
    },
    {
      "cell_type": "markdown",
      "source": [
        "8.\tEjecuta el siguiente código y comenta qué hace cada línea:"
      ],
      "metadata": {
        "id": "2hJ4LzP3fgvy"
      }
    },
    {
      "cell_type": "code",
      "source": [
        "datetime_df = air_df.ReadingDateTime.str.split(' ',expand=True)\n",
        "datetime_df.columns = ['Date','Time']\n",
        "datetime_df\n",
        "date_df = datetime_df.Date.str.split('/',expand=True)\n",
        "date_df.columns = ['Day','Month','Year']\n",
        "date_df\n",
        "air_df = air_df.join(date_df).join(datetime_df.Time).drop(columns=['ReadingDateTime','Year'])\n",
        "air_df = air_df.set_index(['Month','Day','Time','Species'])\n",
        "air_df"
      ],
      "metadata": {
        "id": "goQuWzNVfomA",
        "colab": {
          "base_uri": "https://localhost:8080/",
          "height": 455
        },
        "outputId": "9fe56292-b0af-4df7-f087-2858561b9a22"
      },
      "execution_count": 12,
      "outputs": [
        {
          "output_type": "execute_result",
          "data": {
            "text/plain": [
              "                        Site  Value   Units Provisional or Ratified\n",
              "Month Day Time  Species                                            \n",
              "01    01  00:00 NO       CT3    3.5  ug m-3                       R\n",
              "          01:00 NO       CT3    3.6  ug m-3                       R\n",
              "          02:00 NO       CT3    2.2  ug m-3                       R\n",
              "          03:00 NO       CT3    2.1  ug m-3                       R\n",
              "          04:00 NO       CT3    3.3  ug m-3                       R\n",
              "...                      ...    ...     ...                     ...\n",
              "12    31  19:00 PM2.5    CT3   -2.0  ug m-3                       R\n",
              "          20:00 PM2.5    CT3    6.0  ug m-3                       R\n",
              "          21:00 PM2.5    CT3    5.0  ug m-3                       R\n",
              "          22:00 PM2.5    CT3    5.0  ug m-3                       R\n",
              "          23:00 PM2.5    CT3    6.0  ug m-3                       R\n",
              "\n",
              "[43800 rows x 4 columns]"
            ],
            "text/html": [
              "\n",
              "  <div id=\"df-85da98f8-9751-46bc-8442-07b93f11e55f\">\n",
              "    <div class=\"colab-df-container\">\n",
              "      <div>\n",
              "<style scoped>\n",
              "    .dataframe tbody tr th:only-of-type {\n",
              "        vertical-align: middle;\n",
              "    }\n",
              "\n",
              "    .dataframe tbody tr th {\n",
              "        vertical-align: top;\n",
              "    }\n",
              "\n",
              "    .dataframe thead th {\n",
              "        text-align: right;\n",
              "    }\n",
              "</style>\n",
              "<table border=\"1\" class=\"dataframe\">\n",
              "  <thead>\n",
              "    <tr style=\"text-align: right;\">\n",
              "      <th></th>\n",
              "      <th></th>\n",
              "      <th></th>\n",
              "      <th></th>\n",
              "      <th>Site</th>\n",
              "      <th>Value</th>\n",
              "      <th>Units</th>\n",
              "      <th>Provisional or Ratified</th>\n",
              "    </tr>\n",
              "    <tr>\n",
              "      <th>Month</th>\n",
              "      <th>Day</th>\n",
              "      <th>Time</th>\n",
              "      <th>Species</th>\n",
              "      <th></th>\n",
              "      <th></th>\n",
              "      <th></th>\n",
              "      <th></th>\n",
              "    </tr>\n",
              "  </thead>\n",
              "  <tbody>\n",
              "    <tr>\n",
              "      <th rowspan=\"5\" valign=\"top\">01</th>\n",
              "      <th rowspan=\"5\" valign=\"top\">01</th>\n",
              "      <th>00:00</th>\n",
              "      <th>NO</th>\n",
              "      <td>CT3</td>\n",
              "      <td>3.5</td>\n",
              "      <td>ug m-3</td>\n",
              "      <td>R</td>\n",
              "    </tr>\n",
              "    <tr>\n",
              "      <th>01:00</th>\n",
              "      <th>NO</th>\n",
              "      <td>CT3</td>\n",
              "      <td>3.6</td>\n",
              "      <td>ug m-3</td>\n",
              "      <td>R</td>\n",
              "    </tr>\n",
              "    <tr>\n",
              "      <th>02:00</th>\n",
              "      <th>NO</th>\n",
              "      <td>CT3</td>\n",
              "      <td>2.2</td>\n",
              "      <td>ug m-3</td>\n",
              "      <td>R</td>\n",
              "    </tr>\n",
              "    <tr>\n",
              "      <th>03:00</th>\n",
              "      <th>NO</th>\n",
              "      <td>CT3</td>\n",
              "      <td>2.1</td>\n",
              "      <td>ug m-3</td>\n",
              "      <td>R</td>\n",
              "    </tr>\n",
              "    <tr>\n",
              "      <th>04:00</th>\n",
              "      <th>NO</th>\n",
              "      <td>CT3</td>\n",
              "      <td>3.3</td>\n",
              "      <td>ug m-3</td>\n",
              "      <td>R</td>\n",
              "    </tr>\n",
              "    <tr>\n",
              "      <th>...</th>\n",
              "      <th>...</th>\n",
              "      <th>...</th>\n",
              "      <th>...</th>\n",
              "      <td>...</td>\n",
              "      <td>...</td>\n",
              "      <td>...</td>\n",
              "      <td>...</td>\n",
              "    </tr>\n",
              "    <tr>\n",
              "      <th rowspan=\"5\" valign=\"top\">12</th>\n",
              "      <th rowspan=\"5\" valign=\"top\">31</th>\n",
              "      <th>19:00</th>\n",
              "      <th>PM2.5</th>\n",
              "      <td>CT3</td>\n",
              "      <td>-2.0</td>\n",
              "      <td>ug m-3</td>\n",
              "      <td>R</td>\n",
              "    </tr>\n",
              "    <tr>\n",
              "      <th>20:00</th>\n",
              "      <th>PM2.5</th>\n",
              "      <td>CT3</td>\n",
              "      <td>6.0</td>\n",
              "      <td>ug m-3</td>\n",
              "      <td>R</td>\n",
              "    </tr>\n",
              "    <tr>\n",
              "      <th>21:00</th>\n",
              "      <th>PM2.5</th>\n",
              "      <td>CT3</td>\n",
              "      <td>5.0</td>\n",
              "      <td>ug m-3</td>\n",
              "      <td>R</td>\n",
              "    </tr>\n",
              "    <tr>\n",
              "      <th>22:00</th>\n",
              "      <th>PM2.5</th>\n",
              "      <td>CT3</td>\n",
              "      <td>5.0</td>\n",
              "      <td>ug m-3</td>\n",
              "      <td>R</td>\n",
              "    </tr>\n",
              "    <tr>\n",
              "      <th>23:00</th>\n",
              "      <th>PM2.5</th>\n",
              "      <td>CT3</td>\n",
              "      <td>6.0</td>\n",
              "      <td>ug m-3</td>\n",
              "      <td>R</td>\n",
              "    </tr>\n",
              "  </tbody>\n",
              "</table>\n",
              "<p>43800 rows × 4 columns</p>\n",
              "</div>\n",
              "      <button class=\"colab-df-convert\" onclick=\"convertToInteractive('df-85da98f8-9751-46bc-8442-07b93f11e55f')\"\n",
              "              title=\"Convert this dataframe to an interactive table.\"\n",
              "              style=\"display:none;\">\n",
              "        \n",
              "  <svg xmlns=\"http://www.w3.org/2000/svg\" height=\"24px\"viewBox=\"0 0 24 24\"\n",
              "       width=\"24px\">\n",
              "    <path d=\"M0 0h24v24H0V0z\" fill=\"none\"/>\n",
              "    <path d=\"M18.56 5.44l.94 2.06.94-2.06 2.06-.94-2.06-.94-.94-2.06-.94 2.06-2.06.94zm-11 1L8.5 8.5l.94-2.06 2.06-.94-2.06-.94L8.5 2.5l-.94 2.06-2.06.94zm10 10l.94 2.06.94-2.06 2.06-.94-2.06-.94-.94-2.06-.94 2.06-2.06.94z\"/><path d=\"M17.41 7.96l-1.37-1.37c-.4-.4-.92-.59-1.43-.59-.52 0-1.04.2-1.43.59L10.3 9.45l-7.72 7.72c-.78.78-.78 2.05 0 2.83L4 21.41c.39.39.9.59 1.41.59.51 0 1.02-.2 1.41-.59l7.78-7.78 2.81-2.81c.8-.78.8-2.07 0-2.86zM5.41 20L4 18.59l7.72-7.72 1.47 1.35L5.41 20z\"/>\n",
              "  </svg>\n",
              "      </button>\n",
              "      \n",
              "  <style>\n",
              "    .colab-df-container {\n",
              "      display:flex;\n",
              "      flex-wrap:wrap;\n",
              "      gap: 12px;\n",
              "    }\n",
              "\n",
              "    .colab-df-convert {\n",
              "      background-color: #E8F0FE;\n",
              "      border: none;\n",
              "      border-radius: 50%;\n",
              "      cursor: pointer;\n",
              "      display: none;\n",
              "      fill: #1967D2;\n",
              "      height: 32px;\n",
              "      padding: 0 0 0 0;\n",
              "      width: 32px;\n",
              "    }\n",
              "\n",
              "    .colab-df-convert:hover {\n",
              "      background-color: #E2EBFA;\n",
              "      box-shadow: 0px 1px 2px rgba(60, 64, 67, 0.3), 0px 1px 3px 1px rgba(60, 64, 67, 0.15);\n",
              "      fill: #174EA6;\n",
              "    }\n",
              "\n",
              "    [theme=dark] .colab-df-convert {\n",
              "      background-color: #3B4455;\n",
              "      fill: #D2E3FC;\n",
              "    }\n",
              "\n",
              "    [theme=dark] .colab-df-convert:hover {\n",
              "      background-color: #434B5C;\n",
              "      box-shadow: 0px 1px 3px 1px rgba(0, 0, 0, 0.15);\n",
              "      filter: drop-shadow(0px 1px 2px rgba(0, 0, 0, 0.3));\n",
              "      fill: #FFFFFF;\n",
              "    }\n",
              "  </style>\n",
              "\n",
              "      <script>\n",
              "        const buttonEl =\n",
              "          document.querySelector('#df-85da98f8-9751-46bc-8442-07b93f11e55f button.colab-df-convert');\n",
              "        buttonEl.style.display =\n",
              "          google.colab.kernel.accessAllowed ? 'block' : 'none';\n",
              "\n",
              "        async function convertToInteractive(key) {\n",
              "          const element = document.querySelector('#df-85da98f8-9751-46bc-8442-07b93f11e55f');\n",
              "          const dataTable =\n",
              "            await google.colab.kernel.invokeFunction('convertToInteractive',\n",
              "                                                     [key], {});\n",
              "          if (!dataTable) return;\n",
              "\n",
              "          const docLinkHtml = 'Like what you see? Visit the ' +\n",
              "            '<a target=\"_blank\" href=https://colab.research.google.com/notebooks/data_table.ipynb>data table notebook</a>'\n",
              "            + ' to learn more about interactive tables.';\n",
              "          element.innerHTML = '';\n",
              "          dataTable['output_type'] = 'display_data';\n",
              "          await google.colab.output.renderOutput(dataTable, element);\n",
              "          const docLink = document.createElement('div');\n",
              "          docLink.innerHTML = docLinkHtml;\n",
              "          element.appendChild(docLink);\n",
              "        }\n",
              "      </script>\n",
              "    </div>\n",
              "  </div>\n",
              "  "
            ]
          },
          "metadata": {},
          "execution_count": 12
        }
      ]
    },
    {
      "cell_type": "markdown",
      "source": [
        "9. Ejecuta la siguiente instrucción y compara la salida del código anterior con `pvt_df` del ejercicio 8. ¿Son iguales? NO"
      ],
      "metadata": {
        "id": "37E3dol8fpik"
      }
    },
    {
      "cell_type": "code",
      "source": [
        "air_df.unstack()"
      ],
      "metadata": {
        "id": "cgbAxJrvfweW",
        "colab": {
          "base_uri": "https://localhost:8080/"
        },
        "outputId": "8de991cc-256d-4ad4-9435-453263de407d"
      },
      "execution_count": 329,
      "outputs": [
        {
          "output_type": "execute_result",
          "data": {
            "text/plain": [
              "Site                     0        CT3\n",
              "                         1        CT3\n",
              "                         2        CT3\n",
              "                         3        CT3\n",
              "                         4        CT3\n",
              "                                 ... \n",
              "Provisional or Ratified  43795      R\n",
              "                         43796      R\n",
              "                         43797      R\n",
              "                         43798      R\n",
              "                         43799      R\n",
              "Length: 262800, dtype: object"
            ]
          },
          "metadata": {},
          "execution_count": 329
        }
      ]
    },
    {
      "cell_type": "markdown",
      "source": [
        "10.\tExplica cuáles son las diferencias y similitudes entre el par `melt()/pivot()` y el par `stack()/unstack()`. Si tuvieras que elegir una contraparte para `melt()` entre `stack()/unstack()`, ¿cuál elegirías? ¿Por qué?"
      ],
      "metadata": {
        "id": "K1vWLX2ffxHV"
      }
    },
    {
      "cell_type": "markdown",
      "source": [],
      "metadata": {
        "id": "L0EtgOVIfzRd"
      }
    }
  ]
}