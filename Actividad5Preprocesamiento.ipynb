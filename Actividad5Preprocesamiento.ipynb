{
  "cells": [
    {
      "cell_type": "markdown",
      "metadata": {
        "id": "view-in-github",
        "colab_type": "text"
      },
      "source": [
        "<a href=\"https://colab.research.google.com/github/CastilloGabriela/Hands-On-Data-Preprocessing-in-Python/blob/main/Actividad5Preprocesamiento.ipynb\" target=\"_parent\"><img src=\"https://colab.research.google.com/assets/colab-badge.svg\" alt=\"Open In Colab\"/></a>"
      ]
    },
    {
      "cell_type": "markdown",
      "metadata": {
        "id": "0v5lZjzQZTms"
      },
      "source": [
        "**MAESTRÍA EN INTELIGENCIA ARTIFICIAL APLICADA**\n",
        "\n",
        "**Curso: TC4029 - Ciencia y analítica de datos**\n",
        "\n",
        "Tecnológico de Monterrey\n",
        "\n",
        "Prof Grettel Barceló Alonso\n",
        "\n",
        "**Semana 5**\n",
        "Preprocesamiento de datos\n",
        "\n",
        "---"
      ]
    },
    {
      "cell_type": "markdown",
      "source": [
        "*   NOMBRE: NANCY GABRIELA GONZALEZ CASTILLO\n",
        "*   MATRÍCULA: A01794546"
      ],
      "metadata": {
        "id": "HfLoXtuKuCug"
      }
    },
    {
      "cell_type": "code",
      "source": [
        "from google.colab import drive\n",
        "drive.mount('/content/drive')"
      ],
      "metadata": {
        "id": "nboaPqUVuHQc",
        "colab": {
          "base_uri": "https://localhost:8080/"
        },
        "outputId": "3c0dc344-f5d6-474c-acce-4479c56537aa"
      },
      "execution_count": 1,
      "outputs": [
        {
          "output_type": "stream",
          "name": "stdout",
          "text": [
            "Mounted at /content/drive\n"
          ]
        }
      ]
    },
    {
      "cell_type": "code",
      "source": [
        "import os\n",
        "DIR = \"/content/drive/MyDrive/Colab Notebooks/MNA/semana 5/Hands-On-Prep_Missing_Values\"\n",
        "os.chdir(DIR)"
      ],
      "metadata": {
        "id": "nKdwi4dUuJQG"
      },
      "execution_count": 271,
      "outputs": []
    },
    {
      "cell_type": "markdown",
      "source": [
        "# Nueva sección"
      ],
      "metadata": {
        "id": "SeoxZLydl9yj"
      }
    },
    {
      "cell_type": "markdown",
      "source": [
        "# Nueva sección"
      ],
      "metadata": {
        "id": "Qf5IUz_Rl-I6"
      }
    },
    {
      "cell_type": "code",
      "execution_count": 272,
      "metadata": {
        "id": "7Qc1oYLeZTmu"
      },
      "outputs": [],
      "source": [
        "import pandas as pd\n",
        "import matplotlib.pyplot as plt\n",
        "import numpy as np\n",
        "import seaborn as sns\n"
      ]
    },
    {
      "cell_type": "code",
      "execution_count": 273,
      "metadata": {
        "colab": {
          "base_uri": "https://localhost:8080/",
          "height": 710
        },
        "id": "8Z_KZl5LZTmz",
        "outputId": "d19717d8-a476-4d8c-ec09-444e8f4d3e1a"
      },
      "outputs": [
        {
          "output_type": "execute_result",
          "data": {
            "text/plain": [
              "      Music  Slow songs or fast songs  Dance  Folk  Country  Classical music  \\\n",
              "0       5.0                       3.0    2.0   1.0      2.0              2.0   \n",
              "1       4.0                       4.0    2.0   1.0      1.0              1.0   \n",
              "2       5.0                       5.0    2.0   2.0      3.0              4.0   \n",
              "3       5.0                       3.0    2.0   1.0      1.0              1.0   \n",
              "4       5.0                       3.0    4.0   3.0      2.0              4.0   \n",
              "...     ...                       ...    ...   ...      ...              ...   \n",
              "1005    5.0                       2.0    5.0   2.0      2.0              5.0   \n",
              "1006    4.0                       4.0    5.0   1.0      3.0              4.0   \n",
              "1007    4.0                       3.0    1.0   1.0      2.0              2.0   \n",
              "1008    5.0                       3.0    3.0   3.0      1.0              3.0   \n",
              "1009    5.0                       5.0    4.0   3.0      2.0              3.0   \n",
              "\n",
              "      Musical  Pop  Rock  Metal or Hardrock  ...   Age  Height  Weight  \\\n",
              "0         1.0  5.0   5.0                1.0  ...  20.0   163.0    48.0   \n",
              "1         2.0  3.0   5.0                4.0  ...  19.0   163.0    58.0   \n",
              "2         5.0  3.0   5.0                3.0  ...  20.0   176.0    67.0   \n",
              "3         1.0  2.0   2.0                1.0  ...  22.0   172.0    59.0   \n",
              "4         3.0  5.0   3.0                1.0  ...  20.0   170.0    59.0   \n",
              "...       ...  ...   ...                ...  ...   ...     ...     ...   \n",
              "1005      4.0  4.0   4.0                3.0  ...  20.0   164.0    57.0   \n",
              "1006      1.0  4.0   1.0                1.0  ...  27.0   183.0    80.0   \n",
              "1007      2.0  3.0   4.0                1.0  ...  18.0   173.0    75.0   \n",
              "1008      1.0  3.0   4.0                1.0  ...  25.0   173.0    58.0   \n",
              "1009      3.0  4.0   1.0                1.0  ...  21.0   185.0    72.0   \n",
              "\n",
              "      Number of siblings  Gender  Left - right handed  \\\n",
              "0                    1.0  female         right handed   \n",
              "1                    2.0  female         right handed   \n",
              "2                    2.0  female         right handed   \n",
              "3                    1.0  female         right handed   \n",
              "4                    1.0  female         right handed   \n",
              "...                  ...     ...                  ...   \n",
              "1005                 1.0  female         right handed   \n",
              "1006                 5.0    male          left handed   \n",
              "1007                 0.0  female         right handed   \n",
              "1008                 1.0  female         right handed   \n",
              "1009                 1.0    male         right handed   \n",
              "\n",
              "                    Education  Only child  Village - town  \\\n",
              "0     college/bachelor degree          no         village   \n",
              "1     college/bachelor degree          no            city   \n",
              "2            secondary school          no            city   \n",
              "3     college/bachelor degree         yes            city   \n",
              "4            secondary school          no         village   \n",
              "...                       ...         ...             ...   \n",
              "1005         secondary school          no            city   \n",
              "1006           masters degree          no         village   \n",
              "1007         secondary school         yes            city   \n",
              "1008  college/bachelor degree          no            city   \n",
              "1009         secondary school          no         village   \n",
              "\n",
              "      House - block of flats  \n",
              "0             block of flats  \n",
              "1             block of flats  \n",
              "2             block of flats  \n",
              "3             house/bungalow  \n",
              "4             house/bungalow  \n",
              "...                      ...  \n",
              "1005          house/bungalow  \n",
              "1006          house/bungalow  \n",
              "1007          block of flats  \n",
              "1008          block of flats  \n",
              "1009          house/bungalow  \n",
              "\n",
              "[1010 rows x 150 columns]"
            ],
            "text/html": [
              "\n",
              "  <div id=\"df-d5ff731f-b0a0-40d5-a06d-9813827b80dd\">\n",
              "    <div class=\"colab-df-container\">\n",
              "      <div>\n",
              "<style scoped>\n",
              "    .dataframe tbody tr th:only-of-type {\n",
              "        vertical-align: middle;\n",
              "    }\n",
              "\n",
              "    .dataframe tbody tr th {\n",
              "        vertical-align: top;\n",
              "    }\n",
              "\n",
              "    .dataframe thead th {\n",
              "        text-align: right;\n",
              "    }\n",
              "</style>\n",
              "<table border=\"1\" class=\"dataframe\">\n",
              "  <thead>\n",
              "    <tr style=\"text-align: right;\">\n",
              "      <th></th>\n",
              "      <th>Music</th>\n",
              "      <th>Slow songs or fast songs</th>\n",
              "      <th>Dance</th>\n",
              "      <th>Folk</th>\n",
              "      <th>Country</th>\n",
              "      <th>Classical music</th>\n",
              "      <th>Musical</th>\n",
              "      <th>Pop</th>\n",
              "      <th>Rock</th>\n",
              "      <th>Metal or Hardrock</th>\n",
              "      <th>...</th>\n",
              "      <th>Age</th>\n",
              "      <th>Height</th>\n",
              "      <th>Weight</th>\n",
              "      <th>Number of siblings</th>\n",
              "      <th>Gender</th>\n",
              "      <th>Left - right handed</th>\n",
              "      <th>Education</th>\n",
              "      <th>Only child</th>\n",
              "      <th>Village - town</th>\n",
              "      <th>House - block of flats</th>\n",
              "    </tr>\n",
              "  </thead>\n",
              "  <tbody>\n",
              "    <tr>\n",
              "      <th>0</th>\n",
              "      <td>5.0</td>\n",
              "      <td>3.0</td>\n",
              "      <td>2.0</td>\n",
              "      <td>1.0</td>\n",
              "      <td>2.0</td>\n",
              "      <td>2.0</td>\n",
              "      <td>1.0</td>\n",
              "      <td>5.0</td>\n",
              "      <td>5.0</td>\n",
              "      <td>1.0</td>\n",
              "      <td>...</td>\n",
              "      <td>20.0</td>\n",
              "      <td>163.0</td>\n",
              "      <td>48.0</td>\n",
              "      <td>1.0</td>\n",
              "      <td>female</td>\n",
              "      <td>right handed</td>\n",
              "      <td>college/bachelor degree</td>\n",
              "      <td>no</td>\n",
              "      <td>village</td>\n",
              "      <td>block of flats</td>\n",
              "    </tr>\n",
              "    <tr>\n",
              "      <th>1</th>\n",
              "      <td>4.0</td>\n",
              "      <td>4.0</td>\n",
              "      <td>2.0</td>\n",
              "      <td>1.0</td>\n",
              "      <td>1.0</td>\n",
              "      <td>1.0</td>\n",
              "      <td>2.0</td>\n",
              "      <td>3.0</td>\n",
              "      <td>5.0</td>\n",
              "      <td>4.0</td>\n",
              "      <td>...</td>\n",
              "      <td>19.0</td>\n",
              "      <td>163.0</td>\n",
              "      <td>58.0</td>\n",
              "      <td>2.0</td>\n",
              "      <td>female</td>\n",
              "      <td>right handed</td>\n",
              "      <td>college/bachelor degree</td>\n",
              "      <td>no</td>\n",
              "      <td>city</td>\n",
              "      <td>block of flats</td>\n",
              "    </tr>\n",
              "    <tr>\n",
              "      <th>2</th>\n",
              "      <td>5.0</td>\n",
              "      <td>5.0</td>\n",
              "      <td>2.0</td>\n",
              "      <td>2.0</td>\n",
              "      <td>3.0</td>\n",
              "      <td>4.0</td>\n",
              "      <td>5.0</td>\n",
              "      <td>3.0</td>\n",
              "      <td>5.0</td>\n",
              "      <td>3.0</td>\n",
              "      <td>...</td>\n",
              "      <td>20.0</td>\n",
              "      <td>176.0</td>\n",
              "      <td>67.0</td>\n",
              "      <td>2.0</td>\n",
              "      <td>female</td>\n",
              "      <td>right handed</td>\n",
              "      <td>secondary school</td>\n",
              "      <td>no</td>\n",
              "      <td>city</td>\n",
              "      <td>block of flats</td>\n",
              "    </tr>\n",
              "    <tr>\n",
              "      <th>3</th>\n",
              "      <td>5.0</td>\n",
              "      <td>3.0</td>\n",
              "      <td>2.0</td>\n",
              "      <td>1.0</td>\n",
              "      <td>1.0</td>\n",
              "      <td>1.0</td>\n",
              "      <td>1.0</td>\n",
              "      <td>2.0</td>\n",
              "      <td>2.0</td>\n",
              "      <td>1.0</td>\n",
              "      <td>...</td>\n",
              "      <td>22.0</td>\n",
              "      <td>172.0</td>\n",
              "      <td>59.0</td>\n",
              "      <td>1.0</td>\n",
              "      <td>female</td>\n",
              "      <td>right handed</td>\n",
              "      <td>college/bachelor degree</td>\n",
              "      <td>yes</td>\n",
              "      <td>city</td>\n",
              "      <td>house/bungalow</td>\n",
              "    </tr>\n",
              "    <tr>\n",
              "      <th>4</th>\n",
              "      <td>5.0</td>\n",
              "      <td>3.0</td>\n",
              "      <td>4.0</td>\n",
              "      <td>3.0</td>\n",
              "      <td>2.0</td>\n",
              "      <td>4.0</td>\n",
              "      <td>3.0</td>\n",
              "      <td>5.0</td>\n",
              "      <td>3.0</td>\n",
              "      <td>1.0</td>\n",
              "      <td>...</td>\n",
              "      <td>20.0</td>\n",
              "      <td>170.0</td>\n",
              "      <td>59.0</td>\n",
              "      <td>1.0</td>\n",
              "      <td>female</td>\n",
              "      <td>right handed</td>\n",
              "      <td>secondary school</td>\n",
              "      <td>no</td>\n",
              "      <td>village</td>\n",
              "      <td>house/bungalow</td>\n",
              "    </tr>\n",
              "    <tr>\n",
              "      <th>...</th>\n",
              "      <td>...</td>\n",
              "      <td>...</td>\n",
              "      <td>...</td>\n",
              "      <td>...</td>\n",
              "      <td>...</td>\n",
              "      <td>...</td>\n",
              "      <td>...</td>\n",
              "      <td>...</td>\n",
              "      <td>...</td>\n",
              "      <td>...</td>\n",
              "      <td>...</td>\n",
              "      <td>...</td>\n",
              "      <td>...</td>\n",
              "      <td>...</td>\n",
              "      <td>...</td>\n",
              "      <td>...</td>\n",
              "      <td>...</td>\n",
              "      <td>...</td>\n",
              "      <td>...</td>\n",
              "      <td>...</td>\n",
              "      <td>...</td>\n",
              "    </tr>\n",
              "    <tr>\n",
              "      <th>1005</th>\n",
              "      <td>5.0</td>\n",
              "      <td>2.0</td>\n",
              "      <td>5.0</td>\n",
              "      <td>2.0</td>\n",
              "      <td>2.0</td>\n",
              "      <td>5.0</td>\n",
              "      <td>4.0</td>\n",
              "      <td>4.0</td>\n",
              "      <td>4.0</td>\n",
              "      <td>3.0</td>\n",
              "      <td>...</td>\n",
              "      <td>20.0</td>\n",
              "      <td>164.0</td>\n",
              "      <td>57.0</td>\n",
              "      <td>1.0</td>\n",
              "      <td>female</td>\n",
              "      <td>right handed</td>\n",
              "      <td>secondary school</td>\n",
              "      <td>no</td>\n",
              "      <td>city</td>\n",
              "      <td>house/bungalow</td>\n",
              "    </tr>\n",
              "    <tr>\n",
              "      <th>1006</th>\n",
              "      <td>4.0</td>\n",
              "      <td>4.0</td>\n",
              "      <td>5.0</td>\n",
              "      <td>1.0</td>\n",
              "      <td>3.0</td>\n",
              "      <td>4.0</td>\n",
              "      <td>1.0</td>\n",
              "      <td>4.0</td>\n",
              "      <td>1.0</td>\n",
              "      <td>1.0</td>\n",
              "      <td>...</td>\n",
              "      <td>27.0</td>\n",
              "      <td>183.0</td>\n",
              "      <td>80.0</td>\n",
              "      <td>5.0</td>\n",
              "      <td>male</td>\n",
              "      <td>left handed</td>\n",
              "      <td>masters degree</td>\n",
              "      <td>no</td>\n",
              "      <td>village</td>\n",
              "      <td>house/bungalow</td>\n",
              "    </tr>\n",
              "    <tr>\n",
              "      <th>1007</th>\n",
              "      <td>4.0</td>\n",
              "      <td>3.0</td>\n",
              "      <td>1.0</td>\n",
              "      <td>1.0</td>\n",
              "      <td>2.0</td>\n",
              "      <td>2.0</td>\n",
              "      <td>2.0</td>\n",
              "      <td>3.0</td>\n",
              "      <td>4.0</td>\n",
              "      <td>1.0</td>\n",
              "      <td>...</td>\n",
              "      <td>18.0</td>\n",
              "      <td>173.0</td>\n",
              "      <td>75.0</td>\n",
              "      <td>0.0</td>\n",
              "      <td>female</td>\n",
              "      <td>right handed</td>\n",
              "      <td>secondary school</td>\n",
              "      <td>yes</td>\n",
              "      <td>city</td>\n",
              "      <td>block of flats</td>\n",
              "    </tr>\n",
              "    <tr>\n",
              "      <th>1008</th>\n",
              "      <td>5.0</td>\n",
              "      <td>3.0</td>\n",
              "      <td>3.0</td>\n",
              "      <td>3.0</td>\n",
              "      <td>1.0</td>\n",
              "      <td>3.0</td>\n",
              "      <td>1.0</td>\n",
              "      <td>3.0</td>\n",
              "      <td>4.0</td>\n",
              "      <td>1.0</td>\n",
              "      <td>...</td>\n",
              "      <td>25.0</td>\n",
              "      <td>173.0</td>\n",
              "      <td>58.0</td>\n",
              "      <td>1.0</td>\n",
              "      <td>female</td>\n",
              "      <td>right handed</td>\n",
              "      <td>college/bachelor degree</td>\n",
              "      <td>no</td>\n",
              "      <td>city</td>\n",
              "      <td>block of flats</td>\n",
              "    </tr>\n",
              "    <tr>\n",
              "      <th>1009</th>\n",
              "      <td>5.0</td>\n",
              "      <td>5.0</td>\n",
              "      <td>4.0</td>\n",
              "      <td>3.0</td>\n",
              "      <td>2.0</td>\n",
              "      <td>3.0</td>\n",
              "      <td>3.0</td>\n",
              "      <td>4.0</td>\n",
              "      <td>1.0</td>\n",
              "      <td>1.0</td>\n",
              "      <td>...</td>\n",
              "      <td>21.0</td>\n",
              "      <td>185.0</td>\n",
              "      <td>72.0</td>\n",
              "      <td>1.0</td>\n",
              "      <td>male</td>\n",
              "      <td>right handed</td>\n",
              "      <td>secondary school</td>\n",
              "      <td>no</td>\n",
              "      <td>village</td>\n",
              "      <td>house/bungalow</td>\n",
              "    </tr>\n",
              "  </tbody>\n",
              "</table>\n",
              "<p>1010 rows × 150 columns</p>\n",
              "</div>\n",
              "      <button class=\"colab-df-convert\" onclick=\"convertToInteractive('df-d5ff731f-b0a0-40d5-a06d-9813827b80dd')\"\n",
              "              title=\"Convert this dataframe to an interactive table.\"\n",
              "              style=\"display:none;\">\n",
              "        \n",
              "  <svg xmlns=\"http://www.w3.org/2000/svg\" height=\"24px\"viewBox=\"0 0 24 24\"\n",
              "       width=\"24px\">\n",
              "    <path d=\"M0 0h24v24H0V0z\" fill=\"none\"/>\n",
              "    <path d=\"M18.56 5.44l.94 2.06.94-2.06 2.06-.94-2.06-.94-.94-2.06-.94 2.06-2.06.94zm-11 1L8.5 8.5l.94-2.06 2.06-.94-2.06-.94L8.5 2.5l-.94 2.06-2.06.94zm10 10l.94 2.06.94-2.06 2.06-.94-2.06-.94-.94-2.06-.94 2.06-2.06.94z\"/><path d=\"M17.41 7.96l-1.37-1.37c-.4-.4-.92-.59-1.43-.59-.52 0-1.04.2-1.43.59L10.3 9.45l-7.72 7.72c-.78.78-.78 2.05 0 2.83L4 21.41c.39.39.9.59 1.41.59.51 0 1.02-.2 1.41-.59l7.78-7.78 2.81-2.81c.8-.78.8-2.07 0-2.86zM5.41 20L4 18.59l7.72-7.72 1.47 1.35L5.41 20z\"/>\n",
              "  </svg>\n",
              "      </button>\n",
              "      \n",
              "  <style>\n",
              "    .colab-df-container {\n",
              "      display:flex;\n",
              "      flex-wrap:wrap;\n",
              "      gap: 12px;\n",
              "    }\n",
              "\n",
              "    .colab-df-convert {\n",
              "      background-color: #E8F0FE;\n",
              "      border: none;\n",
              "      border-radius: 50%;\n",
              "      cursor: pointer;\n",
              "      display: none;\n",
              "      fill: #1967D2;\n",
              "      height: 32px;\n",
              "      padding: 0 0 0 0;\n",
              "      width: 32px;\n",
              "    }\n",
              "\n",
              "    .colab-df-convert:hover {\n",
              "      background-color: #E2EBFA;\n",
              "      box-shadow: 0px 1px 2px rgba(60, 64, 67, 0.3), 0px 1px 3px 1px rgba(60, 64, 67, 0.15);\n",
              "      fill: #174EA6;\n",
              "    }\n",
              "\n",
              "    [theme=dark] .colab-df-convert {\n",
              "      background-color: #3B4455;\n",
              "      fill: #D2E3FC;\n",
              "    }\n",
              "\n",
              "    [theme=dark] .colab-df-convert:hover {\n",
              "      background-color: #434B5C;\n",
              "      box-shadow: 0px 1px 3px 1px rgba(0, 0, 0, 0.15);\n",
              "      filter: drop-shadow(0px 1px 2px rgba(0, 0, 0, 0.3));\n",
              "      fill: #FFFFFF;\n",
              "    }\n",
              "  </style>\n",
              "\n",
              "      <script>\n",
              "        const buttonEl =\n",
              "          document.querySelector('#df-d5ff731f-b0a0-40d5-a06d-9813827b80dd button.colab-df-convert');\n",
              "        buttonEl.style.display =\n",
              "          google.colab.kernel.accessAllowed ? 'block' : 'none';\n",
              "\n",
              "        async function convertToInteractive(key) {\n",
              "          const element = document.querySelector('#df-d5ff731f-b0a0-40d5-a06d-9813827b80dd');\n",
              "          const dataTable =\n",
              "            await google.colab.kernel.invokeFunction('convertToInteractive',\n",
              "                                                     [key], {});\n",
              "          if (!dataTable) return;\n",
              "\n",
              "          const docLinkHtml = 'Like what you see? Visit the ' +\n",
              "            '<a target=\"_blank\" href=https://colab.research.google.com/notebooks/data_table.ipynb>data table notebook</a>'\n",
              "            + ' to learn more about interactive tables.';\n",
              "          element.innerHTML = '';\n",
              "          dataTable['output_type'] = 'display_data';\n",
              "          await google.colab.output.renderOutput(dataTable, element);\n",
              "          const docLink = document.createElement('div');\n",
              "          docLink.innerHTML = docLinkHtml;\n",
              "          element.appendChild(docLink);\n",
              "        }\n",
              "      </script>\n",
              "    </div>\n",
              "  </div>\n",
              "  "
            ]
          },
          "metadata": {},
          "execution_count": 273
        }
      ],
      "source": [
        "response_df = pd.read_csv('responses.csv')\n",
        "response_df"
      ]
    },
    {
      "cell_type": "markdown",
      "source": [
        "1. Determina cuántas variables numéricas y cuántas de texto posee el conjunto de datos con el método `info()` y utiliza el método `describe()` del dataframe, para obtener el resumen de las estadísticas descriptivas. Separa el análisis según el tipo de datos (number, object).\n",
        "\n",
        "**Númericas: 139**\n",
        "\n",
        "**Texto: 5**"
      ],
      "metadata": {
        "id": "1k02v3UK_buz"
      }
    },
    {
      "cell_type": "code",
      "source": [
        "response_df.info()"
      ],
      "metadata": {
        "id": "tXvqye_oZV6T",
        "colab": {
          "base_uri": "https://localhost:8080/"
        },
        "outputId": "ea0854cc-ca73-4dcf-c182-84532f636c05"
      },
      "execution_count": 5,
      "outputs": [
        {
          "output_type": "stream",
          "name": "stdout",
          "text": [
            "<class 'pandas.core.frame.DataFrame'>\n",
            "RangeIndex: 1010 entries, 0 to 1009\n",
            "Columns: 150 entries, Music to House - block of flats\n",
            "dtypes: float64(134), int64(5), object(11)\n",
            "memory usage: 1.2+ MB\n"
          ]
        }
      ]
    },
    {
      "cell_type": "code",
      "source": [
        "response_df.describe()"
      ],
      "metadata": {
        "colab": {
          "base_uri": "https://localhost:8080/",
          "height": 445
        },
        "id": "OGSBlx2_pi1z",
        "outputId": "8c0cdbb4-a66a-4c37-c0a3-8f0bdda839c2"
      },
      "execution_count": 6,
      "outputs": [
        {
          "output_type": "execute_result",
          "data": {
            "text/plain": [
              "             Music  Slow songs or fast songs        Dance         Folk  \\\n",
              "count  1007.000000               1008.000000  1006.000000  1005.000000   \n",
              "mean      4.731877                  3.328373     3.113320     2.288557   \n",
              "std       0.664049                  0.833931     1.170568     1.138916   \n",
              "min       1.000000                  1.000000     1.000000     1.000000   \n",
              "25%       5.000000                  3.000000     2.000000     1.000000   \n",
              "50%       5.000000                  3.000000     3.000000     2.000000   \n",
              "75%       5.000000                  4.000000     4.000000     3.000000   \n",
              "max       5.000000                  5.000000     5.000000     5.000000   \n",
              "\n",
              "           Country  Classical music      Musical          Pop         Rock  \\\n",
              "count  1005.000000      1003.000000  1008.000000  1007.000000  1004.000000   \n",
              "mean      2.123383         2.956132     2.761905     3.471698     3.761952   \n",
              "std       1.076136         1.252570     1.260845     1.161400     1.184861   \n",
              "min       1.000000         1.000000     1.000000     1.000000     1.000000   \n",
              "25%       1.000000         2.000000     2.000000     3.000000     3.000000   \n",
              "50%       2.000000         3.000000     3.000000     4.000000     4.000000   \n",
              "75%       3.000000         4.000000     4.000000     4.000000     5.000000   \n",
              "max       5.000000         5.000000     5.000000     5.000000     5.000000   \n",
              "\n",
              "       Metal or Hardrock  ...  Shopping centres  Branded clothing  \\\n",
              "count        1007.000000  ...       1008.000000       1008.000000   \n",
              "mean            2.361470  ...          3.234127          3.050595   \n",
              "std             1.372995  ...          1.323062          1.306321   \n",
              "min             1.000000  ...          1.000000          1.000000   \n",
              "25%             1.000000  ...          2.000000          2.000000   \n",
              "50%             2.000000  ...          3.000000          3.000000   \n",
              "75%             3.000000  ...          4.000000          4.000000   \n",
              "max             5.000000  ...          5.000000          5.000000   \n",
              "\n",
              "       Entertainment spending  Spending on looks  Spending on gadgets  \\\n",
              "count             1007.000000        1007.000000          1010.000000   \n",
              "mean                 3.201589           3.106256             2.870297   \n",
              "std                  1.188947           1.205368             1.284970   \n",
              "min                  1.000000           1.000000             1.000000   \n",
              "25%                  2.000000           2.000000             2.000000   \n",
              "50%                  3.000000           3.000000             3.000000   \n",
              "75%                  4.000000           4.000000             4.000000   \n",
              "max                  5.000000           5.000000             5.000000   \n",
              "\n",
              "       Spending on healthy eating          Age      Height      Weight  \\\n",
              "count                  1008.00000  1003.000000  990.000000  990.000000   \n",
              "mean                      3.55754    20.433699  173.514141   66.405051   \n",
              "std                       1.09375     2.828840   10.024505   13.839561   \n",
              "min                       1.00000    15.000000   62.000000   41.000000   \n",
              "25%                       3.00000    19.000000  167.000000   55.000000   \n",
              "50%                       4.00000    20.000000  173.000000   64.000000   \n",
              "75%                       4.00000    22.000000  180.000000   75.000000   \n",
              "max                       5.00000    30.000000  203.000000  165.000000   \n",
              "\n",
              "       Number of siblings  \n",
              "count         1004.000000  \n",
              "mean             1.297809  \n",
              "std              1.013348  \n",
              "min              0.000000  \n",
              "25%              1.000000  \n",
              "50%              1.000000  \n",
              "75%              2.000000  \n",
              "max             10.000000  \n",
              "\n",
              "[8 rows x 139 columns]"
            ],
            "text/html": [
              "\n",
              "  <div id=\"df-35611a09-34f2-4876-abb3-aaa826455018\">\n",
              "    <div class=\"colab-df-container\">\n",
              "      <div>\n",
              "<style scoped>\n",
              "    .dataframe tbody tr th:only-of-type {\n",
              "        vertical-align: middle;\n",
              "    }\n",
              "\n",
              "    .dataframe tbody tr th {\n",
              "        vertical-align: top;\n",
              "    }\n",
              "\n",
              "    .dataframe thead th {\n",
              "        text-align: right;\n",
              "    }\n",
              "</style>\n",
              "<table border=\"1\" class=\"dataframe\">\n",
              "  <thead>\n",
              "    <tr style=\"text-align: right;\">\n",
              "      <th></th>\n",
              "      <th>Music</th>\n",
              "      <th>Slow songs or fast songs</th>\n",
              "      <th>Dance</th>\n",
              "      <th>Folk</th>\n",
              "      <th>Country</th>\n",
              "      <th>Classical music</th>\n",
              "      <th>Musical</th>\n",
              "      <th>Pop</th>\n",
              "      <th>Rock</th>\n",
              "      <th>Metal or Hardrock</th>\n",
              "      <th>...</th>\n",
              "      <th>Shopping centres</th>\n",
              "      <th>Branded clothing</th>\n",
              "      <th>Entertainment spending</th>\n",
              "      <th>Spending on looks</th>\n",
              "      <th>Spending on gadgets</th>\n",
              "      <th>Spending on healthy eating</th>\n",
              "      <th>Age</th>\n",
              "      <th>Height</th>\n",
              "      <th>Weight</th>\n",
              "      <th>Number of siblings</th>\n",
              "    </tr>\n",
              "  </thead>\n",
              "  <tbody>\n",
              "    <tr>\n",
              "      <th>count</th>\n",
              "      <td>1007.000000</td>\n",
              "      <td>1008.000000</td>\n",
              "      <td>1006.000000</td>\n",
              "      <td>1005.000000</td>\n",
              "      <td>1005.000000</td>\n",
              "      <td>1003.000000</td>\n",
              "      <td>1008.000000</td>\n",
              "      <td>1007.000000</td>\n",
              "      <td>1004.000000</td>\n",
              "      <td>1007.000000</td>\n",
              "      <td>...</td>\n",
              "      <td>1008.000000</td>\n",
              "      <td>1008.000000</td>\n",
              "      <td>1007.000000</td>\n",
              "      <td>1007.000000</td>\n",
              "      <td>1010.000000</td>\n",
              "      <td>1008.00000</td>\n",
              "      <td>1003.000000</td>\n",
              "      <td>990.000000</td>\n",
              "      <td>990.000000</td>\n",
              "      <td>1004.000000</td>\n",
              "    </tr>\n",
              "    <tr>\n",
              "      <th>mean</th>\n",
              "      <td>4.731877</td>\n",
              "      <td>3.328373</td>\n",
              "      <td>3.113320</td>\n",
              "      <td>2.288557</td>\n",
              "      <td>2.123383</td>\n",
              "      <td>2.956132</td>\n",
              "      <td>2.761905</td>\n",
              "      <td>3.471698</td>\n",
              "      <td>3.761952</td>\n",
              "      <td>2.361470</td>\n",
              "      <td>...</td>\n",
              "      <td>3.234127</td>\n",
              "      <td>3.050595</td>\n",
              "      <td>3.201589</td>\n",
              "      <td>3.106256</td>\n",
              "      <td>2.870297</td>\n",
              "      <td>3.55754</td>\n",
              "      <td>20.433699</td>\n",
              "      <td>173.514141</td>\n",
              "      <td>66.405051</td>\n",
              "      <td>1.297809</td>\n",
              "    </tr>\n",
              "    <tr>\n",
              "      <th>std</th>\n",
              "      <td>0.664049</td>\n",
              "      <td>0.833931</td>\n",
              "      <td>1.170568</td>\n",
              "      <td>1.138916</td>\n",
              "      <td>1.076136</td>\n",
              "      <td>1.252570</td>\n",
              "      <td>1.260845</td>\n",
              "      <td>1.161400</td>\n",
              "      <td>1.184861</td>\n",
              "      <td>1.372995</td>\n",
              "      <td>...</td>\n",
              "      <td>1.323062</td>\n",
              "      <td>1.306321</td>\n",
              "      <td>1.188947</td>\n",
              "      <td>1.205368</td>\n",
              "      <td>1.284970</td>\n",
              "      <td>1.09375</td>\n",
              "      <td>2.828840</td>\n",
              "      <td>10.024505</td>\n",
              "      <td>13.839561</td>\n",
              "      <td>1.013348</td>\n",
              "    </tr>\n",
              "    <tr>\n",
              "      <th>min</th>\n",
              "      <td>1.000000</td>\n",
              "      <td>1.000000</td>\n",
              "      <td>1.000000</td>\n",
              "      <td>1.000000</td>\n",
              "      <td>1.000000</td>\n",
              "      <td>1.000000</td>\n",
              "      <td>1.000000</td>\n",
              "      <td>1.000000</td>\n",
              "      <td>1.000000</td>\n",
              "      <td>1.000000</td>\n",
              "      <td>...</td>\n",
              "      <td>1.000000</td>\n",
              "      <td>1.000000</td>\n",
              "      <td>1.000000</td>\n",
              "      <td>1.000000</td>\n",
              "      <td>1.000000</td>\n",
              "      <td>1.00000</td>\n",
              "      <td>15.000000</td>\n",
              "      <td>62.000000</td>\n",
              "      <td>41.000000</td>\n",
              "      <td>0.000000</td>\n",
              "    </tr>\n",
              "    <tr>\n",
              "      <th>25%</th>\n",
              "      <td>5.000000</td>\n",
              "      <td>3.000000</td>\n",
              "      <td>2.000000</td>\n",
              "      <td>1.000000</td>\n",
              "      <td>1.000000</td>\n",
              "      <td>2.000000</td>\n",
              "      <td>2.000000</td>\n",
              "      <td>3.000000</td>\n",
              "      <td>3.000000</td>\n",
              "      <td>1.000000</td>\n",
              "      <td>...</td>\n",
              "      <td>2.000000</td>\n",
              "      <td>2.000000</td>\n",
              "      <td>2.000000</td>\n",
              "      <td>2.000000</td>\n",
              "      <td>2.000000</td>\n",
              "      <td>3.00000</td>\n",
              "      <td>19.000000</td>\n",
              "      <td>167.000000</td>\n",
              "      <td>55.000000</td>\n",
              "      <td>1.000000</td>\n",
              "    </tr>\n",
              "    <tr>\n",
              "      <th>50%</th>\n",
              "      <td>5.000000</td>\n",
              "      <td>3.000000</td>\n",
              "      <td>3.000000</td>\n",
              "      <td>2.000000</td>\n",
              "      <td>2.000000</td>\n",
              "      <td>3.000000</td>\n",
              "      <td>3.000000</td>\n",
              "      <td>4.000000</td>\n",
              "      <td>4.000000</td>\n",
              "      <td>2.000000</td>\n",
              "      <td>...</td>\n",
              "      <td>3.000000</td>\n",
              "      <td>3.000000</td>\n",
              "      <td>3.000000</td>\n",
              "      <td>3.000000</td>\n",
              "      <td>3.000000</td>\n",
              "      <td>4.00000</td>\n",
              "      <td>20.000000</td>\n",
              "      <td>173.000000</td>\n",
              "      <td>64.000000</td>\n",
              "      <td>1.000000</td>\n",
              "    </tr>\n",
              "    <tr>\n",
              "      <th>75%</th>\n",
              "      <td>5.000000</td>\n",
              "      <td>4.000000</td>\n",
              "      <td>4.000000</td>\n",
              "      <td>3.000000</td>\n",
              "      <td>3.000000</td>\n",
              "      <td>4.000000</td>\n",
              "      <td>4.000000</td>\n",
              "      <td>4.000000</td>\n",
              "      <td>5.000000</td>\n",
              "      <td>3.000000</td>\n",
              "      <td>...</td>\n",
              "      <td>4.000000</td>\n",
              "      <td>4.000000</td>\n",
              "      <td>4.000000</td>\n",
              "      <td>4.000000</td>\n",
              "      <td>4.000000</td>\n",
              "      <td>4.00000</td>\n",
              "      <td>22.000000</td>\n",
              "      <td>180.000000</td>\n",
              "      <td>75.000000</td>\n",
              "      <td>2.000000</td>\n",
              "    </tr>\n",
              "    <tr>\n",
              "      <th>max</th>\n",
              "      <td>5.000000</td>\n",
              "      <td>5.000000</td>\n",
              "      <td>5.000000</td>\n",
              "      <td>5.000000</td>\n",
              "      <td>5.000000</td>\n",
              "      <td>5.000000</td>\n",
              "      <td>5.000000</td>\n",
              "      <td>5.000000</td>\n",
              "      <td>5.000000</td>\n",
              "      <td>5.000000</td>\n",
              "      <td>...</td>\n",
              "      <td>5.000000</td>\n",
              "      <td>5.000000</td>\n",
              "      <td>5.000000</td>\n",
              "      <td>5.000000</td>\n",
              "      <td>5.000000</td>\n",
              "      <td>5.00000</td>\n",
              "      <td>30.000000</td>\n",
              "      <td>203.000000</td>\n",
              "      <td>165.000000</td>\n",
              "      <td>10.000000</td>\n",
              "    </tr>\n",
              "  </tbody>\n",
              "</table>\n",
              "<p>8 rows × 139 columns</p>\n",
              "</div>\n",
              "      <button class=\"colab-df-convert\" onclick=\"convertToInteractive('df-35611a09-34f2-4876-abb3-aaa826455018')\"\n",
              "              title=\"Convert this dataframe to an interactive table.\"\n",
              "              style=\"display:none;\">\n",
              "        \n",
              "  <svg xmlns=\"http://www.w3.org/2000/svg\" height=\"24px\"viewBox=\"0 0 24 24\"\n",
              "       width=\"24px\">\n",
              "    <path d=\"M0 0h24v24H0V0z\" fill=\"none\"/>\n",
              "    <path d=\"M18.56 5.44l.94 2.06.94-2.06 2.06-.94-2.06-.94-.94-2.06-.94 2.06-2.06.94zm-11 1L8.5 8.5l.94-2.06 2.06-.94-2.06-.94L8.5 2.5l-.94 2.06-2.06.94zm10 10l.94 2.06.94-2.06 2.06-.94-2.06-.94-.94-2.06-.94 2.06-2.06.94z\"/><path d=\"M17.41 7.96l-1.37-1.37c-.4-.4-.92-.59-1.43-.59-.52 0-1.04.2-1.43.59L10.3 9.45l-7.72 7.72c-.78.78-.78 2.05 0 2.83L4 21.41c.39.39.9.59 1.41.59.51 0 1.02-.2 1.41-.59l7.78-7.78 2.81-2.81c.8-.78.8-2.07 0-2.86zM5.41 20L4 18.59l7.72-7.72 1.47 1.35L5.41 20z\"/>\n",
              "  </svg>\n",
              "      </button>\n",
              "      \n",
              "  <style>\n",
              "    .colab-df-container {\n",
              "      display:flex;\n",
              "      flex-wrap:wrap;\n",
              "      gap: 12px;\n",
              "    }\n",
              "\n",
              "    .colab-df-convert {\n",
              "      background-color: #E8F0FE;\n",
              "      border: none;\n",
              "      border-radius: 50%;\n",
              "      cursor: pointer;\n",
              "      display: none;\n",
              "      fill: #1967D2;\n",
              "      height: 32px;\n",
              "      padding: 0 0 0 0;\n",
              "      width: 32px;\n",
              "    }\n",
              "\n",
              "    .colab-df-convert:hover {\n",
              "      background-color: #E2EBFA;\n",
              "      box-shadow: 0px 1px 2px rgba(60, 64, 67, 0.3), 0px 1px 3px 1px rgba(60, 64, 67, 0.15);\n",
              "      fill: #174EA6;\n",
              "    }\n",
              "\n",
              "    [theme=dark] .colab-df-convert {\n",
              "      background-color: #3B4455;\n",
              "      fill: #D2E3FC;\n",
              "    }\n",
              "\n",
              "    [theme=dark] .colab-df-convert:hover {\n",
              "      background-color: #434B5C;\n",
              "      box-shadow: 0px 1px 3px 1px rgba(0, 0, 0, 0.15);\n",
              "      filter: drop-shadow(0px 1px 2px rgba(0, 0, 0, 0.3));\n",
              "      fill: #FFFFFF;\n",
              "    }\n",
              "  </style>\n",
              "\n",
              "      <script>\n",
              "        const buttonEl =\n",
              "          document.querySelector('#df-35611a09-34f2-4876-abb3-aaa826455018 button.colab-df-convert');\n",
              "        buttonEl.style.display =\n",
              "          google.colab.kernel.accessAllowed ? 'block' : 'none';\n",
              "\n",
              "        async function convertToInteractive(key) {\n",
              "          const element = document.querySelector('#df-35611a09-34f2-4876-abb3-aaa826455018');\n",
              "          const dataTable =\n",
              "            await google.colab.kernel.invokeFunction('convertToInteractive',\n",
              "                                                     [key], {});\n",
              "          if (!dataTable) return;\n",
              "\n",
              "          const docLinkHtml = 'Like what you see? Visit the ' +\n",
              "            '<a target=\"_blank\" href=https://colab.research.google.com/notebooks/data_table.ipynb>data table notebook</a>'\n",
              "            + ' to learn more about interactive tables.';\n",
              "          element.innerHTML = '';\n",
              "          dataTable['output_type'] = 'display_data';\n",
              "          await google.colab.output.renderOutput(dataTable, element);\n",
              "          const docLink = document.createElement('div');\n",
              "          docLink.innerHTML = docLinkHtml;\n",
              "          element.appendChild(docLink);\n",
              "        }\n",
              "      </script>\n",
              "    </div>\n",
              "  </div>\n",
              "  "
            ]
          },
          "metadata": {},
          "execution_count": 6
        }
      ]
    },
    {
      "cell_type": "code",
      "source": [
        "response_df.describe(include=[int,float])"
      ],
      "metadata": {
        "colab": {
          "base_uri": "https://localhost:8080/",
          "height": 445
        },
        "id": "3anv35vvqjim",
        "outputId": "db596890-f6f3-40fe-ccca-9ae6fb57964d"
      },
      "execution_count": 11,
      "outputs": [
        {
          "output_type": "execute_result",
          "data": {
            "text/plain": [
              "             Music  Slow songs or fast songs        Dance         Folk  \\\n",
              "count  1007.000000               1008.000000  1006.000000  1005.000000   \n",
              "mean      4.731877                  3.328373     3.113320     2.288557   \n",
              "std       0.664049                  0.833931     1.170568     1.138916   \n",
              "min       1.000000                  1.000000     1.000000     1.000000   \n",
              "25%       5.000000                  3.000000     2.000000     1.000000   \n",
              "50%       5.000000                  3.000000     3.000000     2.000000   \n",
              "75%       5.000000                  4.000000     4.000000     3.000000   \n",
              "max       5.000000                  5.000000     5.000000     5.000000   \n",
              "\n",
              "           Country  Classical music      Musical          Pop         Rock  \\\n",
              "count  1005.000000      1003.000000  1008.000000  1007.000000  1004.000000   \n",
              "mean      2.123383         2.956132     2.761905     3.471698     3.761952   \n",
              "std       1.076136         1.252570     1.260845     1.161400     1.184861   \n",
              "min       1.000000         1.000000     1.000000     1.000000     1.000000   \n",
              "25%       1.000000         2.000000     2.000000     3.000000     3.000000   \n",
              "50%       2.000000         3.000000     3.000000     4.000000     4.000000   \n",
              "75%       3.000000         4.000000     4.000000     4.000000     5.000000   \n",
              "max       5.000000         5.000000     5.000000     5.000000     5.000000   \n",
              "\n",
              "       Metal or Hardrock  ...  Shopping centres  Branded clothing  \\\n",
              "count        1007.000000  ...       1008.000000       1008.000000   \n",
              "mean            2.361470  ...          3.234127          3.050595   \n",
              "std             1.372995  ...          1.323062          1.306321   \n",
              "min             1.000000  ...          1.000000          1.000000   \n",
              "25%             1.000000  ...          2.000000          2.000000   \n",
              "50%             2.000000  ...          3.000000          3.000000   \n",
              "75%             3.000000  ...          4.000000          4.000000   \n",
              "max             5.000000  ...          5.000000          5.000000   \n",
              "\n",
              "       Entertainment spending  Spending on looks  Spending on gadgets  \\\n",
              "count             1007.000000        1007.000000          1010.000000   \n",
              "mean                 3.201589           3.106256             2.870297   \n",
              "std                  1.188947           1.205368             1.284970   \n",
              "min                  1.000000           1.000000             1.000000   \n",
              "25%                  2.000000           2.000000             2.000000   \n",
              "50%                  3.000000           3.000000             3.000000   \n",
              "75%                  4.000000           4.000000             4.000000   \n",
              "max                  5.000000           5.000000             5.000000   \n",
              "\n",
              "       Spending on healthy eating          Age      Height      Weight  \\\n",
              "count                  1008.00000  1003.000000  990.000000  990.000000   \n",
              "mean                      3.55754    20.433699  173.514141   66.405051   \n",
              "std                       1.09375     2.828840   10.024505   13.839561   \n",
              "min                       1.00000    15.000000   62.000000   41.000000   \n",
              "25%                       3.00000    19.000000  167.000000   55.000000   \n",
              "50%                       4.00000    20.000000  173.000000   64.000000   \n",
              "75%                       4.00000    22.000000  180.000000   75.000000   \n",
              "max                       5.00000    30.000000  203.000000  165.000000   \n",
              "\n",
              "       Number of siblings  \n",
              "count         1004.000000  \n",
              "mean             1.297809  \n",
              "std              1.013348  \n",
              "min              0.000000  \n",
              "25%              1.000000  \n",
              "50%              1.000000  \n",
              "75%              2.000000  \n",
              "max             10.000000  \n",
              "\n",
              "[8 rows x 139 columns]"
            ],
            "text/html": [
              "\n",
              "  <div id=\"df-adf51349-28cb-4d5a-8d5f-a2b0dbe0e8f3\">\n",
              "    <div class=\"colab-df-container\">\n",
              "      <div>\n",
              "<style scoped>\n",
              "    .dataframe tbody tr th:only-of-type {\n",
              "        vertical-align: middle;\n",
              "    }\n",
              "\n",
              "    .dataframe tbody tr th {\n",
              "        vertical-align: top;\n",
              "    }\n",
              "\n",
              "    .dataframe thead th {\n",
              "        text-align: right;\n",
              "    }\n",
              "</style>\n",
              "<table border=\"1\" class=\"dataframe\">\n",
              "  <thead>\n",
              "    <tr style=\"text-align: right;\">\n",
              "      <th></th>\n",
              "      <th>Music</th>\n",
              "      <th>Slow songs or fast songs</th>\n",
              "      <th>Dance</th>\n",
              "      <th>Folk</th>\n",
              "      <th>Country</th>\n",
              "      <th>Classical music</th>\n",
              "      <th>Musical</th>\n",
              "      <th>Pop</th>\n",
              "      <th>Rock</th>\n",
              "      <th>Metal or Hardrock</th>\n",
              "      <th>...</th>\n",
              "      <th>Shopping centres</th>\n",
              "      <th>Branded clothing</th>\n",
              "      <th>Entertainment spending</th>\n",
              "      <th>Spending on looks</th>\n",
              "      <th>Spending on gadgets</th>\n",
              "      <th>Spending on healthy eating</th>\n",
              "      <th>Age</th>\n",
              "      <th>Height</th>\n",
              "      <th>Weight</th>\n",
              "      <th>Number of siblings</th>\n",
              "    </tr>\n",
              "  </thead>\n",
              "  <tbody>\n",
              "    <tr>\n",
              "      <th>count</th>\n",
              "      <td>1007.000000</td>\n",
              "      <td>1008.000000</td>\n",
              "      <td>1006.000000</td>\n",
              "      <td>1005.000000</td>\n",
              "      <td>1005.000000</td>\n",
              "      <td>1003.000000</td>\n",
              "      <td>1008.000000</td>\n",
              "      <td>1007.000000</td>\n",
              "      <td>1004.000000</td>\n",
              "      <td>1007.000000</td>\n",
              "      <td>...</td>\n",
              "      <td>1008.000000</td>\n",
              "      <td>1008.000000</td>\n",
              "      <td>1007.000000</td>\n",
              "      <td>1007.000000</td>\n",
              "      <td>1010.000000</td>\n",
              "      <td>1008.00000</td>\n",
              "      <td>1003.000000</td>\n",
              "      <td>990.000000</td>\n",
              "      <td>990.000000</td>\n",
              "      <td>1004.000000</td>\n",
              "    </tr>\n",
              "    <tr>\n",
              "      <th>mean</th>\n",
              "      <td>4.731877</td>\n",
              "      <td>3.328373</td>\n",
              "      <td>3.113320</td>\n",
              "      <td>2.288557</td>\n",
              "      <td>2.123383</td>\n",
              "      <td>2.956132</td>\n",
              "      <td>2.761905</td>\n",
              "      <td>3.471698</td>\n",
              "      <td>3.761952</td>\n",
              "      <td>2.361470</td>\n",
              "      <td>...</td>\n",
              "      <td>3.234127</td>\n",
              "      <td>3.050595</td>\n",
              "      <td>3.201589</td>\n",
              "      <td>3.106256</td>\n",
              "      <td>2.870297</td>\n",
              "      <td>3.55754</td>\n",
              "      <td>20.433699</td>\n",
              "      <td>173.514141</td>\n",
              "      <td>66.405051</td>\n",
              "      <td>1.297809</td>\n",
              "    </tr>\n",
              "    <tr>\n",
              "      <th>std</th>\n",
              "      <td>0.664049</td>\n",
              "      <td>0.833931</td>\n",
              "      <td>1.170568</td>\n",
              "      <td>1.138916</td>\n",
              "      <td>1.076136</td>\n",
              "      <td>1.252570</td>\n",
              "      <td>1.260845</td>\n",
              "      <td>1.161400</td>\n",
              "      <td>1.184861</td>\n",
              "      <td>1.372995</td>\n",
              "      <td>...</td>\n",
              "      <td>1.323062</td>\n",
              "      <td>1.306321</td>\n",
              "      <td>1.188947</td>\n",
              "      <td>1.205368</td>\n",
              "      <td>1.284970</td>\n",
              "      <td>1.09375</td>\n",
              "      <td>2.828840</td>\n",
              "      <td>10.024505</td>\n",
              "      <td>13.839561</td>\n",
              "      <td>1.013348</td>\n",
              "    </tr>\n",
              "    <tr>\n",
              "      <th>min</th>\n",
              "      <td>1.000000</td>\n",
              "      <td>1.000000</td>\n",
              "      <td>1.000000</td>\n",
              "      <td>1.000000</td>\n",
              "      <td>1.000000</td>\n",
              "      <td>1.000000</td>\n",
              "      <td>1.000000</td>\n",
              "      <td>1.000000</td>\n",
              "      <td>1.000000</td>\n",
              "      <td>1.000000</td>\n",
              "      <td>...</td>\n",
              "      <td>1.000000</td>\n",
              "      <td>1.000000</td>\n",
              "      <td>1.000000</td>\n",
              "      <td>1.000000</td>\n",
              "      <td>1.000000</td>\n",
              "      <td>1.00000</td>\n",
              "      <td>15.000000</td>\n",
              "      <td>62.000000</td>\n",
              "      <td>41.000000</td>\n",
              "      <td>0.000000</td>\n",
              "    </tr>\n",
              "    <tr>\n",
              "      <th>25%</th>\n",
              "      <td>5.000000</td>\n",
              "      <td>3.000000</td>\n",
              "      <td>2.000000</td>\n",
              "      <td>1.000000</td>\n",
              "      <td>1.000000</td>\n",
              "      <td>2.000000</td>\n",
              "      <td>2.000000</td>\n",
              "      <td>3.000000</td>\n",
              "      <td>3.000000</td>\n",
              "      <td>1.000000</td>\n",
              "      <td>...</td>\n",
              "      <td>2.000000</td>\n",
              "      <td>2.000000</td>\n",
              "      <td>2.000000</td>\n",
              "      <td>2.000000</td>\n",
              "      <td>2.000000</td>\n",
              "      <td>3.00000</td>\n",
              "      <td>19.000000</td>\n",
              "      <td>167.000000</td>\n",
              "      <td>55.000000</td>\n",
              "      <td>1.000000</td>\n",
              "    </tr>\n",
              "    <tr>\n",
              "      <th>50%</th>\n",
              "      <td>5.000000</td>\n",
              "      <td>3.000000</td>\n",
              "      <td>3.000000</td>\n",
              "      <td>2.000000</td>\n",
              "      <td>2.000000</td>\n",
              "      <td>3.000000</td>\n",
              "      <td>3.000000</td>\n",
              "      <td>4.000000</td>\n",
              "      <td>4.000000</td>\n",
              "      <td>2.000000</td>\n",
              "      <td>...</td>\n",
              "      <td>3.000000</td>\n",
              "      <td>3.000000</td>\n",
              "      <td>3.000000</td>\n",
              "      <td>3.000000</td>\n",
              "      <td>3.000000</td>\n",
              "      <td>4.00000</td>\n",
              "      <td>20.000000</td>\n",
              "      <td>173.000000</td>\n",
              "      <td>64.000000</td>\n",
              "      <td>1.000000</td>\n",
              "    </tr>\n",
              "    <tr>\n",
              "      <th>75%</th>\n",
              "      <td>5.000000</td>\n",
              "      <td>4.000000</td>\n",
              "      <td>4.000000</td>\n",
              "      <td>3.000000</td>\n",
              "      <td>3.000000</td>\n",
              "      <td>4.000000</td>\n",
              "      <td>4.000000</td>\n",
              "      <td>4.000000</td>\n",
              "      <td>5.000000</td>\n",
              "      <td>3.000000</td>\n",
              "      <td>...</td>\n",
              "      <td>4.000000</td>\n",
              "      <td>4.000000</td>\n",
              "      <td>4.000000</td>\n",
              "      <td>4.000000</td>\n",
              "      <td>4.000000</td>\n",
              "      <td>4.00000</td>\n",
              "      <td>22.000000</td>\n",
              "      <td>180.000000</td>\n",
              "      <td>75.000000</td>\n",
              "      <td>2.000000</td>\n",
              "    </tr>\n",
              "    <tr>\n",
              "      <th>max</th>\n",
              "      <td>5.000000</td>\n",
              "      <td>5.000000</td>\n",
              "      <td>5.000000</td>\n",
              "      <td>5.000000</td>\n",
              "      <td>5.000000</td>\n",
              "      <td>5.000000</td>\n",
              "      <td>5.000000</td>\n",
              "      <td>5.000000</td>\n",
              "      <td>5.000000</td>\n",
              "      <td>5.000000</td>\n",
              "      <td>...</td>\n",
              "      <td>5.000000</td>\n",
              "      <td>5.000000</td>\n",
              "      <td>5.000000</td>\n",
              "      <td>5.000000</td>\n",
              "      <td>5.000000</td>\n",
              "      <td>5.00000</td>\n",
              "      <td>30.000000</td>\n",
              "      <td>203.000000</td>\n",
              "      <td>165.000000</td>\n",
              "      <td>10.000000</td>\n",
              "    </tr>\n",
              "  </tbody>\n",
              "</table>\n",
              "<p>8 rows × 139 columns</p>\n",
              "</div>\n",
              "      <button class=\"colab-df-convert\" onclick=\"convertToInteractive('df-adf51349-28cb-4d5a-8d5f-a2b0dbe0e8f3')\"\n",
              "              title=\"Convert this dataframe to an interactive table.\"\n",
              "              style=\"display:none;\">\n",
              "        \n",
              "  <svg xmlns=\"http://www.w3.org/2000/svg\" height=\"24px\"viewBox=\"0 0 24 24\"\n",
              "       width=\"24px\">\n",
              "    <path d=\"M0 0h24v24H0V0z\" fill=\"none\"/>\n",
              "    <path d=\"M18.56 5.44l.94 2.06.94-2.06 2.06-.94-2.06-.94-.94-2.06-.94 2.06-2.06.94zm-11 1L8.5 8.5l.94-2.06 2.06-.94-2.06-.94L8.5 2.5l-.94 2.06-2.06.94zm10 10l.94 2.06.94-2.06 2.06-.94-2.06-.94-.94-2.06-.94 2.06-2.06.94z\"/><path d=\"M17.41 7.96l-1.37-1.37c-.4-.4-.92-.59-1.43-.59-.52 0-1.04.2-1.43.59L10.3 9.45l-7.72 7.72c-.78.78-.78 2.05 0 2.83L4 21.41c.39.39.9.59 1.41.59.51 0 1.02-.2 1.41-.59l7.78-7.78 2.81-2.81c.8-.78.8-2.07 0-2.86zM5.41 20L4 18.59l7.72-7.72 1.47 1.35L5.41 20z\"/>\n",
              "  </svg>\n",
              "      </button>\n",
              "      \n",
              "  <style>\n",
              "    .colab-df-container {\n",
              "      display:flex;\n",
              "      flex-wrap:wrap;\n",
              "      gap: 12px;\n",
              "    }\n",
              "\n",
              "    .colab-df-convert {\n",
              "      background-color: #E8F0FE;\n",
              "      border: none;\n",
              "      border-radius: 50%;\n",
              "      cursor: pointer;\n",
              "      display: none;\n",
              "      fill: #1967D2;\n",
              "      height: 32px;\n",
              "      padding: 0 0 0 0;\n",
              "      width: 32px;\n",
              "    }\n",
              "\n",
              "    .colab-df-convert:hover {\n",
              "      background-color: #E2EBFA;\n",
              "      box-shadow: 0px 1px 2px rgba(60, 64, 67, 0.3), 0px 1px 3px 1px rgba(60, 64, 67, 0.15);\n",
              "      fill: #174EA6;\n",
              "    }\n",
              "\n",
              "    [theme=dark] .colab-df-convert {\n",
              "      background-color: #3B4455;\n",
              "      fill: #D2E3FC;\n",
              "    }\n",
              "\n",
              "    [theme=dark] .colab-df-convert:hover {\n",
              "      background-color: #434B5C;\n",
              "      box-shadow: 0px 1px 3px 1px rgba(0, 0, 0, 0.15);\n",
              "      filter: drop-shadow(0px 1px 2px rgba(0, 0, 0, 0.3));\n",
              "      fill: #FFFFFF;\n",
              "    }\n",
              "  </style>\n",
              "\n",
              "      <script>\n",
              "        const buttonEl =\n",
              "          document.querySelector('#df-adf51349-28cb-4d5a-8d5f-a2b0dbe0e8f3 button.colab-df-convert');\n",
              "        buttonEl.style.display =\n",
              "          google.colab.kernel.accessAllowed ? 'block' : 'none';\n",
              "\n",
              "        async function convertToInteractive(key) {\n",
              "          const element = document.querySelector('#df-adf51349-28cb-4d5a-8d5f-a2b0dbe0e8f3');\n",
              "          const dataTable =\n",
              "            await google.colab.kernel.invokeFunction('convertToInteractive',\n",
              "                                                     [key], {});\n",
              "          if (!dataTable) return;\n",
              "\n",
              "          const docLinkHtml = 'Like what you see? Visit the ' +\n",
              "            '<a target=\"_blank\" href=https://colab.research.google.com/notebooks/data_table.ipynb>data table notebook</a>'\n",
              "            + ' to learn more about interactive tables.';\n",
              "          element.innerHTML = '';\n",
              "          dataTable['output_type'] = 'display_data';\n",
              "          await google.colab.output.renderOutput(dataTable, element);\n",
              "          const docLink = document.createElement('div');\n",
              "          docLink.innerHTML = docLinkHtml;\n",
              "          element.appendChild(docLink);\n",
              "        }\n",
              "      </script>\n",
              "    </div>\n",
              "  </div>\n",
              "  "
            ]
          },
          "metadata": {},
          "execution_count": 11
        }
      ]
    },
    {
      "cell_type": "code",
      "source": [
        "response_df.describe(include=[object])"
      ],
      "metadata": {
        "colab": {
          "base_uri": "https://localhost:8080/",
          "height": 175
        },
        "id": "aaUUUFkDrXzb",
        "outputId": "80b301f1-14dd-44ab-b10b-5254267e1e35"
      },
      "execution_count": 7,
      "outputs": [
        {
          "output_type": "execute_result",
          "data": {
            "text/plain": [
              "              Smoking         Alcohol          Punctuality      Lying  \\\n",
              "count            1002            1005                 1008       1008   \n",
              "unique              4               3                    3          4   \n",
              "top     tried smoking  social drinker  i am always on time  sometimes   \n",
              "freq              430             659                  399        549   \n",
              "\n",
              "         Internet usage  Gender Left - right handed         Education  \\\n",
              "count              1010    1004                1007              1009   \n",
              "unique                4       2                   2                 6   \n",
              "top     few hours a day  female        right handed  secondary school   \n",
              "freq                744     593                 906               621   \n",
              "\n",
              "       Only child Village - town House - block of flats  \n",
              "count        1008           1006                   1006  \n",
              "unique          2              2                      2  \n",
              "top            no           city         block of flats  \n",
              "freq          754            707                    595  "
            ],
            "text/html": [
              "\n",
              "  <div id=\"df-be6aef91-3130-43c1-9fdf-39d0d0665a18\">\n",
              "    <div class=\"colab-df-container\">\n",
              "      <div>\n",
              "<style scoped>\n",
              "    .dataframe tbody tr th:only-of-type {\n",
              "        vertical-align: middle;\n",
              "    }\n",
              "\n",
              "    .dataframe tbody tr th {\n",
              "        vertical-align: top;\n",
              "    }\n",
              "\n",
              "    .dataframe thead th {\n",
              "        text-align: right;\n",
              "    }\n",
              "</style>\n",
              "<table border=\"1\" class=\"dataframe\">\n",
              "  <thead>\n",
              "    <tr style=\"text-align: right;\">\n",
              "      <th></th>\n",
              "      <th>Smoking</th>\n",
              "      <th>Alcohol</th>\n",
              "      <th>Punctuality</th>\n",
              "      <th>Lying</th>\n",
              "      <th>Internet usage</th>\n",
              "      <th>Gender</th>\n",
              "      <th>Left - right handed</th>\n",
              "      <th>Education</th>\n",
              "      <th>Only child</th>\n",
              "      <th>Village - town</th>\n",
              "      <th>House - block of flats</th>\n",
              "    </tr>\n",
              "  </thead>\n",
              "  <tbody>\n",
              "    <tr>\n",
              "      <th>count</th>\n",
              "      <td>1002</td>\n",
              "      <td>1005</td>\n",
              "      <td>1008</td>\n",
              "      <td>1008</td>\n",
              "      <td>1010</td>\n",
              "      <td>1004</td>\n",
              "      <td>1007</td>\n",
              "      <td>1009</td>\n",
              "      <td>1008</td>\n",
              "      <td>1006</td>\n",
              "      <td>1006</td>\n",
              "    </tr>\n",
              "    <tr>\n",
              "      <th>unique</th>\n",
              "      <td>4</td>\n",
              "      <td>3</td>\n",
              "      <td>3</td>\n",
              "      <td>4</td>\n",
              "      <td>4</td>\n",
              "      <td>2</td>\n",
              "      <td>2</td>\n",
              "      <td>6</td>\n",
              "      <td>2</td>\n",
              "      <td>2</td>\n",
              "      <td>2</td>\n",
              "    </tr>\n",
              "    <tr>\n",
              "      <th>top</th>\n",
              "      <td>tried smoking</td>\n",
              "      <td>social drinker</td>\n",
              "      <td>i am always on time</td>\n",
              "      <td>sometimes</td>\n",
              "      <td>few hours a day</td>\n",
              "      <td>female</td>\n",
              "      <td>right handed</td>\n",
              "      <td>secondary school</td>\n",
              "      <td>no</td>\n",
              "      <td>city</td>\n",
              "      <td>block of flats</td>\n",
              "    </tr>\n",
              "    <tr>\n",
              "      <th>freq</th>\n",
              "      <td>430</td>\n",
              "      <td>659</td>\n",
              "      <td>399</td>\n",
              "      <td>549</td>\n",
              "      <td>744</td>\n",
              "      <td>593</td>\n",
              "      <td>906</td>\n",
              "      <td>621</td>\n",
              "      <td>754</td>\n",
              "      <td>707</td>\n",
              "      <td>595</td>\n",
              "    </tr>\n",
              "  </tbody>\n",
              "</table>\n",
              "</div>\n",
              "      <button class=\"colab-df-convert\" onclick=\"convertToInteractive('df-be6aef91-3130-43c1-9fdf-39d0d0665a18')\"\n",
              "              title=\"Convert this dataframe to an interactive table.\"\n",
              "              style=\"display:none;\">\n",
              "        \n",
              "  <svg xmlns=\"http://www.w3.org/2000/svg\" height=\"24px\"viewBox=\"0 0 24 24\"\n",
              "       width=\"24px\">\n",
              "    <path d=\"M0 0h24v24H0V0z\" fill=\"none\"/>\n",
              "    <path d=\"M18.56 5.44l.94 2.06.94-2.06 2.06-.94-2.06-.94-.94-2.06-.94 2.06-2.06.94zm-11 1L8.5 8.5l.94-2.06 2.06-.94-2.06-.94L8.5 2.5l-.94 2.06-2.06.94zm10 10l.94 2.06.94-2.06 2.06-.94-2.06-.94-.94-2.06-.94 2.06-2.06.94z\"/><path d=\"M17.41 7.96l-1.37-1.37c-.4-.4-.92-.59-1.43-.59-.52 0-1.04.2-1.43.59L10.3 9.45l-7.72 7.72c-.78.78-.78 2.05 0 2.83L4 21.41c.39.39.9.59 1.41.59.51 0 1.02-.2 1.41-.59l7.78-7.78 2.81-2.81c.8-.78.8-2.07 0-2.86zM5.41 20L4 18.59l7.72-7.72 1.47 1.35L5.41 20z\"/>\n",
              "  </svg>\n",
              "      </button>\n",
              "      \n",
              "  <style>\n",
              "    .colab-df-container {\n",
              "      display:flex;\n",
              "      flex-wrap:wrap;\n",
              "      gap: 12px;\n",
              "    }\n",
              "\n",
              "    .colab-df-convert {\n",
              "      background-color: #E8F0FE;\n",
              "      border: none;\n",
              "      border-radius: 50%;\n",
              "      cursor: pointer;\n",
              "      display: none;\n",
              "      fill: #1967D2;\n",
              "      height: 32px;\n",
              "      padding: 0 0 0 0;\n",
              "      width: 32px;\n",
              "    }\n",
              "\n",
              "    .colab-df-convert:hover {\n",
              "      background-color: #E2EBFA;\n",
              "      box-shadow: 0px 1px 2px rgba(60, 64, 67, 0.3), 0px 1px 3px 1px rgba(60, 64, 67, 0.15);\n",
              "      fill: #174EA6;\n",
              "    }\n",
              "\n",
              "    [theme=dark] .colab-df-convert {\n",
              "      background-color: #3B4455;\n",
              "      fill: #D2E3FC;\n",
              "    }\n",
              "\n",
              "    [theme=dark] .colab-df-convert:hover {\n",
              "      background-color: #434B5C;\n",
              "      box-shadow: 0px 1px 3px 1px rgba(0, 0, 0, 0.15);\n",
              "      filter: drop-shadow(0px 1px 2px rgba(0, 0, 0, 0.3));\n",
              "      fill: #FFFFFF;\n",
              "    }\n",
              "  </style>\n",
              "\n",
              "      <script>\n",
              "        const buttonEl =\n",
              "          document.querySelector('#df-be6aef91-3130-43c1-9fdf-39d0d0665a18 button.colab-df-convert');\n",
              "        buttonEl.style.display =\n",
              "          google.colab.kernel.accessAllowed ? 'block' : 'none';\n",
              "\n",
              "        async function convertToInteractive(key) {\n",
              "          const element = document.querySelector('#df-be6aef91-3130-43c1-9fdf-39d0d0665a18');\n",
              "          const dataTable =\n",
              "            await google.colab.kernel.invokeFunction('convertToInteractive',\n",
              "                                                     [key], {});\n",
              "          if (!dataTable) return;\n",
              "\n",
              "          const docLinkHtml = 'Like what you see? Visit the ' +\n",
              "            '<a target=\"_blank\" href=https://colab.research.google.com/notebooks/data_table.ipynb>data table notebook</a>'\n",
              "            + ' to learn more about interactive tables.';\n",
              "          element.innerHTML = '';\n",
              "          dataTable['output_type'] = 'display_data';\n",
              "          await google.colab.output.renderOutput(dataTable, element);\n",
              "          const docLink = document.createElement('div');\n",
              "          docLink.innerHTML = docLinkHtml;\n",
              "          element.appendChild(docLink);\n",
              "        }\n",
              "      </script>\n",
              "    </div>\n",
              "  </div>\n",
              "  "
            ]
          },
          "metadata": {},
          "execution_count": 7
        }
      ]
    },
    {
      "cell_type": "markdown",
      "source": [
        "2. Clasifique la variable `Weight` según su escala de medición. En función de ello elija el gráfico a generar (histograma / barras) y fundamente su elección.\n",
        "\n",
        "**El histograma permite observar un gráfico mas limpio debido a que realiza un filtro de los resultados de acuerdo con la distribución de los valores**\n",
        "\n"
      ],
      "metadata": {
        "id": "N7Hsy0_6_pMv"
      }
    },
    {
      "cell_type": "code",
      "source": [
        "response_df['Weight'].describe()"
      ],
      "metadata": {
        "colab": {
          "base_uri": "https://localhost:8080/"
        },
        "id": "GPBp9MXApZrq",
        "outputId": "9d1664d5-d360-4059-8f29-0a95a8101133"
      },
      "execution_count": 26,
      "outputs": [
        {
          "output_type": "execute_result",
          "data": {
            "text/plain": [
              "count    990.000000\n",
              "mean      66.405051\n",
              "std       13.839561\n",
              "min       41.000000\n",
              "25%       55.000000\n",
              "50%       64.000000\n",
              "75%       75.000000\n",
              "max      165.000000\n",
              "Name: Weight, dtype: float64"
            ]
          },
          "metadata": {},
          "execution_count": 26
        }
      ]
    },
    {
      "cell_type": "code",
      "source": [
        "response_df['Weight'].mode()"
      ],
      "metadata": {
        "colab": {
          "base_uri": "https://localhost:8080/"
        },
        "id": "44gZWgJXs8zn",
        "outputId": "3713a4e7-26ee-4e31-fb25-dc9c7e95de3a"
      },
      "execution_count": 279,
      "outputs": [
        {
          "output_type": "execute_result",
          "data": {
            "text/plain": [
              "0    60.0\n",
              "dtype: float64"
            ]
          },
          "metadata": {},
          "execution_count": 279
        }
      ]
    },
    {
      "cell_type": "code",
      "source": [
        "response_df['Weight'].median()"
      ],
      "metadata": {
        "colab": {
          "base_uri": "https://localhost:8080/"
        },
        "id": "HADUf2M3tG7g",
        "outputId": "5f2e388a-eb0f-49ae-b49e-a0362fd33428"
      },
      "execution_count": 280,
      "outputs": [
        {
          "output_type": "execute_result",
          "data": {
            "text/plain": [
              "65.0"
            ]
          },
          "metadata": {},
          "execution_count": 280
        }
      ]
    },
    {
      "cell_type": "code",
      "source": [
        "response_df[\"Weight\"].hist()"
      ],
      "metadata": {
        "id": "fY4OJ-89ZX4X",
        "colab": {
          "base_uri": "https://localhost:8080/",
          "height": 285
        },
        "outputId": "10c97fce-6f26-458f-95ff-05cbe6e70a4e"
      },
      "execution_count": 46,
      "outputs": [
        {
          "output_type": "execute_result",
          "data": {
            "text/plain": [
              "<matplotlib.axes._subplots.AxesSubplot at 0x7fb4c2a18130>"
            ]
          },
          "metadata": {},
          "execution_count": 46
        },
        {
          "output_type": "display_data",
          "data": {
            "text/plain": [
              "<Figure size 432x288 with 1 Axes>"
            ],
            "image/png": "[encoded data removed]"
          },
          "metadata": {
            "needs_background": "light"
          }
        }
      ]
    },
    {
      "cell_type": "markdown",
      "source": [
        "3. Clasifique la distribución del peso según su asimetría, justificando tu respuesta. Incluye el cálculo numérico que lo demuestra. \n",
        "\n",
        "**La asimetría del peso esta inclinada a una cola derecha, lo que indica que los valores más cercanos a la media 66.4 se encuentran del lado derecho.\n",
        "Es decir, la distribución esta sesgada positivamente.**"
      ],
      "metadata": {
        "id": "oE8ascx0_3uz"
      }
    },
    {
      "cell_type": "code",
      "source": [
        "response_df['Weight'].skew()"
      ],
      "metadata": {
        "colab": {
          "base_uri": "https://localhost:8080/"
        },
        "id": "VA3Zi7RJG-Cb",
        "outputId": "ebb41c36-9c1c-4aea-b3e9-7e2071a590cd"
      },
      "execution_count": 52,
      "outputs": [
        {
          "output_type": "execute_result",
          "data": {
            "text/plain": [
              "1.2237251927527477"
            ]
          },
          "metadata": {},
          "execution_count": 52
        }
      ]
    },
    {
      "cell_type": "code",
      "source": [
        "response_df['Weight'].kurt()"
      ],
      "metadata": {
        "colab": {
          "base_uri": "https://localhost:8080/"
        },
        "id": "GZ4XghCJHIAJ",
        "outputId": "2d0c4194-7302-46d9-b824-f82280b919fa"
      },
      "execution_count": 53,
      "outputs": [
        {
          "output_type": "execute_result",
          "data": {
            "text/plain": [
              "3.969322481289579"
            ]
          },
          "metadata": {},
          "execution_count": 53
        }
      ]
    },
    {
      "cell_type": "markdown",
      "source": [
        "4. ¿Cuántos valores faltantes tiene la variable `Weight`? **20**\n",
        "\n",
        "¿Qué porcentaje representa?**1.98**\n"
      ],
      "metadata": {
        "id": "PbEJw57zAjKb"
      }
    },
    {
      "cell_type": "code",
      "source": [
        "response_df['Weight'].isnull().mean()*100\n"
      ],
      "metadata": {
        "id": "O9tOsh4SZath",
        "colab": {
          "base_uri": "https://localhost:8080/"
        },
        "outputId": "78d0838c-9e31-4fda-b685-2073ddea9e53"
      },
      "execution_count": 17,
      "outputs": [
        {
          "output_type": "execute_result",
          "data": {
            "text/plain": [
              "1.9801980198019802"
            ]
          },
          "metadata": {},
          "execution_count": 17
        }
      ]
    },
    {
      "cell_type": "code",
      "source": [
        "response_df['Weight'].isnull().sum()"
      ],
      "metadata": {
        "colab": {
          "base_uri": "https://localhost:8080/"
        },
        "id": "VIIz_4i4JU_P",
        "outputId": "eb06d5e7-9131-4a1a-ee0c-5d8e50bb86e1"
      },
      "execution_count": 20,
      "outputs": [
        {
          "output_type": "execute_result",
          "data": {
            "text/plain": [
              "20"
            ]
          },
          "metadata": {},
          "execution_count": 20
        }
      ]
    },
    {
      "cell_type": "markdown",
      "source": [
        "5. ¿Tendrán los valores faltantes de `Weight` relación con alguna otra variable? \n",
        "\n",
        "Analízalo considerando las siguientes columnas:\n",
        "*   Numéricas: `Age, Number of siblings` **T test= 0.7 y 0.8**\n",
        "*   Categóricas: `Gender, Education`  **T test = 0.5 y 0.8**\n",
        "\n",
        "**Segun los resultados es probable que tengan relación ya que existen diferencias bastante significativas.**\n",
        "\n",
        "Para ello deberás dividir cada columna en dos grupos: con/sin faltantes en `Weight` y utilizar métodos gráficos y la prueba t ver si hay diferencias significativas.\n",
        " \n",
        "**NOTA**. Puedes reutilizar las funciones `Diagnose_MV_Numerical` y `Diagnose_MV_Categorical` definidas en Hands-On-Prep_Missing_Values.zip. Revisa nuevamente cómo utilizarlas."
      ],
      "metadata": {
        "id": "gGdTTlwoAvRN"
      }
    },
    {
      "cell_type": "code",
      "source": [
        "from scipy.stats import ttest_ind\n",
        "def Diagnose_MV_Numerical(df,str_att_name,BM_MV):\n",
        "    MV_labels = {True:'With Missing Values',False:'Without Missing Values'}\n",
        "    \n",
        "    labels=[]\n",
        "    box_sr = pd.Series('',index = BM_MV.unique())    \n",
        "    for poss in BM_MV.unique():\n",
        "        BM = BM_MV == poss\n",
        "        box_sr[poss] = df[BM][str_att_name].dropna()\n",
        "        labels.append(MV_labels[poss])\n",
        "   \n",
        "    plt.boxplot(box_sr,vert=False)\n",
        "    plt.yticks([1,2],labels)\n",
        "    plt.xlabel(str_att_name)\n",
        "    plt.show()\n",
        "    \n",
        "    plt.figure(figsize=(10,4))\n",
        "    \n",
        "    att_range = (df[str_att_name].min(),df[str_att_name].max())\n",
        "\n",
        "    for i,poss in enumerate(BM_MV.unique()):\n",
        "        plt.subplot(1,2,i+1)\n",
        "        BM = BM_MV == poss\n",
        "        df[BM][str_att_name].hist()\n",
        "        plt.xlim = att_range\n",
        "        plt.xlabel(str_att_name)\n",
        "        plt.title(MV_labels[poss])\n",
        "\n",
        "    plt.show()\n",
        "    \n",
        "    group_1_data = df[BM_MV][str_att_name].dropna()\n",
        "    group_2_data = df[~BM_MV][str_att_name].dropna()\n",
        "    \n",
        "    p_value = ttest_ind(group_1_data,group_2_data).pvalue\n",
        "    \n",
        "    print('p-value of t-test: {}'.format(p_value))"
      ],
      "metadata": {
        "id": "mpbWpH_xcw1X"
      },
      "execution_count": 231,
      "outputs": []
    },
    {
      "cell_type": "code",
      "source": [
        "from scipy.stats import chi2_contingency\n",
        "def Diagnose_MV_Categorical(df,str_att_name,BM_MV):\n",
        "    MV_labels = {True:'With Missing Values',False:'Without Missing Values'}\n",
        "\n",
        "    plt.figure(figsize=(10,4))\n",
        "    for i,poss in enumerate(BM_MV.unique()):\n",
        "        plt.subplot(1,2,i+1)\n",
        "        BM = BM_MV == poss\n",
        "        df[BM][str_att_name].value_counts().plot.bar()\n",
        "        plt.title(MV_labels[poss])\n",
        "    plt.show()\n",
        "    contigency_table = pd.crosstab(BM_MV,df[str_att_name])   \n",
        "    p_value = chi2_contingency(contigency_table)[1]\n",
        "    \n",
        "    print('p-value of Chi_squared test: {}'.format(p_value))"
      ],
      "metadata": {
        "id": "ejjqw3orgZro"
      },
      "execution_count": 232,
      "outputs": []
    },
    {
      "cell_type": "code",
      "source": [
        "numerical_attributes = ['Age', 'Number of siblings']\n",
        "\n",
        "BM_MV = response_df.Weight.isna()\n",
        "for att in numerical_attributes:\n",
        "    print('Diagnosis Analysis of Missing Values for {}:'.format(att))\n",
        "    Diagnose_MV_Numerical(response_df,att,BM_MV)\n",
        "    print('- - - - - - - - - - - - divider - - - - - - - - - - - ')"
      ],
      "metadata": {
        "id": "Db8Lm1AnZjQT",
        "colab": {
          "base_uri": "https://localhost:8080/",
          "height": 1000
        },
        "outputId": "5bfe500d-7c77-420a-f446-5aaa99442b3a"
      },
      "execution_count": 237,
      "outputs": [
        {
          "output_type": "stream",
          "name": "stdout",
          "text": [
            "Diagnosis Analysis of Missing Values for Age:\n"
          ]
        },
        {
          "output_type": "display_data",
          "data": {
            "text/plain": [
              "<Figure size 432x288 with 1 Axes>"
            ],
            "image/png": "[encoded data removed]"
          },
          "metadata": {
            "needs_background": "light"
          }
        },
        {
          "output_type": "display_data",
          "data": {
            "text/plain": [
              "<Figure size 720x288 with 2 Axes>"
            ],
            "image/png": "[encoded data removed]"
          },
          "metadata": {
            "needs_background": "light"
          }
        },
        {
          "output_type": "stream",
          "name": "stdout",
          "text": [
            "p-value of t-test: 0.7258243979822129\n",
            "- - - - - - - - - - - - divider - - - - - - - - - - - \n",
            "Diagnosis Analysis of Missing Values for Number of siblings:\n"
          ]
        },
        {
          "output_type": "display_data",
          "data": {
            "text/plain": [
              "<Figure size 432x288 with 1 Axes>"
            ],
            "image/png": "[encoded data removed]"
          },
          "metadata": {
            "needs_background": "light"
          }
        },
        {
          "output_type": "display_data",
          "data": {
            "text/plain": [
              "<Figure size 720x288 with 2 Axes>"
            ],
            "image/png": "[encoded data removed]"
          },
          "metadata": {
            "needs_background": "light"
          }
        },
        {
          "output_type": "stream",
          "name": "stdout",
          "text": [
            "p-value of t-test: 0.8255092107556896\n",
            "- - - - - - - - - - - - divider - - - - - - - - - - - \n"
          ]
        }
      ]
    },
    {
      "cell_type": "code",
      "source": [
        "from scipy.stats import chi2_contingency\n",
        "def Diagnose_MV_Categorical(df,str_att_name,BM_MV):\n",
        "    MV_labels = {True:'With Missing Values',False:'Without Missing Values'}\n",
        "\n",
        "    plt.figure(figsize=(10,4))\n",
        "    for i,poss in enumerate(BM_MV.unique()):\n",
        "        plt.subplot(1,2,i+1)\n",
        "        BM = BM_MV == poss\n",
        "        df[BM][str_att_name].value_counts().plot.bar()\n",
        "        plt.title(MV_labels[poss])\n",
        "    plt.show()\n",
        "\n",
        "    contigency_table = pd.crosstab(BM_MV,df[str_att_name])   \n",
        "    p_value = chi2_contingency(contigency_table)[1]\n",
        "    \n",
        "    print('p-value of Chi_squared test: {}'.format(p_value))"
      ],
      "metadata": {
        "id": "pSAUTvgIiVWD"
      },
      "execution_count": 238,
      "outputs": []
    },
    {
      "cell_type": "code",
      "source": [
        "categorical_attributes = ['Gender', 'Education']\n",
        "\n",
        "BM_MV = response_df.Weight.isna()\n",
        "for att in categorical_attributes:\n",
        "    print('Diagnosis Analysis of Missing Values for {}:'.format(att))\n",
        "    Diagnose_MV_Categorical(response_df,att,BM_MV)\n",
        "    print('- - - - - - - - - - - - divider - - - - - - - - - - - ')"
      ],
      "metadata": {
        "colab": {
          "base_uri": "https://localhost:8080/",
          "height": 823
        },
        "id": "vl0qrzQ7if1C",
        "outputId": "db59df5e-0dce-4e94-80e5-4fb6e5bde255"
      },
      "execution_count": 241,
      "outputs": [
        {
          "output_type": "stream",
          "name": "stdout",
          "text": [
            "Diagnosis Analysis of Missing Values for Gender:\n"
          ]
        },
        {
          "output_type": "display_data",
          "data": {
            "text/plain": [
              "<Figure size 720x288 with 2 Axes>"
            ],
            "image/png": "[encoded data removed]"
          },
          "metadata": {
            "needs_background": "light"
          }
        },
        {
          "output_type": "stream",
          "name": "stdout",
          "text": [
            "p-value of Chi_squared test: 0.5472167199163878\n",
            "- - - - - - - - - - - - divider - - - - - - - - - - - \n",
            "Diagnosis Analysis of Missing Values for Education:\n"
          ]
        },
        {
          "output_type": "display_data",
          "data": {
            "text/plain": [
              "<Figure size 720x288 with 2 Axes>"
            ],
            "image/png": "[encoded data removed]"
          },
          "metadata": {
            "needs_background": "light"
          }
        },
        {
          "output_type": "stream",
          "name": "stdout",
          "text": [
            "p-value of Chi_squared test: 0.8424822989541867\n",
            "- - - - - - - - - - - - divider - - - - - - - - - - - \n"
          ]
        }
      ]
    },
    {
      "cell_type": "markdown",
      "source": [
        "6. Utiliza una medida de tendencia central para imputar los valores faltantes de `Weight`. \n",
        "¿Cuál es recomendable y por qué? \n",
        "\n",
        "**Se tiene un porcentaje de 1.98% de valores faltantes, por lo tanto es mejor utilizar el metodo de imputación**"
      ],
      "metadata": {
        "id": "Ez5n5y3ABif0"
      }
    },
    {
      "cell_type": "code",
      "source": [
        "response_df['Weight'] = response_df['Weight'].fillna(response_df['Weight'].mean())\n",
        "response_df['Weight']\n"
      ],
      "metadata": {
        "id": "foY7zWzqZqhU",
        "colab": {
          "base_uri": "https://localhost:8080/"
        },
        "outputId": "8826d068-6bfc-4795-e2b1-e690fb314291"
      },
      "execution_count": 299,
      "outputs": [
        {
          "output_type": "execute_result",
          "data": {
            "text/plain": [
              "0       48.0\n",
              "1       58.0\n",
              "2       67.0\n",
              "3       59.0\n",
              "4       59.0\n",
              "        ... \n",
              "1005    57.0\n",
              "1006    80.0\n",
              "1007    75.0\n",
              "1008    58.0\n",
              "1009    72.0\n",
              "Name: Weight, Length: 1010, dtype: float64"
            ]
          },
          "metadata": {},
          "execution_count": 299
        }
      ]
    },
    {
      "cell_type": "markdown",
      "source": [
        "7. ¿Hay valores atípicos de la variable `Weight`? **si**\n",
        "\n",
        "Confírmalo con un gráfico de boxplot. ¿Cuántos son? **8**\n",
        "\n",
        " Almacénalos en un dataframe independiente y elimínalos del conjunto original."
      ],
      "metadata": {
        "id": "lUN8erGWDT0E"
      }
    },
    {
      "cell_type": "code",
      "source": [
        "sns.boxplot(y=\"Weight\",data=response_df)\n",
        "plt.show()"
      ],
      "metadata": {
        "colab": {
          "base_uri": "https://localhost:8080/",
          "height": 252
        },
        "id": "FSQoNoIfI603",
        "outputId": "2ab8ce53-399a-45d6-c0f9-699328a68fec"
      },
      "execution_count": 243,
      "outputs": [
        {
          "output_type": "display_data",
          "data": {
            "text/plain": [
              "<Figure size 432x288 with 1 Axes>"
            ],
            "image/png": "[encoded data removed]"
          },
          "metadata": {
            "needs_background": "light"
          }
        }
      ]
    },
    {
      "cell_type": "code",
      "source": [
        "percentile_25 = response_df[\"Weight\"].quantile(0.25)\n",
        "percentile_75 = response_df[\"Weight\"].quantile(0.75)\n",
        "iqr = percentile_75 - percentile_25\n",
        "upper_limit = percentile_75 + 1.5 * iqr\n",
        "lower_limit = percentile_25 - 1.5 * iqr\n",
        "IQR_outliers = response_df['Weight'][(response_df[\"Weight\"] <= lower_limit) | (response_df[\"Weight\"] >= upper_limit)]\n",
        "IQR_outliers.unique()"
      ],
      "metadata": {
        "id": "OMNOu5ejZtSZ",
        "colab": {
          "base_uri": "https://localhost:8080/"
        },
        "outputId": "ce3f9fac-2965-4ec5-8fd8-2712f0bf68a8"
      },
      "execution_count": 137,
      "outputs": [
        {
          "output_type": "execute_result",
          "data": {
            "text/plain": [
              "array([120., 110., 111., 113., 125., 165., 150., 105.])"
            ]
          },
          "metadata": {},
          "execution_count": 137
        }
      ]
    },
    {
      "cell_type": "markdown",
      "source": [
        "8. Repite el mismo proceso con la variable `Height`."
      ],
      "metadata": {
        "id": "N6pEvCBzLtIU"
      }
    },
    {
      "cell_type": "code",
      "source": [
        "sns.boxplot(y=\"Height\",data=response_df)\n",
        "plt.show()"
      ],
      "metadata": {
        "colab": {
          "base_uri": "https://localhost:8080/",
          "height": 252
        },
        "id": "gWDwU2JUMBG8",
        "outputId": "762c1aa8-1758-43ba-bf78-af655bd2fea7"
      },
      "execution_count": 242,
      "outputs": [
        {
          "output_type": "display_data",
          "data": {
            "text/plain": [
              "<Figure size 432x288 with 1 Axes>"
            ],
            "image/png": "[encoded data removed]"
          },
          "metadata": {
            "needs_background": "light"
          }
        }
      ]
    },
    {
      "cell_type": "code",
      "source": [
        "percentile_25 = response_df[\"Height\"].quantile(0.25)\n",
        "percentile_75 = response_df[\"Height\"].quantile(0.75)\n",
        "iqr = percentile_75 - percentile_25\n",
        "upper_limit = percentile_75 + 1.5 * iqr\n",
        "lower_limit = percentile_25 - 1.5 * iqr\n",
        "IQR_outliersh = response_df['Height'][(response_df[\"Height\"] <= lower_limit) | (response_df[\"Height\"] >= upper_limit)]\n",
        "IQR_outliersh.unique()"
      ],
      "metadata": {
        "id": "XjLj1QTjZvEh",
        "colab": {
          "base_uri": "https://localhost:8080/"
        },
        "outputId": "d86d98e6-222d-4b45-ff2f-832a2a46dc0f"
      },
      "execution_count": 159,
      "outputs": [
        {
          "output_type": "execute_result",
          "data": {
            "text/plain": [
              "array([200., 203.,  62.])"
            ]
          },
          "metadata": {},
          "execution_count": 159
        }
      ]
    },
    {
      "cell_type": "markdown",
      "source": [
        "\n",
        "9. ¿Hay encuestados que sean atípicos según su índice de masa corporal (`BMI`)? **SI**\n",
        "\n",
        "El `BMI` puede ser calculado usando la siguiente fórmula:\n",
        " \n",
        "`BMI = Weight / Height ^ 2`\n",
        " \n",
        "**NOTA**. El peso tiene que estar en kilogramos y la altura en metros, pero en el conjunto la altura se ha registrado en centímetros, por lo que deberás convertirla a metros."
      ],
      "metadata": {
        "id": "J-r83U_lEpsd"
      }
    },
    {
      "cell_type": "code",
      "source": [
        "a=response_df['Weight']\n",
        "b=(response_df['Height']/100)**2\n",
        "BMI=a/b\n",
        "BMI.nunique()"
      ],
      "metadata": {
        "id": "UZ4HWUzzZw_S",
        "colab": {
          "base_uri": "https://localhost:8080/"
        },
        "outputId": "2af36132-5d21-47aa-f5e8-fda8fcbc24a2"
      },
      "execution_count": 160,
      "outputs": [
        {
          "output_type": "execute_result",
          "data": {
            "text/plain": [
              "567"
            ]
          },
          "metadata": {},
          "execution_count": 160
        }
      ]
    },
    {
      "cell_type": "code",
      "source": [
        "sns.boxplot(y=BMI,data=response_df)\n",
        "plt.show()"
      ],
      "metadata": {
        "colab": {
          "base_uri": "https://localhost:8080/",
          "height": 252
        },
        "id": "NLDGSowmRtLn",
        "outputId": "4b39cf94-48ae-4f4f-944d-aedaa7476d37"
      },
      "execution_count": 227,
      "outputs": [
        {
          "output_type": "display_data",
          "data": {
            "text/plain": [
              "<Figure size 432x288 with 1 Axes>"
            ],
            "image/png": "[encoded data removed]"
          },
          "metadata": {
            "needs_background": "light"
          }
        }
      ]
    },
    {
      "cell_type": "markdown",
      "source": [
        "10. Utiliza boxplots para visualizar la distribución del `BMI` según cada una de las variables categóricas de texto. Comenta un hallazgo que llame tu atención."
      ],
      "metadata": {
        "id": "G_pt1FBWMOZG"
      }
    },
    {
      "cell_type": "code",
      "source": [
        "response_df.select_dtypes(include='object').nunique()"
      ],
      "metadata": {
        "id": "K13uMSzfZydK",
        "colab": {
          "base_uri": "https://localhost:8080/"
        },
        "outputId": "f947886d-a16d-4683-beb3-d1354d1e5a15"
      },
      "execution_count": 224,
      "outputs": [
        {
          "output_type": "execute_result",
          "data": {
            "text/plain": [
              "Smoking                   4\n",
              "Alcohol                   3\n",
              "Punctuality               3\n",
              "Lying                     4\n",
              "Internet usage            4\n",
              "Gender                    2\n",
              "Left - right handed       2\n",
              "Education                 6\n",
              "Only child                2\n",
              "Village - town            2\n",
              "House - block of flats    2\n",
              "dtype: int64"
            ]
          },
          "metadata": {},
          "execution_count": 224
        }
      ]
    },
    {
      "cell_type": "code",
      "source": [
        "fig,axs=plt.subplots(4,3, figsize=(35,30))\n",
        "sns.boxplot(x=response_df['Smoking'],y=BMI,data=response_df,ax=axs[0,0])\n",
        "sns.boxplot(x=response_df['Alcohol'],y=BMI,data=response_df,ax=axs[0,1])\n",
        "sns.boxplot(x=response_df['Punctuality'],y=BMI,data=response_df,ax=axs[0,2])\n",
        "sns.boxplot(x=response_df['Lying'],y=BMI,data=response_df,ax=axs[1,0])\n",
        "sns.boxplot(x=response_df['Internet usage'],y=BMI,data=response_df,ax=axs[1,1])\n",
        "sns.boxplot(x=response_df['Gender'],y=BMI,data=response_df,ax=axs[1,2])\n",
        "sns.boxplot(x=response_df['Left - right handed'],y=BMI,data=response_df,ax=axs[2,0])\n",
        "sns.boxplot(x=response_df['Education'],y=BMI,data=response_df,ax=axs[2,1])\n",
        "sns.boxplot(x=response_df['Only child'],y=BMI,data=response_df,ax=axs[2,2])\n",
        "sns.boxplot(x=response_df['Village - town'],y=BMI,data=response_df,ax=axs[3,0])\n",
        "sns.boxplot(x=response_df['House - block of flats'],y=BMI,data=response_df,ax=axs[3,1])\n",
        "\n",
        "fig.tight_layout()\n",
        "\n",
        "\n"
      ],
      "metadata": {
        "colab": {
          "base_uri": "https://localhost:8080/",
          "height": 1000
        },
        "id": "ozC715r6WoZc",
        "outputId": "c51f4869-75ae-464c-e824-fddd588ab72f"
      },
      "execution_count": 230,
      "outputs": [
        {
          "output_type": "display_data",
          "data": {
            "text/plain": [
              "<Figure size 2520x2160 with 12 Axes>"
            ],
            "image/png": "[encoded data removed]"
          },
          "metadata": {
            "needs_background": "light"
          }
        }
      ]
    }
  ],
  "metadata": {
    "kernelspec": {
      "display_name": "Python 3",
      "language": "python",
      "name": "python3"
    },
    "language_info": {
      "codemirror_mode": {
        "name": "ipython",
        "version": 3
      },
      "file_extension": ".py",
      "mimetype": "text/x-python",
      "name": "python",
      "nbconvert_exporter": "python",
      "pygments_lexer": "ipython3",
      "version": "3.8.5"
    },
    "colab": {
      "provenance": [],
      "include_colab_link": true
    }
  },
  "nbformat": 4,
  "nbformat_minor": 0
}