{
  "cells": [
    {
      "cell_type": "markdown",
      "metadata": {
        "id": "view-in-github",
        "colab_type": "text"
      },
      "source": [
        "<a href=\"https://colab.research.google.com/github/CastilloGabriela/Hands-On-Data-Preprocessing-in-Python/blob/main/Actividad6FE.ipynb\" target=\"_parent\"><img src=\"https://colab.research.google.com/assets/colab-badge.svg\" alt=\"Open In Colab\"/></a>"
      ]
    },
    {
      "cell_type": "markdown",
      "metadata": {
        "id": "0v5lZjzQZTms"
      },
      "source": [
        "**MAESTRÍA EN INTELIGENCIA ARTIFICIAL APLICADA**\n",
        "\n",
        "**Curso: TC4029 - Ciencia y analítica de datos**\n",
        "\n",
        "Tecnológico de Monterrey\n",
        "\n",
        "Prof Grettel Barceló Alonso\n",
        "\n",
        "**Semana 6**\n",
        "Ingeniería de características (FE)\n",
        "\n",
        "---"
      ]
    },
    {
      "cell_type": "markdown",
      "source": [
        "*   NOMBRE: \n",
        "1.   Dafne Avelín Durón Castán\n",
        "2.   Rodia Zuriel Tejeda Moreno\n",
        "3. Nancy Gabriela Gonzalez Castillo\n",
        "\n",
        "*   MATRÍCULA: \n",
        "1.   A00823833\n",
        "2.   A01260437\n",
        "3. A01794546\n",
        "\n"
      ],
      "metadata": {
        "id": "HfLoXtuKuCug"
      }
    },
    {
      "cell_type": "code",
      "source": [
        "from google.colab import drive\n",
        "drive.mount('/content/drive')"
      ],
      "metadata": {
        "id": "nboaPqUVuHQc",
        "colab": {
          "base_uri": "https://localhost:8080/"
        },
        "outputId": "83971a95-f5f8-41dd-aac6-44a97a5549ba"
      },
      "execution_count": 1,
      "outputs": [
        {
          "output_type": "stream",
          "name": "stdout",
          "text": [
            "Mounted at /content/drive\n"
          ]
        }
      ]
    },
    {
      "cell_type": "code",
      "source": [
        "import os\n",
        "#DIR = \"/content/drive/MyDrive/Colab Notebooks/MNA/TC4029 - Ciencia y analitica de datos/Semana 6\" #Rodia\n",
        "#DIR = \"/content/drive/MyDrive/Colab Notebooks/Ciencia y Analítica de datos/Semana 6\" #Dafne\n",
        "DIR= \"/content/drive/MyDrive/Colab Notebooks/MNA/semana 6/ARCHIVO SEM 6\"\n",
        "os.chdir(DIR)"
      ],
      "metadata": {
        "id": "nKdwi4dUuJQG"
      },
      "execution_count": 2,
      "outputs": []
    },
    {
      "cell_type": "code",
      "execution_count": 3,
      "metadata": {
        "id": "7Qc1oYLeZTmu"
      },
      "outputs": [],
      "source": [
        "import pandas as pd\n",
        "import numpy as np\n",
        "import matplotlib.pyplot as plt\n",
        "import seaborn as sns\n",
        "import scipy.stats as stats"
      ]
    },
    {
      "cell_type": "code",
      "execution_count": 4,
      "metadata": {
        "id": "8Z_KZl5LZTmz",
        "colab": {
          "base_uri": "https://localhost:8080/",
          "height": 783
        },
        "outputId": "d82d4c3f-8b76-4b5c-ba4b-e979d7f211c0"
      },
      "outputs": [
        {
          "output_type": "execute_result",
          "data": {
            "text/plain": [
              "                id                                                url  \\\n",
              "0       7222695916  https://prescott.craigslist.org/cto/d/prescott...   \n",
              "1       7218891961  https://fayar.craigslist.org/ctd/d/bentonville...   \n",
              "2       7221797935  https://keys.craigslist.org/cto/d/summerland-k...   \n",
              "3       7222270760  https://worcester.craigslist.org/cto/d/west-br...   \n",
              "4       7210384030  https://greensboro.craigslist.org/cto/d/trinit...   \n",
              "...            ...                                                ...   \n",
              "426875  7301591192  https://wyoming.craigslist.org/ctd/d/atlanta-2...   \n",
              "426876  7301591187  https://wyoming.craigslist.org/ctd/d/atlanta-2...   \n",
              "426877  7301591147  https://wyoming.craigslist.org/ctd/d/atlanta-2...   \n",
              "426878  7301591140  https://wyoming.craigslist.org/ctd/d/atlanta-2...   \n",
              "426879  7301591129  https://wyoming.craigslist.org/ctd/d/atlanta-2...   \n",
              "\n",
              "                        region                         region_url  price  \\\n",
              "0                     prescott    https://prescott.craigslist.org   6000   \n",
              "1                 fayetteville       https://fayar.craigslist.org  11900   \n",
              "2                 florida keys        https://keys.craigslist.org  21000   \n",
              "3       worcester / central MA   https://worcester.craigslist.org   1500   \n",
              "4                   greensboro  https://greensboro.craigslist.org   4900   \n",
              "...                        ...                                ...    ...   \n",
              "426875                 wyoming     https://wyoming.craigslist.org  23590   \n",
              "426876                 wyoming     https://wyoming.craigslist.org  30590   \n",
              "426877                 wyoming     https://wyoming.craigslist.org  34990   \n",
              "426878                 wyoming     https://wyoming.craigslist.org  28990   \n",
              "426879                 wyoming     https://wyoming.craigslist.org  30590   \n",
              "\n",
              "          year manufacturer                     model condition    cylinders  \\\n",
              "0          NaN          NaN                       NaN       NaN          NaN   \n",
              "1          NaN          NaN                       NaN       NaN          NaN   \n",
              "2          NaN          NaN                       NaN       NaN          NaN   \n",
              "3          NaN          NaN                       NaN       NaN          NaN   \n",
              "4          NaN          NaN                       NaN       NaN          NaN   \n",
              "...        ...          ...                       ...       ...          ...   \n",
              "426875  2019.0       nissan         maxima s sedan 4d      good  6 cylinders   \n",
              "426876  2020.0        volvo  s60 t5 momentum sedan 4d      good          NaN   \n",
              "426877  2020.0     cadillac          xt4 sport suv 4d      good          NaN   \n",
              "426878  2018.0        lexus           es 350 sedan 4d      good  6 cylinders   \n",
              "426879  2019.0          bmw  4 series 430i gran coupe      good          NaN   \n",
              "\n",
              "        ... size       type paint_color  \\\n",
              "0       ...  NaN        NaN         NaN   \n",
              "1       ...  NaN        NaN         NaN   \n",
              "2       ...  NaN        NaN         NaN   \n",
              "3       ...  NaN        NaN         NaN   \n",
              "4       ...  NaN        NaN         NaN   \n",
              "...     ...  ...        ...         ...   \n",
              "426875  ...  NaN      sedan         NaN   \n",
              "426876  ...  NaN      sedan         red   \n",
              "426877  ...  NaN  hatchback       white   \n",
              "426878  ...  NaN      sedan      silver   \n",
              "426879  ...  NaN      coupe         NaN   \n",
              "\n",
              "                                                image_url  \\\n",
              "0                                                     NaN   \n",
              "1                                                     NaN   \n",
              "2                                                     NaN   \n",
              "3                                                     NaN   \n",
              "4                                                     NaN   \n",
              "...                                                   ...   \n",
              "426875  https://images.craigslist.org/00o0o_iiraFnHg8q...   \n",
              "426876  https://images.craigslist.org/00x0x_15sbgnxCIS...   \n",
              "426877  https://images.craigslist.org/00L0L_farM7bxnxR...   \n",
              "426878  https://images.craigslist.org/00z0z_bKnIVGLkDT...   \n",
              "426879  https://images.craigslist.org/00Y0Y_lEUocjyRxa...   \n",
              "\n",
              "                                              description county state  \\\n",
              "0                                                     NaN    NaN    az   \n",
              "1                                                     NaN    NaN    ar   \n",
              "2                                                     NaN    NaN    fl   \n",
              "3                                                     NaN    NaN    ma   \n",
              "4                                                     NaN    NaN    nc   \n",
              "...                                                   ...    ...   ...   \n",
              "426875  Carvana is the safer way to buy a car During t...    NaN    wy   \n",
              "426876  Carvana is the safer way to buy a car During t...    NaN    wy   \n",
              "426877  Carvana is the safer way to buy a car During t...    NaN    wy   \n",
              "426878  Carvana is the safer way to buy a car During t...    NaN    wy   \n",
              "426879  Carvana is the safer way to buy a car During t...    NaN    wy   \n",
              "\n",
              "              lat       long              posting_date  \n",
              "0             NaN        NaN                       NaN  \n",
              "1             NaN        NaN                       NaN  \n",
              "2             NaN        NaN                       NaN  \n",
              "3             NaN        NaN                       NaN  \n",
              "4             NaN        NaN                       NaN  \n",
              "...           ...        ...                       ...  \n",
              "426875  33.786500 -84.445400  2021-04-04T03:21:31-0600  \n",
              "426876  33.786500 -84.445400  2021-04-04T03:21:29-0600  \n",
              "426877  33.779214 -84.411811  2021-04-04T03:21:17-0600  \n",
              "426878  33.786500 -84.445400  2021-04-04T03:21:11-0600  \n",
              "426879  33.779214 -84.411811  2021-04-04T03:21:07-0600  \n",
              "\n",
              "[426880 rows x 26 columns]"
            ],
            "text/html": [
              "\n",
              "  <div id=\"df-edfd5993-9d6a-4cff-9efd-ac55c8929eb7\">\n",
              "    <div class=\"colab-df-container\">\n",
              "      <div>\n",
              "<style scoped>\n",
              "    .dataframe tbody tr th:only-of-type {\n",
              "        vertical-align: middle;\n",
              "    }\n",
              "\n",
              "    .dataframe tbody tr th {\n",
              "        vertical-align: top;\n",
              "    }\n",
              "\n",
              "    .dataframe thead th {\n",
              "        text-align: right;\n",
              "    }\n",
              "</style>\n",
              "<table border=\"1\" class=\"dataframe\">\n",
              "  <thead>\n",
              "    <tr style=\"text-align: right;\">\n",
              "      <th></th>\n",
              "      <th>id</th>\n",
              "      <th>url</th>\n",
              "      <th>region</th>\n",
              "      <th>region_url</th>\n",
              "      <th>price</th>\n",
              "      <th>year</th>\n",
              "      <th>manufacturer</th>\n",
              "      <th>model</th>\n",
              "      <th>condition</th>\n",
              "      <th>cylinders</th>\n",
              "      <th>...</th>\n",
              "      <th>size</th>\n",
              "      <th>type</th>\n",
              "      <th>paint_color</th>\n",
              "      <th>image_url</th>\n",
              "      <th>description</th>\n",
              "      <th>county</th>\n",
              "      <th>state</th>\n",
              "      <th>lat</th>\n",
              "      <th>long</th>\n",
              "      <th>posting_date</th>\n",
              "    </tr>\n",
              "  </thead>\n",
              "  <tbody>\n",
              "    <tr>\n",
              "      <th>0</th>\n",
              "      <td>7222695916</td>\n",
              "      <td>https://prescott.craigslist.org/cto/d/prescott...</td>\n",
              "      <td>prescott</td>\n",
              "      <td>https://prescott.craigslist.org</td>\n",
              "      <td>6000</td>\n",
              "      <td>NaN</td>\n",
              "      <td>NaN</td>\n",
              "      <td>NaN</td>\n",
              "      <td>NaN</td>\n",
              "      <td>NaN</td>\n",
              "      <td>...</td>\n",
              "      <td>NaN</td>\n",
              "      <td>NaN</td>\n",
              "      <td>NaN</td>\n",
              "      <td>NaN</td>\n",
              "      <td>NaN</td>\n",
              "      <td>NaN</td>\n",
              "      <td>az</td>\n",
              "      <td>NaN</td>\n",
              "      <td>NaN</td>\n",
              "      <td>NaN</td>\n",
              "    </tr>\n",
              "    <tr>\n",
              "      <th>1</th>\n",
              "      <td>7218891961</td>\n",
              "      <td>https://fayar.craigslist.org/ctd/d/bentonville...</td>\n",
              "      <td>fayetteville</td>\n",
              "      <td>https://fayar.craigslist.org</td>\n",
              "      <td>11900</td>\n",
              "      <td>NaN</td>\n",
              "      <td>NaN</td>\n",
              "      <td>NaN</td>\n",
              "      <td>NaN</td>\n",
              "      <td>NaN</td>\n",
              "      <td>...</td>\n",
              "      <td>NaN</td>\n",
              "      <td>NaN</td>\n",
              "      <td>NaN</td>\n",
              "      <td>NaN</td>\n",
              "      <td>NaN</td>\n",
              "      <td>NaN</td>\n",
              "      <td>ar</td>\n",
              "      <td>NaN</td>\n",
              "      <td>NaN</td>\n",
              "      <td>NaN</td>\n",
              "    </tr>\n",
              "    <tr>\n",
              "      <th>2</th>\n",
              "      <td>7221797935</td>\n",
              "      <td>https://keys.craigslist.org/cto/d/summerland-k...</td>\n",
              "      <td>florida keys</td>\n",
              "      <td>https://keys.craigslist.org</td>\n",
              "      <td>21000</td>\n",
              "      <td>NaN</td>\n",
              "      <td>NaN</td>\n",
              "      <td>NaN</td>\n",
              "      <td>NaN</td>\n",
              "      <td>NaN</td>\n",
              "      <td>...</td>\n",
              "      <td>NaN</td>\n",
              "      <td>NaN</td>\n",
              "      <td>NaN</td>\n",
              "      <td>NaN</td>\n",
              "      <td>NaN</td>\n",
              "      <td>NaN</td>\n",
              "      <td>fl</td>\n",
              "      <td>NaN</td>\n",
              "      <td>NaN</td>\n",
              "      <td>NaN</td>\n",
              "    </tr>\n",
              "    <tr>\n",
              "      <th>3</th>\n",
              "      <td>7222270760</td>\n",
              "      <td>https://worcester.craigslist.org/cto/d/west-br...</td>\n",
              "      <td>worcester / central MA</td>\n",
              "      <td>https://worcester.craigslist.org</td>\n",
              "      <td>1500</td>\n",
              "      <td>NaN</td>\n",
              "      <td>NaN</td>\n",
              "      <td>NaN</td>\n",
              "      <td>NaN</td>\n",
              "      <td>NaN</td>\n",
              "      <td>...</td>\n",
              "      <td>NaN</td>\n",
              "      <td>NaN</td>\n",
              "      <td>NaN</td>\n",
              "      <td>NaN</td>\n",
              "      <td>NaN</td>\n",
              "      <td>NaN</td>\n",
              "      <td>ma</td>\n",
              "      <td>NaN</td>\n",
              "      <td>NaN</td>\n",
              "      <td>NaN</td>\n",
              "    </tr>\n",
              "    <tr>\n",
              "      <th>4</th>\n",
              "      <td>7210384030</td>\n",
              "      <td>https://greensboro.craigslist.org/cto/d/trinit...</td>\n",
              "      <td>greensboro</td>\n",
              "      <td>https://greensboro.craigslist.org</td>\n",
              "      <td>4900</td>\n",
              "      <td>NaN</td>\n",
              "      <td>NaN</td>\n",
              "      <td>NaN</td>\n",
              "      <td>NaN</td>\n",
              "      <td>NaN</td>\n",
              "      <td>...</td>\n",
              "      <td>NaN</td>\n",
              "      <td>NaN</td>\n",
              "      <td>NaN</td>\n",
              "      <td>NaN</td>\n",
              "      <td>NaN</td>\n",
              "      <td>NaN</td>\n",
              "      <td>nc</td>\n",
              "      <td>NaN</td>\n",
              "      <td>NaN</td>\n",
              "      <td>NaN</td>\n",
              "    </tr>\n",
              "    <tr>\n",
              "      <th>...</th>\n",
              "      <td>...</td>\n",
              "      <td>...</td>\n",
              "      <td>...</td>\n",
              "      <td>...</td>\n",
              "      <td>...</td>\n",
              "      <td>...</td>\n",
              "      <td>...</td>\n",
              "      <td>...</td>\n",
              "      <td>...</td>\n",
              "      <td>...</td>\n",
              "      <td>...</td>\n",
              "      <td>...</td>\n",
              "      <td>...</td>\n",
              "      <td>...</td>\n",
              "      <td>...</td>\n",
              "      <td>...</td>\n",
              "      <td>...</td>\n",
              "      <td>...</td>\n",
              "      <td>...</td>\n",
              "      <td>...</td>\n",
              "      <td>...</td>\n",
              "    </tr>\n",
              "    <tr>\n",
              "      <th>426875</th>\n",
              "      <td>7301591192</td>\n",
              "      <td>https://wyoming.craigslist.org/ctd/d/atlanta-2...</td>\n",
              "      <td>wyoming</td>\n",
              "      <td>https://wyoming.craigslist.org</td>\n",
              "      <td>23590</td>\n",
              "      <td>2019.0</td>\n",
              "      <td>nissan</td>\n",
              "      <td>maxima s sedan 4d</td>\n",
              "      <td>good</td>\n",
              "      <td>6 cylinders</td>\n",
              "      <td>...</td>\n",
              "      <td>NaN</td>\n",
              "      <td>sedan</td>\n",
              "      <td>NaN</td>\n",
              "      <td>https://images.craigslist.org/00o0o_iiraFnHg8q...</td>\n",
              "      <td>Carvana is the safer way to buy a car During t...</td>\n",
              "      <td>NaN</td>\n",
              "      <td>wy</td>\n",
              "      <td>33.786500</td>\n",
              "      <td>-84.445400</td>\n",
              "      <td>2021-04-04T03:21:31-0600</td>\n",
              "    </tr>\n",
              "    <tr>\n",
              "      <th>426876</th>\n",
              "      <td>7301591187</td>\n",
              "      <td>https://wyoming.craigslist.org/ctd/d/atlanta-2...</td>\n",
              "      <td>wyoming</td>\n",
              "      <td>https://wyoming.craigslist.org</td>\n",
              "      <td>30590</td>\n",
              "      <td>2020.0</td>\n",
              "      <td>volvo</td>\n",
              "      <td>s60 t5 momentum sedan 4d</td>\n",
              "      <td>good</td>\n",
              "      <td>NaN</td>\n",
              "      <td>...</td>\n",
              "      <td>NaN</td>\n",
              "      <td>sedan</td>\n",
              "      <td>red</td>\n",
              "      <td>https://images.craigslist.org/00x0x_15sbgnxCIS...</td>\n",
              "      <td>Carvana is the safer way to buy a car During t...</td>\n",
              "      <td>NaN</td>\n",
              "      <td>wy</td>\n",
              "      <td>33.786500</td>\n",
              "      <td>-84.445400</td>\n",
              "      <td>2021-04-04T03:21:29-0600</td>\n",
              "    </tr>\n",
              "    <tr>\n",
              "      <th>426877</th>\n",
              "      <td>7301591147</td>\n",
              "      <td>https://wyoming.craigslist.org/ctd/d/atlanta-2...</td>\n",
              "      <td>wyoming</td>\n",
              "      <td>https://wyoming.craigslist.org</td>\n",
              "      <td>34990</td>\n",
              "      <td>2020.0</td>\n",
              "      <td>cadillac</td>\n",
              "      <td>xt4 sport suv 4d</td>\n",
              "      <td>good</td>\n",
              "      <td>NaN</td>\n",
              "      <td>...</td>\n",
              "      <td>NaN</td>\n",
              "      <td>hatchback</td>\n",
              "      <td>white</td>\n",
              "      <td>https://images.craigslist.org/00L0L_farM7bxnxR...</td>\n",
              "      <td>Carvana is the safer way to buy a car During t...</td>\n",
              "      <td>NaN</td>\n",
              "      <td>wy</td>\n",
              "      <td>33.779214</td>\n",
              "      <td>-84.411811</td>\n",
              "      <td>2021-04-04T03:21:17-0600</td>\n",
              "    </tr>\n",
              "    <tr>\n",
              "      <th>426878</th>\n",
              "      <td>7301591140</td>\n",
              "      <td>https://wyoming.craigslist.org/ctd/d/atlanta-2...</td>\n",
              "      <td>wyoming</td>\n",
              "      <td>https://wyoming.craigslist.org</td>\n",
              "      <td>28990</td>\n",
              "      <td>2018.0</td>\n",
              "      <td>lexus</td>\n",
              "      <td>es 350 sedan 4d</td>\n",
              "      <td>good</td>\n",
              "      <td>6 cylinders</td>\n",
              "      <td>...</td>\n",
              "      <td>NaN</td>\n",
              "      <td>sedan</td>\n",
              "      <td>silver</td>\n",
              "      <td>https://images.craigslist.org/00z0z_bKnIVGLkDT...</td>\n",
              "      <td>Carvana is the safer way to buy a car During t...</td>\n",
              "      <td>NaN</td>\n",
              "      <td>wy</td>\n",
              "      <td>33.786500</td>\n",
              "      <td>-84.445400</td>\n",
              "      <td>2021-04-04T03:21:11-0600</td>\n",
              "    </tr>\n",
              "    <tr>\n",
              "      <th>426879</th>\n",
              "      <td>7301591129</td>\n",
              "      <td>https://wyoming.craigslist.org/ctd/d/atlanta-2...</td>\n",
              "      <td>wyoming</td>\n",
              "      <td>https://wyoming.craigslist.org</td>\n",
              "      <td>30590</td>\n",
              "      <td>2019.0</td>\n",
              "      <td>bmw</td>\n",
              "      <td>4 series 430i gran coupe</td>\n",
              "      <td>good</td>\n",
              "      <td>NaN</td>\n",
              "      <td>...</td>\n",
              "      <td>NaN</td>\n",
              "      <td>coupe</td>\n",
              "      <td>NaN</td>\n",
              "      <td>https://images.craigslist.org/00Y0Y_lEUocjyRxa...</td>\n",
              "      <td>Carvana is the safer way to buy a car During t...</td>\n",
              "      <td>NaN</td>\n",
              "      <td>wy</td>\n",
              "      <td>33.779214</td>\n",
              "      <td>-84.411811</td>\n",
              "      <td>2021-04-04T03:21:07-0600</td>\n",
              "    </tr>\n",
              "  </tbody>\n",
              "</table>\n",
              "<p>426880 rows × 26 columns</p>\n",
              "</div>\n",
              "      <button class=\"colab-df-convert\" onclick=\"convertToInteractive('df-edfd5993-9d6a-4cff-9efd-ac55c8929eb7')\"\n",
              "              title=\"Convert this dataframe to an interactive table.\"\n",
              "              style=\"display:none;\">\n",
              "        \n",
              "  <svg xmlns=\"http://www.w3.org/2000/svg\" height=\"24px\"viewBox=\"0 0 24 24\"\n",
              "       width=\"24px\">\n",
              "    <path d=\"M0 0h24v24H0V0z\" fill=\"none\"/>\n",
              "    <path d=\"M18.56 5.44l.94 2.06.94-2.06 2.06-.94-2.06-.94-.94-2.06-.94 2.06-2.06.94zm-11 1L8.5 8.5l.94-2.06 2.06-.94-2.06-.94L8.5 2.5l-.94 2.06-2.06.94zm10 10l.94 2.06.94-2.06 2.06-.94-2.06-.94-.94-2.06-.94 2.06-2.06.94z\"/><path d=\"M17.41 7.96l-1.37-1.37c-.4-.4-.92-.59-1.43-.59-.52 0-1.04.2-1.43.59L10.3 9.45l-7.72 7.72c-.78.78-.78 2.05 0 2.83L4 21.41c.39.39.9.59 1.41.59.51 0 1.02-.2 1.41-.59l7.78-7.78 2.81-2.81c.8-.78.8-2.07 0-2.86zM5.41 20L4 18.59l7.72-7.72 1.47 1.35L5.41 20z\"/>\n",
              "  </svg>\n",
              "      </button>\n",
              "      \n",
              "  <style>\n",
              "    .colab-df-container {\n",
              "      display:flex;\n",
              "      flex-wrap:wrap;\n",
              "      gap: 12px;\n",
              "    }\n",
              "\n",
              "    .colab-df-convert {\n",
              "      background-color: #E8F0FE;\n",
              "      border: none;\n",
              "      border-radius: 50%;\n",
              "      cursor: pointer;\n",
              "      display: none;\n",
              "      fill: #1967D2;\n",
              "      height: 32px;\n",
              "      padding: 0 0 0 0;\n",
              "      width: 32px;\n",
              "    }\n",
              "\n",
              "    .colab-df-convert:hover {\n",
              "      background-color: #E2EBFA;\n",
              "      box-shadow: 0px 1px 2px rgba(60, 64, 67, 0.3), 0px 1px 3px 1px rgba(60, 64, 67, 0.15);\n",
              "      fill: #174EA6;\n",
              "    }\n",
              "\n",
              "    [theme=dark] .colab-df-convert {\n",
              "      background-color: #3B4455;\n",
              "      fill: #D2E3FC;\n",
              "    }\n",
              "\n",
              "    [theme=dark] .colab-df-convert:hover {\n",
              "      background-color: #434B5C;\n",
              "      box-shadow: 0px 1px 3px 1px rgba(0, 0, 0, 0.15);\n",
              "      filter: drop-shadow(0px 1px 2px rgba(0, 0, 0, 0.3));\n",
              "      fill: #FFFFFF;\n",
              "    }\n",
              "  </style>\n",
              "\n",
              "      <script>\n",
              "        const buttonEl =\n",
              "          document.querySelector('#df-edfd5993-9d6a-4cff-9efd-ac55c8929eb7 button.colab-df-convert');\n",
              "        buttonEl.style.display =\n",
              "          google.colab.kernel.accessAllowed ? 'block' : 'none';\n",
              "\n",
              "        async function convertToInteractive(key) {\n",
              "          const element = document.querySelector('#df-edfd5993-9d6a-4cff-9efd-ac55c8929eb7');\n",
              "          const dataTable =\n",
              "            await google.colab.kernel.invokeFunction('convertToInteractive',\n",
              "                                                     [key], {});\n",
              "          if (!dataTable) return;\n",
              "\n",
              "          const docLinkHtml = 'Like what you see? Visit the ' +\n",
              "            '<a target=\"_blank\" href=https://colab.research.google.com/notebooks/data_table.ipynb>data table notebook</a>'\n",
              "            + ' to learn more about interactive tables.';\n",
              "          element.innerHTML = '';\n",
              "          dataTable['output_type'] = 'display_data';\n",
              "          await google.colab.output.renderOutput(dataTable, element);\n",
              "          const docLink = document.createElement('div');\n",
              "          docLink.innerHTML = docLinkHtml;\n",
              "          element.appendChild(docLink);\n",
              "        }\n",
              "      </script>\n",
              "    </div>\n",
              "  </div>\n",
              "  "
            ]
          },
          "metadata": {},
          "execution_count": 4
        }
      ],
      "source": [
        "cars_df = pd.read_csv('vehicles.csv')\n",
        "cars_df"
      ]
    },
    {
      "cell_type": "code",
      "source": [
        "cars_df.info()"
      ],
      "metadata": {
        "colab": {
          "base_uri": "https://localhost:8080/"
        },
        "id": "3qh5mTR11Gea",
        "outputId": "02563b62-0e5c-4b41-b02a-23bbfbfed6cb"
      },
      "execution_count": 5,
      "outputs": [
        {
          "output_type": "stream",
          "name": "stdout",
          "text": [
            "<class 'pandas.core.frame.DataFrame'>\n",
            "RangeIndex: 426880 entries, 0 to 426879\n",
            "Data columns (total 26 columns):\n",
            " #   Column        Non-Null Count   Dtype  \n",
            "---  ------        --------------   -----  \n",
            " 0   id            426880 non-null  int64  \n",
            " 1   url           426880 non-null  object \n",
            " 2   region        426880 non-null  object \n",
            " 3   region_url    426880 non-null  object \n",
            " 4   price         426880 non-null  int64  \n",
            " 5   year          425675 non-null  float64\n",
            " 6   manufacturer  409234 non-null  object \n",
            " 7   model         421603 non-null  object \n",
            " 8   condition     252776 non-null  object \n",
            " 9   cylinders     249202 non-null  object \n",
            " 10  fuel          423867 non-null  object \n",
            " 11  odometer      422480 non-null  float64\n",
            " 12  title_status  418638 non-null  object \n",
            " 13  transmission  424324 non-null  object \n",
            " 14  VIN           265838 non-null  object \n",
            " 15  drive         296313 non-null  object \n",
            " 16  size          120519 non-null  object \n",
            " 17  type          334022 non-null  object \n",
            " 18  paint_color   296677 non-null  object \n",
            " 19  image_url     426812 non-null  object \n",
            " 20  description   426810 non-null  object \n",
            " 21  county        0 non-null       float64\n",
            " 22  state         426880 non-null  object \n",
            " 23  lat           420331 non-null  float64\n",
            " 24  long          420331 non-null  float64\n",
            " 25  posting_date  426812 non-null  object \n",
            "dtypes: float64(5), int64(2), object(19)\n",
            "memory usage: 84.7+ MB\n"
          ]
        }
      ]
    },
    {
      "cell_type": "markdown",
      "source": [
        "# **Parte 1**. Preprocesamiento"
      ],
      "metadata": {
        "id": "NCkp_IyzsN4r"
      }
    },
    {
      "cell_type": "markdown",
      "source": [
        "1a)    Elimina las columnas que no serán relevantes para esta actividad: `id`, `VIN`, `url`, `image_url`, `description`, `posting_date`.\n"
      ],
      "metadata": {
        "id": "OegZ-_zmsjLf"
      }
    },
    {
      "cell_type": "code",
      "source": [
        "cars_df = cars_df.drop(columns=['id', 'VIN', 'url', 'image_url', 'description', 'posting_date'])\n",
        "cars_df"
      ],
      "metadata": {
        "colab": {
          "base_uri": "https://localhost:8080/",
          "height": 424
        },
        "id": "v9HHQWx4vwmt",
        "outputId": "eb8c5a20-bdc9-45c3-828a-62d84a747a16"
      },
      "execution_count": 6,
      "outputs": [
        {
          "output_type": "execute_result",
          "data": {
            "text/plain": [
              "                        region                         region_url  price  \\\n",
              "0                     prescott    https://prescott.craigslist.org   6000   \n",
              "1                 fayetteville       https://fayar.craigslist.org  11900   \n",
              "2                 florida keys        https://keys.craigslist.org  21000   \n",
              "3       worcester / central MA   https://worcester.craigslist.org   1500   \n",
              "4                   greensboro  https://greensboro.craigslist.org   4900   \n",
              "...                        ...                                ...    ...   \n",
              "426875                 wyoming     https://wyoming.craigslist.org  23590   \n",
              "426876                 wyoming     https://wyoming.craigslist.org  30590   \n",
              "426877                 wyoming     https://wyoming.craigslist.org  34990   \n",
              "426878                 wyoming     https://wyoming.craigslist.org  28990   \n",
              "426879                 wyoming     https://wyoming.craigslist.org  30590   \n",
              "\n",
              "          year manufacturer                     model condition    cylinders  \\\n",
              "0          NaN          NaN                       NaN       NaN          NaN   \n",
              "1          NaN          NaN                       NaN       NaN          NaN   \n",
              "2          NaN          NaN                       NaN       NaN          NaN   \n",
              "3          NaN          NaN                       NaN       NaN          NaN   \n",
              "4          NaN          NaN                       NaN       NaN          NaN   \n",
              "...        ...          ...                       ...       ...          ...   \n",
              "426875  2019.0       nissan         maxima s sedan 4d      good  6 cylinders   \n",
              "426876  2020.0        volvo  s60 t5 momentum sedan 4d      good          NaN   \n",
              "426877  2020.0     cadillac          xt4 sport suv 4d      good          NaN   \n",
              "426878  2018.0        lexus           es 350 sedan 4d      good  6 cylinders   \n",
              "426879  2019.0          bmw  4 series 430i gran coupe      good          NaN   \n",
              "\n",
              "          fuel  odometer title_status transmission drive size       type  \\\n",
              "0          NaN       NaN          NaN          NaN   NaN  NaN        NaN   \n",
              "1          NaN       NaN          NaN          NaN   NaN  NaN        NaN   \n",
              "2          NaN       NaN          NaN          NaN   NaN  NaN        NaN   \n",
              "3          NaN       NaN          NaN          NaN   NaN  NaN        NaN   \n",
              "4          NaN       NaN          NaN          NaN   NaN  NaN        NaN   \n",
              "...        ...       ...          ...          ...   ...  ...        ...   \n",
              "426875     gas   32226.0        clean        other   fwd  NaN      sedan   \n",
              "426876     gas   12029.0        clean        other   fwd  NaN      sedan   \n",
              "426877  diesel    4174.0        clean        other   NaN  NaN  hatchback   \n",
              "426878     gas   30112.0        clean        other   fwd  NaN      sedan   \n",
              "426879     gas   22716.0        clean        other   rwd  NaN      coupe   \n",
              "\n",
              "       paint_color  county state        lat       long  \n",
              "0              NaN     NaN    az        NaN        NaN  \n",
              "1              NaN     NaN    ar        NaN        NaN  \n",
              "2              NaN     NaN    fl        NaN        NaN  \n",
              "3              NaN     NaN    ma        NaN        NaN  \n",
              "4              NaN     NaN    nc        NaN        NaN  \n",
              "...            ...     ...   ...        ...        ...  \n",
              "426875         NaN     NaN    wy  33.786500 -84.445400  \n",
              "426876         red     NaN    wy  33.786500 -84.445400  \n",
              "426877       white     NaN    wy  33.779214 -84.411811  \n",
              "426878      silver     NaN    wy  33.786500 -84.445400  \n",
              "426879         NaN     NaN    wy  33.779214 -84.411811  \n",
              "\n",
              "[426880 rows x 20 columns]"
            ],
            "text/html": [
              "\n",
              "  <div id=\"df-18d63f95-37c7-45d6-b32c-545785b54211\">\n",
              "    <div class=\"colab-df-container\">\n",
              "      <div>\n",
              "<style scoped>\n",
              "    .dataframe tbody tr th:only-of-type {\n",
              "        vertical-align: middle;\n",
              "    }\n",
              "\n",
              "    .dataframe tbody tr th {\n",
              "        vertical-align: top;\n",
              "    }\n",
              "\n",
              "    .dataframe thead th {\n",
              "        text-align: right;\n",
              "    }\n",
              "</style>\n",
              "<table border=\"1\" class=\"dataframe\">\n",
              "  <thead>\n",
              "    <tr style=\"text-align: right;\">\n",
              "      <th></th>\n",
              "      <th>region</th>\n",
              "      <th>region_url</th>\n",
              "      <th>price</th>\n",
              "      <th>year</th>\n",
              "      <th>manufacturer</th>\n",
              "      <th>model</th>\n",
              "      <th>condition</th>\n",
              "      <th>cylinders</th>\n",
              "      <th>fuel</th>\n",
              "      <th>odometer</th>\n",
              "      <th>title_status</th>\n",
              "      <th>transmission</th>\n",
              "      <th>drive</th>\n",
              "      <th>size</th>\n",
              "      <th>type</th>\n",
              "      <th>paint_color</th>\n",
              "      <th>county</th>\n",
              "      <th>state</th>\n",
              "      <th>lat</th>\n",
              "      <th>long</th>\n",
              "    </tr>\n",
              "  </thead>\n",
              "  <tbody>\n",
              "    <tr>\n",
              "      <th>0</th>\n",
              "      <td>prescott</td>\n",
              "      <td>https://prescott.craigslist.org</td>\n",
              "      <td>6000</td>\n",
              "      <td>NaN</td>\n",
              "      <td>NaN</td>\n",
              "      <td>NaN</td>\n",
              "      <td>NaN</td>\n",
              "      <td>NaN</td>\n",
              "      <td>NaN</td>\n",
              "      <td>NaN</td>\n",
              "      <td>NaN</td>\n",
              "      <td>NaN</td>\n",
              "      <td>NaN</td>\n",
              "      <td>NaN</td>\n",
              "      <td>NaN</td>\n",
              "      <td>NaN</td>\n",
              "      <td>NaN</td>\n",
              "      <td>az</td>\n",
              "      <td>NaN</td>\n",
              "      <td>NaN</td>\n",
              "    </tr>\n",
              "    <tr>\n",
              "      <th>1</th>\n",
              "      <td>fayetteville</td>\n",
              "      <td>https://fayar.craigslist.org</td>\n",
              "      <td>11900</td>\n",
              "      <td>NaN</td>\n",
              "      <td>NaN</td>\n",
              "      <td>NaN</td>\n",
              "      <td>NaN</td>\n",
              "      <td>NaN</td>\n",
              "      <td>NaN</td>\n",
              "      <td>NaN</td>\n",
              "      <td>NaN</td>\n",
              "      <td>NaN</td>\n",
              "      <td>NaN</td>\n",
              "      <td>NaN</td>\n",
              "      <td>NaN</td>\n",
              "      <td>NaN</td>\n",
              "      <td>NaN</td>\n",
              "      <td>ar</td>\n",
              "      <td>NaN</td>\n",
              "      <td>NaN</td>\n",
              "    </tr>\n",
              "    <tr>\n",
              "      <th>2</th>\n",
              "      <td>florida keys</td>\n",
              "      <td>https://keys.craigslist.org</td>\n",
              "      <td>21000</td>\n",
              "      <td>NaN</td>\n",
              "      <td>NaN</td>\n",
              "      <td>NaN</td>\n",
              "      <td>NaN</td>\n",
              "      <td>NaN</td>\n",
              "      <td>NaN</td>\n",
              "      <td>NaN</td>\n",
              "      <td>NaN</td>\n",
              "      <td>NaN</td>\n",
              "      <td>NaN</td>\n",
              "      <td>NaN</td>\n",
              "      <td>NaN</td>\n",
              "      <td>NaN</td>\n",
              "      <td>NaN</td>\n",
              "      <td>fl</td>\n",
              "      <td>NaN</td>\n",
              "      <td>NaN</td>\n",
              "    </tr>\n",
              "    <tr>\n",
              "      <th>3</th>\n",
              "      <td>worcester / central MA</td>\n",
              "      <td>https://worcester.craigslist.org</td>\n",
              "      <td>1500</td>\n",
              "      <td>NaN</td>\n",
              "      <td>NaN</td>\n",
              "      <td>NaN</td>\n",
              "      <td>NaN</td>\n",
              "      <td>NaN</td>\n",
              "      <td>NaN</td>\n",
              "      <td>NaN</td>\n",
              "      <td>NaN</td>\n",
              "      <td>NaN</td>\n",
              "      <td>NaN</td>\n",
              "      <td>NaN</td>\n",
              "      <td>NaN</td>\n",
              "      <td>NaN</td>\n",
              "      <td>NaN</td>\n",
              "      <td>ma</td>\n",
              "      <td>NaN</td>\n",
              "      <td>NaN</td>\n",
              "    </tr>\n",
              "    <tr>\n",
              "      <th>4</th>\n",
              "      <td>greensboro</td>\n",
              "      <td>https://greensboro.craigslist.org</td>\n",
              "      <td>4900</td>\n",
              "      <td>NaN</td>\n",
              "      <td>NaN</td>\n",
              "      <td>NaN</td>\n",
              "      <td>NaN</td>\n",
              "      <td>NaN</td>\n",
              "      <td>NaN</td>\n",
              "      <td>NaN</td>\n",
              "      <td>NaN</td>\n",
              "      <td>NaN</td>\n",
              "      <td>NaN</td>\n",
              "      <td>NaN</td>\n",
              "      <td>NaN</td>\n",
              "      <td>NaN</td>\n",
              "      <td>NaN</td>\n",
              "      <td>nc</td>\n",
              "      <td>NaN</td>\n",
              "      <td>NaN</td>\n",
              "    </tr>\n",
              "    <tr>\n",
              "      <th>...</th>\n",
              "      <td>...</td>\n",
              "      <td>...</td>\n",
              "      <td>...</td>\n",
              "      <td>...</td>\n",
              "      <td>...</td>\n",
              "      <td>...</td>\n",
              "      <td>...</td>\n",
              "      <td>...</td>\n",
              "      <td>...</td>\n",
              "      <td>...</td>\n",
              "      <td>...</td>\n",
              "      <td>...</td>\n",
              "      <td>...</td>\n",
              "      <td>...</td>\n",
              "      <td>...</td>\n",
              "      <td>...</td>\n",
              "      <td>...</td>\n",
              "      <td>...</td>\n",
              "      <td>...</td>\n",
              "      <td>...</td>\n",
              "    </tr>\n",
              "    <tr>\n",
              "      <th>426875</th>\n",
              "      <td>wyoming</td>\n",
              "      <td>https://wyoming.craigslist.org</td>\n",
              "      <td>23590</td>\n",
              "      <td>2019.0</td>\n",
              "      <td>nissan</td>\n",
              "      <td>maxima s sedan 4d</td>\n",
              "      <td>good</td>\n",
              "      <td>6 cylinders</td>\n",
              "      <td>gas</td>\n",
              "      <td>32226.0</td>\n",
              "      <td>clean</td>\n",
              "      <td>other</td>\n",
              "      <td>fwd</td>\n",
              "      <td>NaN</td>\n",
              "      <td>sedan</td>\n",
              "      <td>NaN</td>\n",
              "      <td>NaN</td>\n",
              "      <td>wy</td>\n",
              "      <td>33.786500</td>\n",
              "      <td>-84.445400</td>\n",
              "    </tr>\n",
              "    <tr>\n",
              "      <th>426876</th>\n",
              "      <td>wyoming</td>\n",
              "      <td>https://wyoming.craigslist.org</td>\n",
              "      <td>30590</td>\n",
              "      <td>2020.0</td>\n",
              "      <td>volvo</td>\n",
              "      <td>s60 t5 momentum sedan 4d</td>\n",
              "      <td>good</td>\n",
              "      <td>NaN</td>\n",
              "      <td>gas</td>\n",
              "      <td>12029.0</td>\n",
              "      <td>clean</td>\n",
              "      <td>other</td>\n",
              "      <td>fwd</td>\n",
              "      <td>NaN</td>\n",
              "      <td>sedan</td>\n",
              "      <td>red</td>\n",
              "      <td>NaN</td>\n",
              "      <td>wy</td>\n",
              "      <td>33.786500</td>\n",
              "      <td>-84.445400</td>\n",
              "    </tr>\n",
              "    <tr>\n",
              "      <th>426877</th>\n",
              "      <td>wyoming</td>\n",
              "      <td>https://wyoming.craigslist.org</td>\n",
              "      <td>34990</td>\n",
              "      <td>2020.0</td>\n",
              "      <td>cadillac</td>\n",
              "      <td>xt4 sport suv 4d</td>\n",
              "      <td>good</td>\n",
              "      <td>NaN</td>\n",
              "      <td>diesel</td>\n",
              "      <td>4174.0</td>\n",
              "      <td>clean</td>\n",
              "      <td>other</td>\n",
              "      <td>NaN</td>\n",
              "      <td>NaN</td>\n",
              "      <td>hatchback</td>\n",
              "      <td>white</td>\n",
              "      <td>NaN</td>\n",
              "      <td>wy</td>\n",
              "      <td>33.779214</td>\n",
              "      <td>-84.411811</td>\n",
              "    </tr>\n",
              "    <tr>\n",
              "      <th>426878</th>\n",
              "      <td>wyoming</td>\n",
              "      <td>https://wyoming.craigslist.org</td>\n",
              "      <td>28990</td>\n",
              "      <td>2018.0</td>\n",
              "      <td>lexus</td>\n",
              "      <td>es 350 sedan 4d</td>\n",
              "      <td>good</td>\n",
              "      <td>6 cylinders</td>\n",
              "      <td>gas</td>\n",
              "      <td>30112.0</td>\n",
              "      <td>clean</td>\n",
              "      <td>other</td>\n",
              "      <td>fwd</td>\n",
              "      <td>NaN</td>\n",
              "      <td>sedan</td>\n",
              "      <td>silver</td>\n",
              "      <td>NaN</td>\n",
              "      <td>wy</td>\n",
              "      <td>33.786500</td>\n",
              "      <td>-84.445400</td>\n",
              "    </tr>\n",
              "    <tr>\n",
              "      <th>426879</th>\n",
              "      <td>wyoming</td>\n",
              "      <td>https://wyoming.craigslist.org</td>\n",
              "      <td>30590</td>\n",
              "      <td>2019.0</td>\n",
              "      <td>bmw</td>\n",
              "      <td>4 series 430i gran coupe</td>\n",
              "      <td>good</td>\n",
              "      <td>NaN</td>\n",
              "      <td>gas</td>\n",
              "      <td>22716.0</td>\n",
              "      <td>clean</td>\n",
              "      <td>other</td>\n",
              "      <td>rwd</td>\n",
              "      <td>NaN</td>\n",
              "      <td>coupe</td>\n",
              "      <td>NaN</td>\n",
              "      <td>NaN</td>\n",
              "      <td>wy</td>\n",
              "      <td>33.779214</td>\n",
              "      <td>-84.411811</td>\n",
              "    </tr>\n",
              "  </tbody>\n",
              "</table>\n",
              "<p>426880 rows × 20 columns</p>\n",
              "</div>\n",
              "      <button class=\"colab-df-convert\" onclick=\"convertToInteractive('df-18d63f95-37c7-45d6-b32c-545785b54211')\"\n",
              "              title=\"Convert this dataframe to an interactive table.\"\n",
              "              style=\"display:none;\">\n",
              "        \n",
              "  <svg xmlns=\"http://www.w3.org/2000/svg\" height=\"24px\"viewBox=\"0 0 24 24\"\n",
              "       width=\"24px\">\n",
              "    <path d=\"M0 0h24v24H0V0z\" fill=\"none\"/>\n",
              "    <path d=\"M18.56 5.44l.94 2.06.94-2.06 2.06-.94-2.06-.94-.94-2.06-.94 2.06-2.06.94zm-11 1L8.5 8.5l.94-2.06 2.06-.94-2.06-.94L8.5 2.5l-.94 2.06-2.06.94zm10 10l.94 2.06.94-2.06 2.06-.94-2.06-.94-.94-2.06-.94 2.06-2.06.94z\"/><path d=\"M17.41 7.96l-1.37-1.37c-.4-.4-.92-.59-1.43-.59-.52 0-1.04.2-1.43.59L10.3 9.45l-7.72 7.72c-.78.78-.78 2.05 0 2.83L4 21.41c.39.39.9.59 1.41.59.51 0 1.02-.2 1.41-.59l7.78-7.78 2.81-2.81c.8-.78.8-2.07 0-2.86zM5.41 20L4 18.59l7.72-7.72 1.47 1.35L5.41 20z\"/>\n",
              "  </svg>\n",
              "      </button>\n",
              "      \n",
              "  <style>\n",
              "    .colab-df-container {\n",
              "      display:flex;\n",
              "      flex-wrap:wrap;\n",
              "      gap: 12px;\n",
              "    }\n",
              "\n",
              "    .colab-df-convert {\n",
              "      background-color: #E8F0FE;\n",
              "      border: none;\n",
              "      border-radius: 50%;\n",
              "      cursor: pointer;\n",
              "      display: none;\n",
              "      fill: #1967D2;\n",
              "      height: 32px;\n",
              "      padding: 0 0 0 0;\n",
              "      width: 32px;\n",
              "    }\n",
              "\n",
              "    .colab-df-convert:hover {\n",
              "      background-color: #E2EBFA;\n",
              "      box-shadow: 0px 1px 2px rgba(60, 64, 67, 0.3), 0px 1px 3px 1px rgba(60, 64, 67, 0.15);\n",
              "      fill: #174EA6;\n",
              "    }\n",
              "\n",
              "    [theme=dark] .colab-df-convert {\n",
              "      background-color: #3B4455;\n",
              "      fill: #D2E3FC;\n",
              "    }\n",
              "\n",
              "    [theme=dark] .colab-df-convert:hover {\n",
              "      background-color: #434B5C;\n",
              "      box-shadow: 0px 1px 3px 1px rgba(0, 0, 0, 0.15);\n",
              "      filter: drop-shadow(0px 1px 2px rgba(0, 0, 0, 0.3));\n",
              "      fill: #FFFFFF;\n",
              "    }\n",
              "  </style>\n",
              "\n",
              "      <script>\n",
              "        const buttonEl =\n",
              "          document.querySelector('#df-18d63f95-37c7-45d6-b32c-545785b54211 button.colab-df-convert');\n",
              "        buttonEl.style.display =\n",
              "          google.colab.kernel.accessAllowed ? 'block' : 'none';\n",
              "\n",
              "        async function convertToInteractive(key) {\n",
              "          const element = document.querySelector('#df-18d63f95-37c7-45d6-b32c-545785b54211');\n",
              "          const dataTable =\n",
              "            await google.colab.kernel.invokeFunction('convertToInteractive',\n",
              "                                                     [key], {});\n",
              "          if (!dataTable) return;\n",
              "\n",
              "          const docLinkHtml = 'Like what you see? Visit the ' +\n",
              "            '<a target=\"_blank\" href=https://colab.research.google.com/notebooks/data_table.ipynb>data table notebook</a>'\n",
              "            + ' to learn more about interactive tables.';\n",
              "          element.innerHTML = '';\n",
              "          dataTable['output_type'] = 'display_data';\n",
              "          await google.colab.output.renderOutput(dataTable, element);\n",
              "          const docLink = document.createElement('div');\n",
              "          docLink.innerHTML = docLinkHtml;\n",
              "          element.appendChild(docLink);\n",
              "        }\n",
              "      </script>\n",
              "    </div>\n",
              "  </div>\n",
              "  "
            ]
          },
          "metadata": {},
          "execution_count": 6
        }
      ]
    },
    {
      "cell_type": "markdown",
      "source": [
        "1b) Almacena en una variable la cantidad de observaciones o registros del dataframe y en otra el número de columnas (después del borrado) para análisis posteriores. "
      ],
      "metadata": {
        "id": "SKlWlKM3sa0o"
      }
    },
    {
      "cell_type": "code",
      "source": [
        "reg = len(cars_df.index)\n",
        "col = len(cars_df.columns)\n",
        "\n",
        "print(reg, col)"
      ],
      "metadata": {
        "id": "cqo7IbVAVGJk",
        "colab": {
          "base_uri": "https://localhost:8080/"
        },
        "outputId": "eb00536f-7994-482f-c051-ea36931d1854"
      },
      "execution_count": 7,
      "outputs": [
        {
          "output_type": "stream",
          "name": "stdout",
          "text": [
            "426880 20\n"
          ]
        }
      ]
    },
    {
      "cell_type": "markdown",
      "source": [
        "## Valores faltantes"
      ],
      "metadata": {
        "id": "Oy9NansLCKIC"
      }
    },
    {
      "cell_type": "markdown",
      "source": [
        "Cuando la cantidad de valores faltantes en una columna es lo suficientemente grande (aproximadamente más del 25%), estimar e ingresar los valores faltantes no tiene sentido, y eliminar el atributo es mejor que estimar los valores faltantes. https://learning.oreilly.com/library/view/hands-on-data-preprocessing/9781801072137/B17397_11_Final_NM_ePub.xhtml#_idParaDest-188\n",
        "\n",
        "Sin embargo, esto no es una regla aplicable a todos los escenarios y hay muchas discusiones en torno a ello. https://discuss.analyticsvidhya.com/t/what-should-be-the-allowed-percentage-of-missing-values/2456/10\n",
        "\n",
        "Para esta actividad  utilizaremos un umbral de 0.70 de la cantidad de registros (aquellas columnas que tengan 70% de valores no nulos). Considera además que estamos asumiendo que dichas variables son MCAR o MAR sin ninguna método gráfico o estadístico."
      ],
      "metadata": {
        "id": "Lxx7KHBZtJPV"
      }
    },
    {
      "cell_type": "markdown",
      "source": [
        "2a) Determina el porcentaje de valores faltantes por columna y elimina aquellas que posean el 30% o más de valores perdidos. Para ello utiliza el parámetro `thresh` de la función `dropna()` ¿Cuántas columnas se eliminaron? **6**\n"
      ],
      "metadata": {
        "id": "SI-uWA9cs0TZ"
      }
    },
    {
      "cell_type": "code",
      "source": [
        "print(\"Porcentaje de valores faltantes por columna:\\n\", (cars_df.isna().sum()*100) / len(cars_df), '\\n')\n",
        "\n",
        "lim = reg*0.7\n",
        "cars_df = cars_df.dropna(axis='columns', thresh = lim)\n",
        "\n",
        "print(\"Porcentaje de valores faltantes por columna:\\n\", (cars_df.isna().sum()*100) / len(cars_df))"
      ],
      "metadata": {
        "id": "pNiSZv9dCjr0",
        "colab": {
          "base_uri": "https://localhost:8080/"
        },
        "outputId": "eb3c5b41-fb79-4c7c-fa06-910545a0b006"
      },
      "execution_count": 8,
      "outputs": [
        {
          "output_type": "stream",
          "name": "stdout",
          "text": [
            "Porcentaje de valores faltantes por columna:\n",
            " region            0.000000\n",
            "region_url        0.000000\n",
            "price             0.000000\n",
            "year              0.282281\n",
            "manufacturer      4.133714\n",
            "model             1.236179\n",
            "condition        40.785232\n",
            "cylinders        41.622470\n",
            "fuel              0.705819\n",
            "odometer          1.030735\n",
            "title_status      1.930753\n",
            "transmission      0.598763\n",
            "drive            30.586347\n",
            "size             71.767476\n",
            "type             21.752717\n",
            "paint_color      30.501078\n",
            "county          100.000000\n",
            "state             0.000000\n",
            "lat               1.534155\n",
            "long              1.534155\n",
            "dtype: float64 \n",
            "\n",
            "Porcentaje de valores faltantes por columna:\n",
            " region           0.000000\n",
            "region_url       0.000000\n",
            "price            0.000000\n",
            "year             0.282281\n",
            "manufacturer     4.133714\n",
            "model            1.236179\n",
            "fuel             0.705819\n",
            "odometer         1.030735\n",
            "title_status     1.930753\n",
            "transmission     0.598763\n",
            "type            21.752717\n",
            "state            0.000000\n",
            "lat              1.534155\n",
            "long             1.534155\n",
            "dtype: float64\n"
          ]
        }
      ]
    },
    {
      "cell_type": "code",
      "source": [],
      "metadata": {
        "id": "Dt-lOXX-hY2T"
      },
      "execution_count": null,
      "outputs": []
    },
    {
      "cell_type": "markdown",
      "source": [
        "Además, cuando tenemos grandes conjuntos de datos, podemos eliminar filas que contienen valores nulos. Aunque, no se recomienda si el porcentaje de valores faltantes en el conjunto de datos es superior al 30% \n",
        "https://medium.com/analytics-vidhya/how-to-deal-with-missing-values-in-data-set-8e8f70ecf155"
      ],
      "metadata": {
        "id": "TP9PRQdu92td"
      }
    },
    {
      "cell_type": "markdown",
      "source": [
        "2b) Borra los registros que contengan `NaN` en las columnas con menos del 5% de valores faltantes empleando el parámetro subset ¿Qué porcentaje de los registros iniciales se eliminaron?\n"
      ],
      "metadata": {
        "id": "R7lZuQncu4F6"
      }
    },
    {
      "cell_type": "code",
      "source": [
        "missing_percentages = cars_df.isna().mean() * 100\n",
        "cols_to_use = missing_percentages[missing_percentages < 5].index\n",
        "cars_df = cars_df.dropna(subset=cols_to_use)\n",
        "percent_removed = (1 - len(cars_df) / reg) * 100\n",
        "\n",
        "print(f'El {percent_removed:.2f}% de los registros iniciales se eliminaron.')"
      ],
      "metadata": {
        "colab": {
          "base_uri": "https://localhost:8080/"
        },
        "id": "x-IMSGq8t6c8",
        "outputId": "9a37b917-5cba-4de5-afca-cc8091a89c2b"
      },
      "execution_count": 9,
      "outputs": [
        {
          "output_type": "stream",
          "name": "stdout",
          "text": [
            "El 10.16% de los registros iniciales se eliminaron.\n"
          ]
        }
      ]
    },
    {
      "cell_type": "markdown",
      "source": [
        "2c) Si hay variables que aún poseen valores faltantes, utiliza el método de imputación apropiado (`mean, median, mode`) "
      ],
      "metadata": {
        "id": "nLkHFRaM0J3m"
      }
    },
    {
      "cell_type": "code",
      "source": [
        "print(\"Valores faltantes por columna:\\n\", cars_df.isna().sum(), '\\n')"
      ],
      "metadata": {
        "colab": {
          "base_uri": "https://localhost:8080/"
        },
        "id": "awxvHMBvwE5e",
        "outputId": "b466d9a3-6eba-4f67-f01b-66d0836ae48b"
      },
      "execution_count": 10,
      "outputs": [
        {
          "output_type": "stream",
          "name": "stdout",
          "text": [
            "Valores faltantes por columna:\n",
            " region              0\n",
            "region_url          0\n",
            "price               0\n",
            "year                0\n",
            "manufacturer        0\n",
            "model               0\n",
            "fuel                0\n",
            "odometer            0\n",
            "title_status        0\n",
            "transmission        0\n",
            "type            82395\n",
            "state               0\n",
            "lat                 0\n",
            "long                0\n",
            "dtype: int64 \n",
            "\n"
          ]
        }
      ]
    },
    {
      "cell_type": "code",
      "source": [
        "#Al ser 'type' una variable categórica, la mejor forma de llenar sus valores faltantes es con la moda\n",
        "cars_df['type'].fillna(cars_df['type'].mode()[0], inplace=True)\n",
        "print(\"Valores faltantes por columna:\\n\", cars_df.isna().sum(), '\\n')"
      ],
      "metadata": {
        "colab": {
          "base_uri": "https://localhost:8080/"
        },
        "id": "11N74ilj8kHa",
        "outputId": "94343859-ab17-49b5-f480-20c5dbfa1075"
      },
      "execution_count": 11,
      "outputs": [
        {
          "output_type": "stream",
          "name": "stdout",
          "text": [
            "Valores faltantes por columna:\n",
            " region          0\n",
            "region_url      0\n",
            "price           0\n",
            "year            0\n",
            "manufacturer    0\n",
            "model           0\n",
            "fuel            0\n",
            "odometer        0\n",
            "title_status    0\n",
            "transmission    0\n",
            "type            0\n",
            "state           0\n",
            "lat             0\n",
            "long            0\n",
            "dtype: int64 \n",
            "\n"
          ]
        }
      ]
    },
    {
      "cell_type": "markdown",
      "source": [
        "## Valores atípicos"
      ],
      "metadata": {
        "id": "JUnSpPktCqZy"
      }
    },
    {
      "cell_type": "markdown",
      "source": [
        "3a) Obtén el histograma de las variables `price`, `year` y `odometer` para observar su distribución. "
      ],
      "metadata": {
        "id": "JzbnXqgG0k6-"
      }
    },
    {
      "cell_type": "code",
      "source": [
        "plt.rc(\"figure\", figsize=(10,6))"
      ],
      "metadata": {
        "id": "PMmRujGu8aQS"
      },
      "execution_count": 12,
      "outputs": []
    },
    {
      "cell_type": "code",
      "source": [
        "cars_df['price'].hist()"
      ],
      "metadata": {
        "colab": {
          "base_uri": "https://localhost:8080/",
          "height": 406
        },
        "id": "NYkbRlW-2ANd",
        "outputId": "15d89067-1dca-4477-9fac-33015ea06418"
      },
      "execution_count": 13,
      "outputs": [
        {
          "output_type": "execute_result",
          "data": {
            "text/plain": [
              "<matplotlib.axes._subplots.AxesSubplot at 0x7f2ed20019a0>"
            ]
          },
          "metadata": {},
          "execution_count": 13
        },
        {
          "output_type": "display_data",
          "data": {
            "text/plain": [
              "<Figure size 720x432 with 1 Axes>"
            ],
            "image/png": "[encoded data removed]"
          },
          "metadata": {
            "needs_background": "light"
          }
        }
      ]
    },
    {
      "cell_type": "code",
      "source": [
        "#Al realizar el histograma sin el analisis de los datos, \n",
        "#podemos obtener el histograma con matplotlib para el dataframe considerando la columna \"price\", \n",
        "#sin embargo, al realizar todo el analisis de datos e intentar generar el histograma despues de borrar los registros en el ejercicio 2b, \n",
        "#colab nos comienza a marcar error, por eso el histograma acontinuación es sin procesar el analisis de datos\n",
        "sns.histplot(cars_df['price'], kde = True)"
      ],
      "metadata": {
        "colab": {
          "base_uri": "https://localhost:8080/",
          "height": 405
        },
        "id": "wgAh2nqsOS9-",
        "outputId": "4832d99d-f05c-4f4e-aa19-584dd7e17c2d"
      },
      "execution_count": null,
      "outputs": [
        {
          "output_type": "execute_result",
          "data": {
            "text/plain": [
              "<matplotlib.axes._subplots.AxesSubplot at 0x7f2e4ffa1760>"
            ]
          },
          "metadata": {},
          "execution_count": 75
        },
        {
          "output_type": "display_data",
          "data": {
            "text/plain": [
              "<Figure size 720x432 with 1 Axes>"
            ],
            "image/png": "[encoded data removed]"
          },
          "metadata": {
            "needs_background": "light"
          }
        }
      ]
    },
    {
      "cell_type": "code",
      "source": [
        "sns.histplot(cars_df['year'], kde = True)"
      ],
      "metadata": {
        "id": "q9rEvofyHY1M",
        "colab": {
          "base_uri": "https://localhost:8080/",
          "height": 405
        },
        "outputId": "96be8ee8-2041-49ee-fd87-3b0c07614370"
      },
      "execution_count": 15,
      "outputs": [
        {
          "output_type": "execute_result",
          "data": {
            "text/plain": [
              "<matplotlib.axes._subplots.AxesSubplot at 0x7f2e7af88460>"
            ]
          },
          "metadata": {},
          "execution_count": 15
        },
        {
          "output_type": "display_data",
          "data": {
            "text/plain": [
              "<Figure size 720x432 with 1 Axes>"
            ],
            "image/png": "[encoded data removed]"
          },
          "metadata": {
            "needs_background": "light"
          }
        }
      ]
    },
    {
      "cell_type": "code",
      "source": [
        "sns.histplot(cars_df['odometer'], kde = True)"
      ],
      "metadata": {
        "id": "PhXP8sQcHdTX",
        "colab": {
          "base_uri": "https://localhost:8080/",
          "height": 405
        },
        "outputId": "3d9c546e-f6ae-4670-f900-24fb747e9874"
      },
      "execution_count": 16,
      "outputs": [
        {
          "output_type": "execute_result",
          "data": {
            "text/plain": [
              "<matplotlib.axes._subplots.AxesSubplot at 0x7f2e7a985af0>"
            ]
          },
          "metadata": {},
          "execution_count": 16
        },
        {
          "output_type": "display_data",
          "data": {
            "text/plain": [
              "<Figure size 720x432 with 1 Axes>"
            ],
            "image/png": "[encoded data removed]"
          },
          "metadata": {
            "needs_background": "light"
          }
        }
      ]
    },
    {
      "cell_type": "markdown",
      "source": [
        "3b) Añade la columna `age`, calculada a partir de `year`, para determinar los años del vehículo y una vez obtenida, elimina la columna `year`. Genera el histograma de la nueva variable. "
      ],
      "metadata": {
        "id": "kP24u7B00qhW"
      }
    },
    {
      "cell_type": "code",
      "source": [
        "cars_df['age'] = 2023 - cars_df['year']\n",
        "cars_df = cars_df.drop(columns=['year'])\n",
        "cars_df"
      ],
      "metadata": {
        "id": "KNBYVkBu7AjE",
        "colab": {
          "base_uri": "https://localhost:8080/",
          "height": 424
        },
        "outputId": "f6306e22-460b-4d55-fe29-c16d3bf3b216"
      },
      "execution_count": 17,
      "outputs": [
        {
          "output_type": "execute_result",
          "data": {
            "text/plain": [
              "         region                      region_url  price manufacturer  \\\n",
              "27       auburn   https://auburn.craigslist.org  33590          gmc   \n",
              "28       auburn   https://auburn.craigslist.org  22590    chevrolet   \n",
              "29       auburn   https://auburn.craigslist.org  39590    chevrolet   \n",
              "30       auburn   https://auburn.craigslist.org  30990       toyota   \n",
              "31       auburn   https://auburn.craigslist.org  15000         ford   \n",
              "...         ...                             ...    ...          ...   \n",
              "426875  wyoming  https://wyoming.craigslist.org  23590       nissan   \n",
              "426876  wyoming  https://wyoming.craigslist.org  30590        volvo   \n",
              "426877  wyoming  https://wyoming.craigslist.org  34990     cadillac   \n",
              "426878  wyoming  https://wyoming.craigslist.org  28990        lexus   \n",
              "426879  wyoming  https://wyoming.craigslist.org  30590          bmw   \n",
              "\n",
              "                           model    fuel  odometer title_status transmission  \\\n",
              "27      sierra 1500 crew cab slt     gas   57923.0        clean        other   \n",
              "28                silverado 1500     gas   71229.0        clean        other   \n",
              "29           silverado 1500 crew     gas   19160.0        clean        other   \n",
              "30          tundra double cab sr     gas   41124.0        clean        other   \n",
              "31                     f-150 xlt     gas  128000.0        clean    automatic   \n",
              "...                          ...     ...       ...          ...          ...   \n",
              "426875         maxima s sedan 4d     gas   32226.0        clean        other   \n",
              "426876  s60 t5 momentum sedan 4d     gas   12029.0        clean        other   \n",
              "426877          xt4 sport suv 4d  diesel    4174.0        clean        other   \n",
              "426878           es 350 sedan 4d     gas   30112.0        clean        other   \n",
              "426879  4 series 430i gran coupe     gas   22716.0        clean        other   \n",
              "\n",
              "             type state        lat       long   age  \n",
              "27         pickup    al  32.590000 -85.480000   9.0  \n",
              "28         pickup    al  32.590000 -85.480000  13.0  \n",
              "29         pickup    al  32.590000 -85.480000   3.0  \n",
              "30         pickup    al  32.590000 -85.480000   6.0  \n",
              "31          truck    al  32.592000 -85.518900  10.0  \n",
              "...           ...   ...        ...        ...   ...  \n",
              "426875      sedan    wy  33.786500 -84.445400   4.0  \n",
              "426876      sedan    wy  33.786500 -84.445400   3.0  \n",
              "426877  hatchback    wy  33.779214 -84.411811   3.0  \n",
              "426878      sedan    wy  33.786500 -84.445400   5.0  \n",
              "426879      coupe    wy  33.779214 -84.411811   4.0  \n",
              "\n",
              "[383489 rows x 14 columns]"
            ],
            "text/html": [
              "\n",
              "  <div id=\"df-6f953eda-0276-4f69-9c4f-62f806ff5a24\">\n",
              "    <div class=\"colab-df-container\">\n",
              "      <div>\n",
              "<style scoped>\n",
              "    .dataframe tbody tr th:only-of-type {\n",
              "        vertical-align: middle;\n",
              "    }\n",
              "\n",
              "    .dataframe tbody tr th {\n",
              "        vertical-align: top;\n",
              "    }\n",
              "\n",
              "    .dataframe thead th {\n",
              "        text-align: right;\n",
              "    }\n",
              "</style>\n",
              "<table border=\"1\" class=\"dataframe\">\n",
              "  <thead>\n",
              "    <tr style=\"text-align: right;\">\n",
              "      <th></th>\n",
              "      <th>region</th>\n",
              "      <th>region_url</th>\n",
              "      <th>price</th>\n",
              "      <th>manufacturer</th>\n",
              "      <th>model</th>\n",
              "      <th>fuel</th>\n",
              "      <th>odometer</th>\n",
              "      <th>title_status</th>\n",
              "      <th>transmission</th>\n",
              "      <th>type</th>\n",
              "      <th>state</th>\n",
              "      <th>lat</th>\n",
              "      <th>long</th>\n",
              "      <th>age</th>\n",
              "    </tr>\n",
              "  </thead>\n",
              "  <tbody>\n",
              "    <tr>\n",
              "      <th>27</th>\n",
              "      <td>auburn</td>\n",
              "      <td>https://auburn.craigslist.org</td>\n",
              "      <td>33590</td>\n",
              "      <td>gmc</td>\n",
              "      <td>sierra 1500 crew cab slt</td>\n",
              "      <td>gas</td>\n",
              "      <td>57923.0</td>\n",
              "      <td>clean</td>\n",
              "      <td>other</td>\n",
              "      <td>pickup</td>\n",
              "      <td>al</td>\n",
              "      <td>32.590000</td>\n",
              "      <td>-85.480000</td>\n",
              "      <td>9.0</td>\n",
              "    </tr>\n",
              "    <tr>\n",
              "      <th>28</th>\n",
              "      <td>auburn</td>\n",
              "      <td>https://auburn.craigslist.org</td>\n",
              "      <td>22590</td>\n",
              "      <td>chevrolet</td>\n",
              "      <td>silverado 1500</td>\n",
              "      <td>gas</td>\n",
              "      <td>71229.0</td>\n",
              "      <td>clean</td>\n",
              "      <td>other</td>\n",
              "      <td>pickup</td>\n",
              "      <td>al</td>\n",
              "      <td>32.590000</td>\n",
              "      <td>-85.480000</td>\n",
              "      <td>13.0</td>\n",
              "    </tr>\n",
              "    <tr>\n",
              "      <th>29</th>\n",
              "      <td>auburn</td>\n",
              "      <td>https://auburn.craigslist.org</td>\n",
              "      <td>39590</td>\n",
              "      <td>chevrolet</td>\n",
              "      <td>silverado 1500 crew</td>\n",
              "      <td>gas</td>\n",
              "      <td>19160.0</td>\n",
              "      <td>clean</td>\n",
              "      <td>other</td>\n",
              "      <td>pickup</td>\n",
              "      <td>al</td>\n",
              "      <td>32.590000</td>\n",
              "      <td>-85.480000</td>\n",
              "      <td>3.0</td>\n",
              "    </tr>\n",
              "    <tr>\n",
              "      <th>30</th>\n",
              "      <td>auburn</td>\n",
              "      <td>https://auburn.craigslist.org</td>\n",
              "      <td>30990</td>\n",
              "      <td>toyota</td>\n",
              "      <td>tundra double cab sr</td>\n",
              "      <td>gas</td>\n",
              "      <td>41124.0</td>\n",
              "      <td>clean</td>\n",
              "      <td>other</td>\n",
              "      <td>pickup</td>\n",
              "      <td>al</td>\n",
              "      <td>32.590000</td>\n",
              "      <td>-85.480000</td>\n",
              "      <td>6.0</td>\n",
              "    </tr>\n",
              "    <tr>\n",
              "      <th>31</th>\n",
              "      <td>auburn</td>\n",
              "      <td>https://auburn.craigslist.org</td>\n",
              "      <td>15000</td>\n",
              "      <td>ford</td>\n",
              "      <td>f-150 xlt</td>\n",
              "      <td>gas</td>\n",
              "      <td>128000.0</td>\n",
              "      <td>clean</td>\n",
              "      <td>automatic</td>\n",
              "      <td>truck</td>\n",
              "      <td>al</td>\n",
              "      <td>32.592000</td>\n",
              "      <td>-85.518900</td>\n",
              "      <td>10.0</td>\n",
              "    </tr>\n",
              "    <tr>\n",
              "      <th>...</th>\n",
              "      <td>...</td>\n",
              "      <td>...</td>\n",
              "      <td>...</td>\n",
              "      <td>...</td>\n",
              "      <td>...</td>\n",
              "      <td>...</td>\n",
              "      <td>...</td>\n",
              "      <td>...</td>\n",
              "      <td>...</td>\n",
              "      <td>...</td>\n",
              "      <td>...</td>\n",
              "      <td>...</td>\n",
              "      <td>...</td>\n",
              "      <td>...</td>\n",
              "    </tr>\n",
              "    <tr>\n",
              "      <th>426875</th>\n",
              "      <td>wyoming</td>\n",
              "      <td>https://wyoming.craigslist.org</td>\n",
              "      <td>23590</td>\n",
              "      <td>nissan</td>\n",
              "      <td>maxima s sedan 4d</td>\n",
              "      <td>gas</td>\n",
              "      <td>32226.0</td>\n",
              "      <td>clean</td>\n",
              "      <td>other</td>\n",
              "      <td>sedan</td>\n",
              "      <td>wy</td>\n",
              "      <td>33.786500</td>\n",
              "      <td>-84.445400</td>\n",
              "      <td>4.0</td>\n",
              "    </tr>\n",
              "    <tr>\n",
              "      <th>426876</th>\n",
              "      <td>wyoming</td>\n",
              "      <td>https://wyoming.craigslist.org</td>\n",
              "      <td>30590</td>\n",
              "      <td>volvo</td>\n",
              "      <td>s60 t5 momentum sedan 4d</td>\n",
              "      <td>gas</td>\n",
              "      <td>12029.0</td>\n",
              "      <td>clean</td>\n",
              "      <td>other</td>\n",
              "      <td>sedan</td>\n",
              "      <td>wy</td>\n",
              "      <td>33.786500</td>\n",
              "      <td>-84.445400</td>\n",
              "      <td>3.0</td>\n",
              "    </tr>\n",
              "    <tr>\n",
              "      <th>426877</th>\n",
              "      <td>wyoming</td>\n",
              "      <td>https://wyoming.craigslist.org</td>\n",
              "      <td>34990</td>\n",
              "      <td>cadillac</td>\n",
              "      <td>xt4 sport suv 4d</td>\n",
              "      <td>diesel</td>\n",
              "      <td>4174.0</td>\n",
              "      <td>clean</td>\n",
              "      <td>other</td>\n",
              "      <td>hatchback</td>\n",
              "      <td>wy</td>\n",
              "      <td>33.779214</td>\n",
              "      <td>-84.411811</td>\n",
              "      <td>3.0</td>\n",
              "    </tr>\n",
              "    <tr>\n",
              "      <th>426878</th>\n",
              "      <td>wyoming</td>\n",
              "      <td>https://wyoming.craigslist.org</td>\n",
              "      <td>28990</td>\n",
              "      <td>lexus</td>\n",
              "      <td>es 350 sedan 4d</td>\n",
              "      <td>gas</td>\n",
              "      <td>30112.0</td>\n",
              "      <td>clean</td>\n",
              "      <td>other</td>\n",
              "      <td>sedan</td>\n",
              "      <td>wy</td>\n",
              "      <td>33.786500</td>\n",
              "      <td>-84.445400</td>\n",
              "      <td>5.0</td>\n",
              "    </tr>\n",
              "    <tr>\n",
              "      <th>426879</th>\n",
              "      <td>wyoming</td>\n",
              "      <td>https://wyoming.craigslist.org</td>\n",
              "      <td>30590</td>\n",
              "      <td>bmw</td>\n",
              "      <td>4 series 430i gran coupe</td>\n",
              "      <td>gas</td>\n",
              "      <td>22716.0</td>\n",
              "      <td>clean</td>\n",
              "      <td>other</td>\n",
              "      <td>coupe</td>\n",
              "      <td>wy</td>\n",
              "      <td>33.779214</td>\n",
              "      <td>-84.411811</td>\n",
              "      <td>4.0</td>\n",
              "    </tr>\n",
              "  </tbody>\n",
              "</table>\n",
              "<p>383489 rows × 14 columns</p>\n",
              "</div>\n",
              "      <button class=\"colab-df-convert\" onclick=\"convertToInteractive('df-6f953eda-0276-4f69-9c4f-62f806ff5a24')\"\n",
              "              title=\"Convert this dataframe to an interactive table.\"\n",
              "              style=\"display:none;\">\n",
              "        \n",
              "  <svg xmlns=\"http://www.w3.org/2000/svg\" height=\"24px\"viewBox=\"0 0 24 24\"\n",
              "       width=\"24px\">\n",
              "    <path d=\"M0 0h24v24H0V0z\" fill=\"none\"/>\n",
              "    <path d=\"M18.56 5.44l.94 2.06.94-2.06 2.06-.94-2.06-.94-.94-2.06-.94 2.06-2.06.94zm-11 1L8.5 8.5l.94-2.06 2.06-.94-2.06-.94L8.5 2.5l-.94 2.06-2.06.94zm10 10l.94 2.06.94-2.06 2.06-.94-2.06-.94-.94-2.06-.94 2.06-2.06.94z\"/><path d=\"M17.41 7.96l-1.37-1.37c-.4-.4-.92-.59-1.43-.59-.52 0-1.04.2-1.43.59L10.3 9.45l-7.72 7.72c-.78.78-.78 2.05 0 2.83L4 21.41c.39.39.9.59 1.41.59.51 0 1.02-.2 1.41-.59l7.78-7.78 2.81-2.81c.8-.78.8-2.07 0-2.86zM5.41 20L4 18.59l7.72-7.72 1.47 1.35L5.41 20z\"/>\n",
              "  </svg>\n",
              "      </button>\n",
              "      \n",
              "  <style>\n",
              "    .colab-df-container {\n",
              "      display:flex;\n",
              "      flex-wrap:wrap;\n",
              "      gap: 12px;\n",
              "    }\n",
              "\n",
              "    .colab-df-convert {\n",
              "      background-color: #E8F0FE;\n",
              "      border: none;\n",
              "      border-radius: 50%;\n",
              "      cursor: pointer;\n",
              "      display: none;\n",
              "      fill: #1967D2;\n",
              "      height: 32px;\n",
              "      padding: 0 0 0 0;\n",
              "      width: 32px;\n",
              "    }\n",
              "\n",
              "    .colab-df-convert:hover {\n",
              "      background-color: #E2EBFA;\n",
              "      box-shadow: 0px 1px 2px rgba(60, 64, 67, 0.3), 0px 1px 3px 1px rgba(60, 64, 67, 0.15);\n",
              "      fill: #174EA6;\n",
              "    }\n",
              "\n",
              "    [theme=dark] .colab-df-convert {\n",
              "      background-color: #3B4455;\n",
              "      fill: #D2E3FC;\n",
              "    }\n",
              "\n",
              "    [theme=dark] .colab-df-convert:hover {\n",
              "      background-color: #434B5C;\n",
              "      box-shadow: 0px 1px 3px 1px rgba(0, 0, 0, 0.15);\n",
              "      filter: drop-shadow(0px 1px 2px rgba(0, 0, 0, 0.3));\n",
              "      fill: #FFFFFF;\n",
              "    }\n",
              "  </style>\n",
              "\n",
              "      <script>\n",
              "        const buttonEl =\n",
              "          document.querySelector('#df-6f953eda-0276-4f69-9c4f-62f806ff5a24 button.colab-df-convert');\n",
              "        buttonEl.style.display =\n",
              "          google.colab.kernel.accessAllowed ? 'block' : 'none';\n",
              "\n",
              "        async function convertToInteractive(key) {\n",
              "          const element = document.querySelector('#df-6f953eda-0276-4f69-9c4f-62f806ff5a24');\n",
              "          const dataTable =\n",
              "            await google.colab.kernel.invokeFunction('convertToInteractive',\n",
              "                                                     [key], {});\n",
              "          if (!dataTable) return;\n",
              "\n",
              "          const docLinkHtml = 'Like what you see? Visit the ' +\n",
              "            '<a target=\"_blank\" href=https://colab.research.google.com/notebooks/data_table.ipynb>data table notebook</a>'\n",
              "            + ' to learn more about interactive tables.';\n",
              "          element.innerHTML = '';\n",
              "          dataTable['output_type'] = 'display_data';\n",
              "          await google.colab.output.renderOutput(dataTable, element);\n",
              "          const docLink = document.createElement('div');\n",
              "          docLink.innerHTML = docLinkHtml;\n",
              "          element.appendChild(docLink);\n",
              "        }\n",
              "      </script>\n",
              "    </div>\n",
              "  </div>\n",
              "  "
            ]
          },
          "metadata": {},
          "execution_count": 17
        }
      ]
    },
    {
      "cell_type": "code",
      "source": [
        "sns.histplot(cars_df['age'], kde = True)"
      ],
      "metadata": {
        "colab": {
          "base_uri": "https://localhost:8080/",
          "height": 405
        },
        "id": "H-Jzt4iDR_Q5",
        "outputId": "15b86e15-6d88-4b37-d972-a4dd5bb30726"
      },
      "execution_count": 18,
      "outputs": [
        {
          "output_type": "execute_result",
          "data": {
            "text/plain": [
              "<matplotlib.axes._subplots.AxesSubplot at 0x7f2e78698940>"
            ]
          },
          "metadata": {},
          "execution_count": 18
        },
        {
          "output_type": "display_data",
          "data": {
            "text/plain": [
              "<Figure size 720x432 with 1 Axes>"
            ],
            "image/png": "[encoded data removed]"
          },
          "metadata": {
            "needs_background": "light"
          }
        }
      ]
    },
    {
      "cell_type": "markdown",
      "source": [
        "4a) Para visualizar si hay valores atípicos, genera gráficos de box plot para las tres variables (`price, age, odometer`)"
      ],
      "metadata": {
        "id": "CnpwE1Fd03gE"
      }
    },
    {
      "cell_type": "code",
      "source": [
        "sns.boxplot(x = cars_df['price'])"
      ],
      "metadata": {
        "id": "0Pc8uO52JETb",
        "colab": {
          "base_uri": "https://localhost:8080/",
          "height": 405
        },
        "outputId": "e4239e47-87f7-4ee8-ada6-be2a8382b95b"
      },
      "execution_count": 19,
      "outputs": [
        {
          "output_type": "execute_result",
          "data": {
            "text/plain": [
              "<matplotlib.axes._subplots.AxesSubplot at 0x7f2eb8c53220>"
            ]
          },
          "metadata": {},
          "execution_count": 19
        },
        {
          "output_type": "display_data",
          "data": {
            "text/plain": [
              "<Figure size 720x432 with 1 Axes>"
            ],
            "image/png": "[encoded data removed]"
          },
          "metadata": {
            "needs_background": "light"
          }
        }
      ]
    },
    {
      "cell_type": "code",
      "source": [
        "sns.boxplot(x = cars_df['age'])"
      ],
      "metadata": {
        "colab": {
          "base_uri": "https://localhost:8080/",
          "height": 405
        },
        "id": "oP1VzjQjSxXD",
        "outputId": "31975a7c-7f63-4ad5-9c5c-5e74ba954a13"
      },
      "execution_count": 20,
      "outputs": [
        {
          "output_type": "execute_result",
          "data": {
            "text/plain": [
              "<matplotlib.axes._subplots.AxesSubplot at 0x7f2eb8c71f10>"
            ]
          },
          "metadata": {},
          "execution_count": 20
        },
        {
          "output_type": "display_data",
          "data": {
            "text/plain": [
              "<Figure size 720x432 with 1 Axes>"
            ],
            "image/png": "[encoded data removed]"
          },
          "metadata": {
            "needs_background": "light"
          }
        }
      ]
    },
    {
      "cell_type": "code",
      "source": [
        "sns.boxplot(x = cars_df['odometer'])"
      ],
      "metadata": {
        "colab": {
          "base_uri": "https://localhost:8080/",
          "height": 405
        },
        "id": "QUKoyHq4Syfw",
        "outputId": "182e376e-b122-404a-bf33-eea34d1b8bf2"
      },
      "execution_count": 21,
      "outputs": [
        {
          "output_type": "execute_result",
          "data": {
            "text/plain": [
              "<matplotlib.axes._subplots.AxesSubplot at 0x7f2eb8bd0580>"
            ]
          },
          "metadata": {},
          "execution_count": 21
        },
        {
          "output_type": "display_data",
          "data": {
            "text/plain": [
              "<Figure size 720x432 with 1 Axes>"
            ],
            "image/png": "[encoded data removed]"
          },
          "metadata": {
            "needs_background": "light"
          }
        }
      ]
    },
    {
      "cell_type": "markdown",
      "source": [
        "Si el conjunto de outliers es “relativamente grande” (aunque sabemos que deben andar alrededor de un 5% del conjunto total de datos), realizar una investigación particular sobre ellos que permita tomar mejores decisiones."
      ],
      "metadata": {
        "id": "cSLCXXoFDmJz"
      }
    },
    {
      "cell_type": "markdown",
      "source": [
        "4b) Calcula, para cada variable, el porcentaje de sus valores atípicos y elimínalos del dataframe ¿Qué porcentaje de los registros iniciales se eliminaron?"
      ],
      "metadata": {
        "id": "JFiE-daA1Ist"
      }
    },
    {
      "cell_type": "code",
      "source": [
        "def get_outliers_bm(df, column):\n",
        "    Q1 = df[column].quantile(0.25)\n",
        "    Q3 = df[column].quantile(0.75)\n",
        "    IQR = Q3 - Q1\n",
        "\n",
        "    BM = (df[column] < Q1 - 1.5 * IQR) | (df[column] > Q3 + 1.5 * IQR)\n",
        "    return BM\n",
        "\n",
        "def get_outliers_percentage(df, column):\n",
        "    outliers = df[get_outliers_bm(df, column)]\n",
        "    \n",
        "    outliers_percentage = len(outliers) / len(df) * 100\n",
        "    return outliers_percentage\n",
        "\n",
        "def get_upper_cap(df, column):\n",
        "    Q1 = df[column].quantile(0.25)\n",
        "    Q3 = df[column].quantile(0.75)\n",
        "    IQR = Q3 - Q1\n",
        "    return Q3+IQR*1.5"
      ],
      "metadata": {
        "id": "tPi6oaMcCzPC"
      },
      "execution_count": 23,
      "outputs": []
    },
    {
      "cell_type": "code",
      "source": [
        "print(\"Porcentaje de valores atípicos de 'price': \", get_outliers_percentage(cars_df, 'price'))\n",
        "print(\"Porcentaje de valores atípicos de 'age': \", get_outliers_percentage(cars_df, 'age'))\n",
        "print(\"Porcentaje de valores atípicos de 'odometer': \", get_outliers_percentage(cars_df, 'odometer'))\n",
        "#Ninguna de las variables presentó un porcentaje mayor al 5% de valores atípicos, es seguro eliminarlos."
      ],
      "metadata": {
        "id": "0OA-siIxVzcV",
        "colab": {
          "base_uri": "https://localhost:8080/"
        },
        "outputId": "d74c929c-0538-44a3-e5eb-f8b7b77723a1"
      },
      "execution_count": 24,
      "outputs": [
        {
          "output_type": "stream",
          "name": "stdout",
          "text": [
            "Porcentaje de valores atípicos de 'price':  1.6388996816075556\n",
            "Porcentaje de valores atípicos de 'age':  3.1351616343623934\n",
            "Porcentaje de valores atípicos de 'odometer':  0.8130611308277422\n"
          ]
        }
      ]
    },
    {
      "cell_type": "code",
      "source": [
        "price_outliers = cars_df[get_outliers_bm(cars_df, 'price')]\n",
        "cars_df.drop(price_outliers.index, inplace=True)"
      ],
      "metadata": {
        "id": "Z-8r8QzNXBUR"
      },
      "execution_count": 25,
      "outputs": []
    },
    {
      "cell_type": "code",
      "source": [
        "age_outliers = cars_df[get_outliers_bm(cars_df, 'age')]\n",
        "cars_df.drop(age_outliers.index, inplace=True)"
      ],
      "metadata": {
        "id": "fJ-oVim4ndv-"
      },
      "execution_count": 26,
      "outputs": []
    },
    {
      "cell_type": "code",
      "source": [
        "odometer_outliers = cars_df[get_outliers_bm(cars_df, 'odometer')]\n",
        "cars_df.drop(odometer_outliers.index, inplace=True)"
      ],
      "metadata": {
        "id": "ROZeQ1oWneTc"
      },
      "execution_count": 27,
      "outputs": []
    },
    {
      "cell_type": "code",
      "source": [
        "print(\"Porcentaje de valores iniciales eliminados: \", (len(price_outliers) + len(age_outliers) + len(odometer_outliers)) * 100 / reg)"
      ],
      "metadata": {
        "colab": {
          "base_uri": "https://localhost:8080/"
        },
        "id": "dpq93-DIk_qA",
        "outputId": "d2cb6fc5-f294-4dbc-b449-c3e3e1bbcf56"
      },
      "execution_count": 28,
      "outputs": [
        {
          "output_type": "stream",
          "name": "stdout",
          "text": [
            "Porcentaje de valores iniciales eliminados:  4.851949025487256\n"
          ]
        }
      ]
    },
    {
      "cell_type": "markdown",
      "source": [
        "4c) Dibuja nuevamente los histogramas para observar claramente el sesgo de las variables tras la eliminación de los outliers. "
      ],
      "metadata": {
        "id": "dwCOyowi1XdX"
      }
    },
    {
      "cell_type": "code",
      "source": [
        "sns.boxplot(x = cars_df['price'])"
      ],
      "metadata": {
        "id": "0qcrUjHpUJyZ",
        "colab": {
          "base_uri": "https://localhost:8080/",
          "height": 405
        },
        "outputId": "bce5a96f-94a3-4cdc-9bd2-5568012e1200"
      },
      "execution_count": 29,
      "outputs": [
        {
          "output_type": "execute_result",
          "data": {
            "text/plain": [
              "<matplotlib.axes._subplots.AxesSubplot at 0x7f2eb8bb4430>"
            ]
          },
          "metadata": {},
          "execution_count": 29
        },
        {
          "output_type": "display_data",
          "data": {
            "text/plain": [
              "<Figure size 720x432 with 1 Axes>"
            ],
            "image/png": "[encoded data removed]"
          },
          "metadata": {
            "needs_background": "light"
          }
        }
      ]
    },
    {
      "cell_type": "code",
      "source": [
        "sns.boxplot(x = cars_df['age'])"
      ],
      "metadata": {
        "colab": {
          "base_uri": "https://localhost:8080/",
          "height": 405
        },
        "id": "38vbNWtTnsVv",
        "outputId": "5ceb1b13-ac29-43e9-8fa6-debb4aca53c6"
      },
      "execution_count": 30,
      "outputs": [
        {
          "output_type": "execute_result",
          "data": {
            "text/plain": [
              "<matplotlib.axes._subplots.AxesSubplot at 0x7f2eb8b0d7c0>"
            ]
          },
          "metadata": {},
          "execution_count": 30
        },
        {
          "output_type": "display_data",
          "data": {
            "text/plain": [
              "<Figure size 720x432 with 1 Axes>"
            ],
            "image/png": "[encoded data removed]"
          },
          "metadata": {
            "needs_background": "light"
          }
        }
      ]
    },
    {
      "cell_type": "code",
      "source": [
        "sns.boxplot(x = cars_df['odometer'])"
      ],
      "metadata": {
        "colab": {
          "base_uri": "https://localhost:8080/",
          "height": 405
        },
        "id": "QnfzeIjEnwy-",
        "outputId": "093a5a3a-202f-44ca-e5c0-d7ac61874f8e"
      },
      "execution_count": 31,
      "outputs": [
        {
          "output_type": "execute_result",
          "data": {
            "text/plain": [
              "<matplotlib.axes._subplots.AxesSubplot at 0x7f2eb8ae69a0>"
            ]
          },
          "metadata": {},
          "execution_count": 31
        },
        {
          "output_type": "display_data",
          "data": {
            "text/plain": [
              "<Figure size 720x432 with 1 Axes>"
            ],
            "image/png": "[encoded data removed]"
          },
          "metadata": {
            "needs_background": "light"
          }
        }
      ]
    },
    {
      "cell_type": "markdown",
      "source": [
        "# **Parte 2**. Ingeniería de características"
      ],
      "metadata": {
        "id": "hzzT7f53oBE3"
      }
    },
    {
      "cell_type": "markdown",
      "source": [
        "## Transformando variables numéricas "
      ],
      "metadata": {
        "id": "qq6Y5lvS1lNA"
      }
    },
    {
      "cell_type": "markdown",
      "source": [
        "La distribución de las variables determinará que método usar y en qué orden. Por ejemplo, en variables sesgadas se debe realizar primero la transformación  y luego el escalamiento, ya que el efecto deseado es \"desinclinar\" las distribuciones del eje y ese efecto se maximiza cuando aplica en el rango completo en comparación con aplicarlo en variables con una desviación estándar unitaria (por z-score) o variables en el rango [0,1] (por Min-Max).\n",
        "\n",
        "Aplicar es escalamiento antes comprimiría la mayoría de los datos en un rango estrecho. Entonces se debe iniciar con transformar la característica en Gaussiana y luego escalarla."
      ],
      "metadata": {
        "id": "EryjdcZZebJQ"
      }
    },
    {
      "cell_type": "markdown",
      "source": [
        "5a) Genera gráficos Q-Q de las variables `price, age, odometer` para observar las diferencias entre sus distribuciones y la normal.\n"
      ],
      "metadata": {
        "id": "KWiPJ9Mr37pE"
      }
    },
    {
      "cell_type": "code",
      "source": [
        "stats.probplot(cars_df['price'], dist=\"norm\", plot=plt)"
      ],
      "metadata": {
        "id": "JK6fCovqi_8b",
        "colab": {
          "base_uri": "https://localhost:8080/",
          "height": 473
        },
        "outputId": "f06a93bd-13f5-4e84-a499-dbb95475ae43"
      },
      "execution_count": 32,
      "outputs": [
        {
          "output_type": "execute_result",
          "data": {
            "text/plain": [
              "((array([-4.62087028, -4.43340448, -4.33181252, ...,  4.33181252,\n",
              "          4.43340448,  4.62087028]),\n",
              "  array([    0,     0,     0, ..., 58000, 58000, 58194])),\n",
              " (12756.084077265767, 16891.880160539393, 0.9674611284133873))"
            ]
          },
          "metadata": {},
          "execution_count": 32
        },
        {
          "output_type": "display_data",
          "data": {
            "text/plain": [
              "<Figure size 720x432 with 1 Axes>"
            ],
            "image/png": "[encoded data removed]"
          },
          "metadata": {
            "needs_background": "light"
          }
        }
      ]
    },
    {
      "cell_type": "code",
      "source": [
        "stats.probplot(cars_df['age'], dist=\"norm\", plot=plt)"
      ],
      "metadata": {
        "colab": {
          "base_uri": "https://localhost:8080/",
          "height": 473
        },
        "id": "YjwwISdfo28E",
        "outputId": "e83fa48f-241c-4413-9463-f7f06780182f"
      },
      "execution_count": 33,
      "outputs": [
        {
          "output_type": "execute_result",
          "data": {
            "text/plain": [
              "((array([-4.62087028, -4.43340448, -4.33181252, ...,  4.33181252,\n",
              "          4.43340448,  4.62087028]),\n",
              "  array([ 1.,  1.,  1., ..., 28., 28., 28.])),\n",
              " (5.2250833265214185, 10.339533652905226, 0.9682139536176251))"
            ]
          },
          "metadata": {},
          "execution_count": 33
        },
        {
          "output_type": "display_data",
          "data": {
            "text/plain": [
              "<Figure size 720x432 with 1 Axes>"
            ],
            "image/png": "[encoded data removed]"
          },
          "metadata": {
            "needs_background": "light"
          }
        }
      ]
    },
    {
      "cell_type": "code",
      "source": [
        "stats.probplot(cars_df['odometer'], dist=\"norm\", plot=plt)"
      ],
      "metadata": {
        "colab": {
          "base_uri": "https://localhost:8080/",
          "height": 473
        },
        "id": "Qbyy6-_9o44K",
        "outputId": "7e581c02-598b-4e76-df52-12b888d8e528"
      },
      "execution_count": 34,
      "outputs": [
        {
          "output_type": "execute_result",
          "data": {
            "text/plain": [
              "((array([-4.62087028, -4.43340448, -4.33181252, ...,  4.33181252,\n",
              "          4.43340448,  4.62087028]),\n",
              "  array([     0.,      0.,      0., ..., 278511., 278519., 278519.])),\n",
              " (59009.05870578386, 91289.68797911663, 0.9817617359825235))"
            ]
          },
          "metadata": {},
          "execution_count": 34
        },
        {
          "output_type": "display_data",
          "data": {
            "text/plain": [
              "<Figure size 720x432 with 1 Axes>"
            ],
            "image/png": "[encoded data removed]"
          },
          "metadata": {
            "needs_background": "light"
          }
        }
      ]
    },
    {
      "cell_type": "markdown",
      "source": [
        "Las transformaciones *Box-Cox* y *Yeo-Johnson* son generalizaciones, pues incluyen casos especiales de transformaciones: logarítmica (`λ = 0`), recíproca (`λ = -1`),  raíz cuadrada (`λ = 0.5`) y más exponentes. En *Box-Cox* se evalúan varios valores de `λ` y se selecciona aquel que arroja la mejor transformación\n",
        "\n",
        "La transformación de *Yeo-Johnson* es una extensión de la transformación de *Box-Cox* que ya no está restringida a valores positivos. En otras palabras, la transformación de *Yeo-Johnson* se puede utilizar en variables con valores cero y negativos, así como valores positivos. Cuando la variable solo tiene valores positivos, la transformación de *Yeo-Johnson* es como la transformación de *Box-Cox* de la variable más uno.\n",
        "\n",
        "En este caso, como las variables `price` y `odometer` tienen valores de 0, utilizaremos *Yeo-Johnson*."
      ],
      "metadata": {
        "id": "0iFAddRP9d3L"
      }
    },
    {
      "cell_type": "markdown",
      "source": [
        "5b) Aplica la transformación Yeo-Johnson para reducir el sesgo en estas variables. Házlo en una copia del dataframe a la que denominarás `transf_df`."
      ],
      "metadata": {
        "id": "c2Ku4FXx4JRB"
      }
    },
    {
      "cell_type": "code",
      "source": [
        "transf_df = cars_df.copy()"
      ],
      "metadata": {
        "id": "h3lerMMowNwp"
      },
      "execution_count": 35,
      "outputs": []
    },
    {
      "cell_type": "code",
      "source": [
        "from sklearn.preprocessing import PowerTransformer"
      ],
      "metadata": {
        "id": "PTMhvmyzrJHp"
      },
      "execution_count": 36,
      "outputs": []
    },
    {
      "cell_type": "code",
      "source": [
        "transformer = PowerTransformer(method=\"yeo-johnson\")\n",
        "transformer.fit(transf_df[['price']])\n",
        "transf_df['price'] = transformer.transform(transf_df[['price']])"
      ],
      "metadata": {
        "id": "b3juju4WqJvu"
      },
      "execution_count": 37,
      "outputs": []
    },
    {
      "cell_type": "code",
      "source": [
        "transformer.fit(transf_df[['age']])\n",
        "transf_df['age'] = transformer.transform(transf_df[['age']])"
      ],
      "metadata": {
        "id": "iDBV6bgiz-MT"
      },
      "execution_count": 38,
      "outputs": []
    },
    {
      "cell_type": "code",
      "source": [
        "transformer.fit(transf_df[['odometer']])\n",
        "transf_df['odometer'] = transformer.transform(transf_df[['odometer']])"
      ],
      "metadata": {
        "id": "o1TJOn4Xz9qh"
      },
      "execution_count": 39,
      "outputs": []
    },
    {
      "cell_type": "markdown",
      "source": [
        "5c) Dibuja nuevamente los gráficos Q-Q y los histogramas para observar el efecto de la transformación."
      ],
      "metadata": {
        "id": "sWTYPdle6b0y"
      }
    },
    {
      "cell_type": "code",
      "source": [
        "stats.probplot(transf_df['price'], dist=\"norm\", plot=plt)"
      ],
      "metadata": {
        "colab": {
          "base_uri": "https://localhost:8080/",
          "height": 491
        },
        "id": "Sjdmee2fqIzw",
        "outputId": "656ae5cb-bbea-4576-9e03-9263cdd48172"
      },
      "execution_count": 40,
      "outputs": [
        {
          "output_type": "execute_result",
          "data": {
            "text/plain": [
              "((array([-4.62087028, -4.43340448, -4.33181252, ...,  4.33181252,\n",
              "          4.43340448,  4.62087028]),\n",
              "  array([-2.16179224, -2.16179224, -2.16179224, ...,  1.98861638,\n",
              "          1.98861638,  1.99461346])),\n",
              " (0.9809152240192729, -3.7194050350211204e-16, 0.9809021379790734))"
            ]
          },
          "metadata": {},
          "execution_count": 40
        },
        {
          "output_type": "display_data",
          "data": {
            "text/plain": [
              "<Figure size 720x432 with 1 Axes>"
            ],
            "image/png": "[encoded data removed]"
          },
          "metadata": {
            "needs_background": "light"
          }
        }
      ]
    },
    {
      "cell_type": "code",
      "source": [
        "stats.probplot(transf_df['age'], dist=\"norm\", plot=plt)"
      ],
      "metadata": {
        "id": "joI93I1Jmuo5",
        "colab": {
          "base_uri": "https://localhost:8080/",
          "height": 491
        },
        "outputId": "ac393dc8-9c66-487f-f526-271ac14c598d"
      },
      "execution_count": 41,
      "outputs": [
        {
          "output_type": "execute_result",
          "data": {
            "text/plain": [
              "((array([-4.62087028, -4.43340448, -4.33181252, ...,  4.33181252,\n",
              "          4.43340448,  4.62087028]),\n",
              "  array([-3.16149211, -3.16149211, -3.16149211, ...,  2.26544514,\n",
              "          2.26544514,  2.26544514])),\n",
              " (0.9917101713026519, -2.077598789883545e-17, 0.991696941250911))"
            ]
          },
          "metadata": {},
          "execution_count": 41
        },
        {
          "output_type": "display_data",
          "data": {
            "text/plain": [
              "<Figure size 720x432 with 1 Axes>"
            ],
            "image/png": "[encoded data removed]"
          },
          "metadata": {
            "needs_background": "light"
          }
        }
      ]
    },
    {
      "cell_type": "code",
      "source": [
        "stats.probplot(transf_df['odometer'], dist=\"norm\", plot=plt)"
      ],
      "metadata": {
        "colab": {
          "base_uri": "https://localhost:8080/",
          "height": 491
        },
        "id": "qyNJhk710JmW",
        "outputId": "c6e055ed-6ff6-403e-d7e6-7a902cfc1158"
      },
      "execution_count": 42,
      "outputs": [
        {
          "output_type": "execute_result",
          "data": {
            "text/plain": [
              "((array([-4.62087028, -4.43340448, -4.33181252, ...,  4.33181252,\n",
              "          4.43340448,  4.62087028]),\n",
              "  array([-2.4289599 , -2.4289599 , -2.4289599 , ...,  2.28496329,\n",
              "          2.28503516,  2.28503516])),\n",
              " (0.9925339619437137, -3.4436113961992443e-16, 0.9925207209020751))"
            ]
          },
          "metadata": {},
          "execution_count": 42
        },
        {
          "output_type": "display_data",
          "data": {
            "text/plain": [
              "<Figure size 720x432 with 1 Axes>"
            ],
            "image/png": "[encoded data removed]"
          },
          "metadata": {
            "needs_background": "light"
          }
        }
      ]
    },
    {
      "cell_type": "markdown",
      "source": [
        "## Escalando variables numéricas"
      ],
      "metadata": {
        "id": "ZCZTx1EJ6hYY"
      }
    },
    {
      "cell_type": "markdown",
      "source": [
        "6a) Como las variables poseen diferentes escalas, aplica el método Min-Max para que queden en el rango fijo [0 a 1]. Házlo en una copia del dataframe a la que denominarás `minmax_df`.\n"
      ],
      "metadata": {
        "id": "9uCmCSTs6t88"
      }
    },
    {
      "cell_type": "code",
      "source": [
        "minmax_df = transf_df.copy()"
      ],
      "metadata": {
        "id": "0wiPtlcaYaCd"
      },
      "execution_count": 43,
      "outputs": []
    },
    {
      "cell_type": "code",
      "source": [
        "from sklearn import preprocessing"
      ],
      "metadata": {
        "id": "o-zi8lT2PBxK"
      },
      "execution_count": 44,
      "outputs": []
    },
    {
      "cell_type": "code",
      "source": [
        "scaler = preprocessing.MinMaxScaler(feature_range=(0,1))\n",
        "cols_to_scale = ['age', 'price', 'odometer']\n",
        "minmax_df[cols_to_scale] = scaler.fit_transform(minmax_df[cols_to_scale])"
      ],
      "metadata": {
        "id": "PRgOWObIPEEk"
      },
      "execution_count": 45,
      "outputs": []
    },
    {
      "cell_type": "markdown",
      "source": [
        "6b) Dibuja nuevamente los histogramas para verificar que el escalamiento no cambia la distribución."
      ],
      "metadata": {
        "id": "-qnZqBV97GWY"
      }
    },
    {
      "cell_type": "code",
      "source": [
        "sns.histplot(minmax_df['price'])"
      ],
      "metadata": {
        "id": "0GV-HuS4XawC",
        "colab": {
          "base_uri": "https://localhost:8080/",
          "height": 405
        },
        "outputId": "070eb5d2-331b-4303-a166-0bef9b2efa46"
      },
      "execution_count": 46,
      "outputs": [
        {
          "output_type": "execute_result",
          "data": {
            "text/plain": [
              "<matplotlib.axes._subplots.AxesSubplot at 0x7f2eb8327190>"
            ]
          },
          "metadata": {},
          "execution_count": 46
        },
        {
          "output_type": "display_data",
          "data": {
            "text/plain": [
              "<Figure size 720x432 with 1 Axes>"
            ],
            "image/png": "[encoded data removed]"
          },
          "metadata": {
            "needs_background": "light"
          }
        }
      ]
    },
    {
      "cell_type": "code",
      "source": [
        "sns.histplot(minmax_df['age'], kde = True)"
      ],
      "metadata": {
        "colab": {
          "base_uri": "https://localhost:8080/",
          "height": 405
        },
        "id": "0omEjP8tP8pn",
        "outputId": "c51d9b4d-e237-489a-a6a0-8a67f240ee59"
      },
      "execution_count": 47,
      "outputs": [
        {
          "output_type": "execute_result",
          "data": {
            "text/plain": [
              "<matplotlib.axes._subplots.AxesSubplot at 0x7f2eb81ff700>"
            ]
          },
          "metadata": {},
          "execution_count": 47
        },
        {
          "output_type": "display_data",
          "data": {
            "text/plain": [
              "<Figure size 720x432 with 1 Axes>"
            ],
            "image/png": "[encoded data removed]"
          },
          "metadata": {
            "needs_background": "light"
          }
        }
      ]
    },
    {
      "cell_type": "code",
      "source": [
        "sns.histplot(minmax_df['odometer'], kde = True)"
      ],
      "metadata": {
        "colab": {
          "base_uri": "https://localhost:8080/",
          "height": 405
        },
        "id": "wM5utEAAQAvw",
        "outputId": "88eba5f8-514e-4fff-e117-f8daec3a9e81"
      },
      "execution_count": 48,
      "outputs": [
        {
          "output_type": "execute_result",
          "data": {
            "text/plain": [
              "<matplotlib.axes._subplots.AxesSubplot at 0x7f2eb80c5eb0>"
            ]
          },
          "metadata": {},
          "execution_count": 48
        },
        {
          "output_type": "display_data",
          "data": {
            "text/plain": [
              "<Figure size 720x432 with 1 Axes>"
            ],
            "image/png": "[encoded data removed]"
          },
          "metadata": {
            "needs_background": "light"
          }
        }
      ]
    },
    {
      "cell_type": "markdown",
      "source": [
        "sns.histplot(cars_df['price'], kde = True)"
      ],
      "metadata": {
        "id": "xQ6PDFA9P7X_"
      }
    },
    {
      "cell_type": "markdown",
      "source": [
        "## Codificando variables categóricas"
      ],
      "metadata": {
        "id": "F7fnBt2EpH8f"
      }
    },
    {
      "cell_type": "markdown",
      "source": [
        "\n",
        "7a) Utiliza el método `describe()` para obtener el resumen de las estadísticas descriptivas en las variables categóricas. "
      ],
      "metadata": {
        "id": "L65WLdE67P2g"
      }
    },
    {
      "cell_type": "code",
      "source": [
        "cars_df.describe(include = 'object')"
      ],
      "metadata": {
        "id": "Brq9wSlkC0wA",
        "colab": {
          "base_uri": "https://localhost:8080/",
          "height": 175
        },
        "outputId": "f4be2d1b-218d-41c4-ad4b-722f53902040"
      },
      "execution_count": 49,
      "outputs": [
        {
          "output_type": "execute_result",
          "data": {
            "text/plain": [
              "          region                          region_url manufacturer   model  \\\n",
              "count     362777                              362777       362777  362777   \n",
              "unique       404                                 413           40   19265   \n",
              "top     columbus  https://grandrapids.craigslist.org         ford   f-150   \n",
              "freq        3015                                2743        61190    7198   \n",
              "\n",
              "          fuel title_status transmission    type   state  \n",
              "count   362777       362777       362777  362777  362777  \n",
              "unique       5            6            3      13      51  \n",
              "top        gas        clean    automatic   sedan      ca  \n",
              "freq    309295       351115       288255  153769   42325  "
            ],
            "text/html": [
              "\n",
              "  <div id=\"df-c231ea10-a31b-4580-b32d-6e85f7639b80\">\n",
              "    <div class=\"colab-df-container\">\n",
              "      <div>\n",
              "<style scoped>\n",
              "    .dataframe tbody tr th:only-of-type {\n",
              "        vertical-align: middle;\n",
              "    }\n",
              "\n",
              "    .dataframe tbody tr th {\n",
              "        vertical-align: top;\n",
              "    }\n",
              "\n",
              "    .dataframe thead th {\n",
              "        text-align: right;\n",
              "    }\n",
              "</style>\n",
              "<table border=\"1\" class=\"dataframe\">\n",
              "  <thead>\n",
              "    <tr style=\"text-align: right;\">\n",
              "      <th></th>\n",
              "      <th>region</th>\n",
              "      <th>region_url</th>\n",
              "      <th>manufacturer</th>\n",
              "      <th>model</th>\n",
              "      <th>fuel</th>\n",
              "      <th>title_status</th>\n",
              "      <th>transmission</th>\n",
              "      <th>type</th>\n",
              "      <th>state</th>\n",
              "    </tr>\n",
              "  </thead>\n",
              "  <tbody>\n",
              "    <tr>\n",
              "      <th>count</th>\n",
              "      <td>362777</td>\n",
              "      <td>362777</td>\n",
              "      <td>362777</td>\n",
              "      <td>362777</td>\n",
              "      <td>362777</td>\n",
              "      <td>362777</td>\n",
              "      <td>362777</td>\n",
              "      <td>362777</td>\n",
              "      <td>362777</td>\n",
              "    </tr>\n",
              "    <tr>\n",
              "      <th>unique</th>\n",
              "      <td>404</td>\n",
              "      <td>413</td>\n",
              "      <td>40</td>\n",
              "      <td>19265</td>\n",
              "      <td>5</td>\n",
              "      <td>6</td>\n",
              "      <td>3</td>\n",
              "      <td>13</td>\n",
              "      <td>51</td>\n",
              "    </tr>\n",
              "    <tr>\n",
              "      <th>top</th>\n",
              "      <td>columbus</td>\n",
              "      <td>https://grandrapids.craigslist.org</td>\n",
              "      <td>ford</td>\n",
              "      <td>f-150</td>\n",
              "      <td>gas</td>\n",
              "      <td>clean</td>\n",
              "      <td>automatic</td>\n",
              "      <td>sedan</td>\n",
              "      <td>ca</td>\n",
              "    </tr>\n",
              "    <tr>\n",
              "      <th>freq</th>\n",
              "      <td>3015</td>\n",
              "      <td>2743</td>\n",
              "      <td>61190</td>\n",
              "      <td>7198</td>\n",
              "      <td>309295</td>\n",
              "      <td>351115</td>\n",
              "      <td>288255</td>\n",
              "      <td>153769</td>\n",
              "      <td>42325</td>\n",
              "    </tr>\n",
              "  </tbody>\n",
              "</table>\n",
              "</div>\n",
              "      <button class=\"colab-df-convert\" onclick=\"convertToInteractive('df-c231ea10-a31b-4580-b32d-6e85f7639b80')\"\n",
              "              title=\"Convert this dataframe to an interactive table.\"\n",
              "              style=\"display:none;\">\n",
              "        \n",
              "  <svg xmlns=\"http://www.w3.org/2000/svg\" height=\"24px\"viewBox=\"0 0 24 24\"\n",
              "       width=\"24px\">\n",
              "    <path d=\"M0 0h24v24H0V0z\" fill=\"none\"/>\n",
              "    <path d=\"M18.56 5.44l.94 2.06.94-2.06 2.06-.94-2.06-.94-.94-2.06-.94 2.06-2.06.94zm-11 1L8.5 8.5l.94-2.06 2.06-.94-2.06-.94L8.5 2.5l-.94 2.06-2.06.94zm10 10l.94 2.06.94-2.06 2.06-.94-2.06-.94-.94-2.06-.94 2.06-2.06.94z\"/><path d=\"M17.41 7.96l-1.37-1.37c-.4-.4-.92-.59-1.43-.59-.52 0-1.04.2-1.43.59L10.3 9.45l-7.72 7.72c-.78.78-.78 2.05 0 2.83L4 21.41c.39.39.9.59 1.41.59.51 0 1.02-.2 1.41-.59l7.78-7.78 2.81-2.81c.8-.78.8-2.07 0-2.86zM5.41 20L4 18.59l7.72-7.72 1.47 1.35L5.41 20z\"/>\n",
              "  </svg>\n",
              "      </button>\n",
              "      \n",
              "  <style>\n",
              "    .colab-df-container {\n",
              "      display:flex;\n",
              "      flex-wrap:wrap;\n",
              "      gap: 12px;\n",
              "    }\n",
              "\n",
              "    .colab-df-convert {\n",
              "      background-color: #E8F0FE;\n",
              "      border: none;\n",
              "      border-radius: 50%;\n",
              "      cursor: pointer;\n",
              "      display: none;\n",
              "      fill: #1967D2;\n",
              "      height: 32px;\n",
              "      padding: 0 0 0 0;\n",
              "      width: 32px;\n",
              "    }\n",
              "\n",
              "    .colab-df-convert:hover {\n",
              "      background-color: #E2EBFA;\n",
              "      box-shadow: 0px 1px 2px rgba(60, 64, 67, 0.3), 0px 1px 3px 1px rgba(60, 64, 67, 0.15);\n",
              "      fill: #174EA6;\n",
              "    }\n",
              "\n",
              "    [theme=dark] .colab-df-convert {\n",
              "      background-color: #3B4455;\n",
              "      fill: #D2E3FC;\n",
              "    }\n",
              "\n",
              "    [theme=dark] .colab-df-convert:hover {\n",
              "      background-color: #434B5C;\n",
              "      box-shadow: 0px 1px 3px 1px rgba(0, 0, 0, 0.15);\n",
              "      filter: drop-shadow(0px 1px 2px rgba(0, 0, 0, 0.3));\n",
              "      fill: #FFFFFF;\n",
              "    }\n",
              "  </style>\n",
              "\n",
              "      <script>\n",
              "        const buttonEl =\n",
              "          document.querySelector('#df-c231ea10-a31b-4580-b32d-6e85f7639b80 button.colab-df-convert');\n",
              "        buttonEl.style.display =\n",
              "          google.colab.kernel.accessAllowed ? 'block' : 'none';\n",
              "\n",
              "        async function convertToInteractive(key) {\n",
              "          const element = document.querySelector('#df-c231ea10-a31b-4580-b32d-6e85f7639b80');\n",
              "          const dataTable =\n",
              "            await google.colab.kernel.invokeFunction('convertToInteractive',\n",
              "                                                     [key], {});\n",
              "          if (!dataTable) return;\n",
              "\n",
              "          const docLinkHtml = 'Like what you see? Visit the ' +\n",
              "            '<a target=\"_blank\" href=https://colab.research.google.com/notebooks/data_table.ipynb>data table notebook</a>'\n",
              "            + ' to learn more about interactive tables.';\n",
              "          element.innerHTML = '';\n",
              "          dataTable['output_type'] = 'display_data';\n",
              "          await google.colab.output.renderOutput(dataTable, element);\n",
              "          const docLink = document.createElement('div');\n",
              "          docLink.innerHTML = docLinkHtml;\n",
              "          element.appendChild(docLink);\n",
              "        }\n",
              "      </script>\n",
              "    </div>\n",
              "  </div>\n",
              "  "
            ]
          },
          "metadata": {},
          "execution_count": 49
        }
      ]
    },
    {
      "cell_type": "markdown",
      "source": [
        "7b) Según la cardinalidad observada, separa en dos listas (`highly_cardinal_variables` y `few_cardinal_variables`) los nombres de las variables con alta cardinalidad y baja cardinalidad respectivamente."
      ],
      "metadata": {
        "id": "xFos2wk37ZPN"
      }
    },
    {
      "cell_type": "code",
      "source": [
        "#Se decidió considerar como cardinalidad alta las variables con más de 13 valores distintos\n",
        "highly_cardinal_variables  = ['region', 'region_url', 'manufacturer', 'model', 'state']\n",
        "few_cardinal_variables  = ['fuel', 'title_status', 'transmission', 'type']"
      ],
      "metadata": {
        "id": "KQrvdvce7sM7"
      },
      "execution_count": 50,
      "outputs": []
    },
    {
      "cell_type": "markdown",
      "source": [
        "7c) Visualiza en gráficos de barras la frecuencias de las categorías para las variables con baja cardinalidad (en `few_cardinal_variables`)"
      ],
      "metadata": {
        "id": "lpvDGeOe7l0l"
      }
    },
    {
      "cell_type": "code",
      "source": [
        "for var in few_cardinal_variables:\n",
        "  fig, ax = plt.subplots()\n",
        "  cars_df[var].value_counts().plot(kind='bar')\n",
        "  ax.set_title(var)\n",
        "plt.show()"
      ],
      "metadata": {
        "id": "xsvq3cIO8nwL",
        "colab": {
          "base_uri": "https://localhost:8080/",
          "height": 1000
        },
        "outputId": "870cf666-51e1-44b6-adc6-ab5a337bec2e"
      },
      "execution_count": 51,
      "outputs": [
        {
          "output_type": "display_data",
          "data": {
            "text/plain": [
              "<Figure size 720x432 with 1 Axes>"
            ],
            "image/png": "[encoded data removed]"
          },
          "metadata": {
            "needs_background": "light"
          }
        },
        {
          "output_type": "display_data",
          "data": {
            "text/plain": [
              "<Figure size 720x432 with 1 Axes>"
            ],
            "image/png": "[encoded data removed]"
          },
          "metadata": {
            "needs_background": "light"
          }
        },
        {
          "output_type": "display_data",
          "data": {
            "text/plain": [
              "<Figure size 720x432 with 1 Axes>"
            ],
            "image/png": "[encoded data removed]"
          },
          "metadata": {
            "needs_background": "light"
          }
        },
        {
          "output_type": "display_data",
          "data": {
            "text/plain": [
              "<Figure size 720x432 with 1 Axes>"
            ],
            "image/png": "[encoded data removed]"
          },
          "metadata": {
            "needs_background": "light"
          }
        }
      ]
    },
    {
      "cell_type": "markdown",
      "source": [
        "8. Aplica codificación *one-hot* a las variables en `few_cardinal_variables`.\n"
      ],
      "metadata": {
        "id": "Oh_NXLM57xm3"
      }
    },
    {
      "cell_type": "code",
      "source": [
        "temp_df = cars_df.copy()"
      ],
      "metadata": {
        "id": "RI_Lu8hZp783"
      },
      "execution_count": 52,
      "outputs": []
    },
    {
      "cell_type": "code",
      "source": [
        "from sklearn.preprocessing import OneHotEncoder\n",
        "encoder = OneHotEncoder(sparse=False)\n",
        "one_hot = encoder.fit_transform(temp_df[few_cardinal_variables])\n",
        "one_hot_df = pd.DataFrame(one_hot, columns=encoder.get_feature_names(few_cardinal_variables))\n",
        "one_hot_df"
      ],
      "metadata": {
        "colab": {
          "base_uri": "https://localhost:8080/",
          "height": 540
        },
        "id": "qv_1Jcpz5RvA",
        "outputId": "b8a623fa-e718-4c1b-d195-46c9fa0b3da4"
      },
      "execution_count": 53,
      "outputs": [
        {
          "output_type": "stream",
          "name": "stderr",
          "text": [
            "/usr/local/lib/python3.8/dist-packages/sklearn/utils/deprecation.py:87: FutureWarning: Function get_feature_names is deprecated; get_feature_names is deprecated in 1.0 and will be removed in 1.2. Please use get_feature_names_out instead.\n",
            "  warnings.warn(msg, category=FutureWarning)\n"
          ]
        },
        {
          "output_type": "execute_result",
          "data": {
            "text/plain": [
              "        fuel_diesel  fuel_electric  fuel_gas  fuel_hybrid  fuel_other  \\\n",
              "0               0.0            0.0       1.0          0.0         0.0   \n",
              "1               0.0            0.0       1.0          0.0         0.0   \n",
              "2               0.0            0.0       1.0          0.0         0.0   \n",
              "3               0.0            0.0       1.0          0.0         0.0   \n",
              "4               0.0            0.0       1.0          0.0         0.0   \n",
              "...             ...            ...       ...          ...         ...   \n",
              "362772          0.0            0.0       1.0          0.0         0.0   \n",
              "362773          0.0            0.0       1.0          0.0         0.0   \n",
              "362774          1.0            0.0       0.0          0.0         0.0   \n",
              "362775          0.0            0.0       1.0          0.0         0.0   \n",
              "362776          0.0            0.0       1.0          0.0         0.0   \n",
              "\n",
              "        title_status_clean  title_status_lien  title_status_missing  \\\n",
              "0                      1.0                0.0                   0.0   \n",
              "1                      1.0                0.0                   0.0   \n",
              "2                      1.0                0.0                   0.0   \n",
              "3                      1.0                0.0                   0.0   \n",
              "4                      1.0                0.0                   0.0   \n",
              "...                    ...                ...                   ...   \n",
              "362772                 1.0                0.0                   0.0   \n",
              "362773                 1.0                0.0                   0.0   \n",
              "362774                 1.0                0.0                   0.0   \n",
              "362775                 1.0                0.0                   0.0   \n",
              "362776                 1.0                0.0                   0.0   \n",
              "\n",
              "        title_status_parts only  title_status_rebuilt  ...  type_coupe  \\\n",
              "0                           0.0                   0.0  ...         0.0   \n",
              "1                           0.0                   0.0  ...         0.0   \n",
              "2                           0.0                   0.0  ...         0.0   \n",
              "3                           0.0                   0.0  ...         0.0   \n",
              "4                           0.0                   0.0  ...         0.0   \n",
              "...                         ...                   ...  ...         ...   \n",
              "362772                      0.0                   0.0  ...         0.0   \n",
              "362773                      0.0                   0.0  ...         0.0   \n",
              "362774                      0.0                   0.0  ...         0.0   \n",
              "362775                      0.0                   0.0  ...         0.0   \n",
              "362776                      0.0                   0.0  ...         1.0   \n",
              "\n",
              "        type_hatchback  type_mini-van  type_offroad  type_other  type_pickup  \\\n",
              "0                  0.0            0.0           0.0         0.0          1.0   \n",
              "1                  0.0            0.0           0.0         0.0          1.0   \n",
              "2                  0.0            0.0           0.0         0.0          1.0   \n",
              "3                  0.0            0.0           0.0         0.0          1.0   \n",
              "4                  0.0            0.0           0.0         0.0          0.0   \n",
              "...                ...            ...           ...         ...          ...   \n",
              "362772             0.0            0.0           0.0         0.0          0.0   \n",
              "362773             0.0            0.0           0.0         0.0          0.0   \n",
              "362774             1.0            0.0           0.0         0.0          0.0   \n",
              "362775             0.0            0.0           0.0         0.0          0.0   \n",
              "362776             0.0            0.0           0.0         0.0          0.0   \n",
              "\n",
              "        type_sedan  type_truck  type_van  type_wagon  \n",
              "0              0.0         0.0       0.0         0.0  \n",
              "1              0.0         0.0       0.0         0.0  \n",
              "2              0.0         0.0       0.0         0.0  \n",
              "3              0.0         0.0       0.0         0.0  \n",
              "4              0.0         1.0       0.0         0.0  \n",
              "...            ...         ...       ...         ...  \n",
              "362772         1.0         0.0       0.0         0.0  \n",
              "362773         1.0         0.0       0.0         0.0  \n",
              "362774         0.0         0.0       0.0         0.0  \n",
              "362775         1.0         0.0       0.0         0.0  \n",
              "362776         0.0         0.0       0.0         0.0  \n",
              "\n",
              "[362777 rows x 27 columns]"
            ],
            "text/html": [
              "\n",
              "  <div id=\"df-b3682a7c-866a-48c2-8a23-b268cb32d409\">\n",
              "    <div class=\"colab-df-container\">\n",
              "      <div>\n",
              "<style scoped>\n",
              "    .dataframe tbody tr th:only-of-type {\n",
              "        vertical-align: middle;\n",
              "    }\n",
              "\n",
              "    .dataframe tbody tr th {\n",
              "        vertical-align: top;\n",
              "    }\n",
              "\n",
              "    .dataframe thead th {\n",
              "        text-align: right;\n",
              "    }\n",
              "</style>\n",
              "<table border=\"1\" class=\"dataframe\">\n",
              "  <thead>\n",
              "    <tr style=\"text-align: right;\">\n",
              "      <th></th>\n",
              "      <th>fuel_diesel</th>\n",
              "      <th>fuel_electric</th>\n",
              "      <th>fuel_gas</th>\n",
              "      <th>fuel_hybrid</th>\n",
              "      <th>fuel_other</th>\n",
              "      <th>title_status_clean</th>\n",
              "      <th>title_status_lien</th>\n",
              "      <th>title_status_missing</th>\n",
              "      <th>title_status_parts only</th>\n",
              "      <th>title_status_rebuilt</th>\n",
              "      <th>...</th>\n",
              "      <th>type_coupe</th>\n",
              "      <th>type_hatchback</th>\n",
              "      <th>type_mini-van</th>\n",
              "      <th>type_offroad</th>\n",
              "      <th>type_other</th>\n",
              "      <th>type_pickup</th>\n",
              "      <th>type_sedan</th>\n",
              "      <th>type_truck</th>\n",
              "      <th>type_van</th>\n",
              "      <th>type_wagon</th>\n",
              "    </tr>\n",
              "  </thead>\n",
              "  <tbody>\n",
              "    <tr>\n",
              "      <th>0</th>\n",
              "      <td>0.0</td>\n",
              "      <td>0.0</td>\n",
              "      <td>1.0</td>\n",
              "      <td>0.0</td>\n",
              "      <td>0.0</td>\n",
              "      <td>1.0</td>\n",
              "      <td>0.0</td>\n",
              "      <td>0.0</td>\n",
              "      <td>0.0</td>\n",
              "      <td>0.0</td>\n",
              "      <td>...</td>\n",
              "      <td>0.0</td>\n",
              "      <td>0.0</td>\n",
              "      <td>0.0</td>\n",
              "      <td>0.0</td>\n",
              "      <td>0.0</td>\n",
              "      <td>1.0</td>\n",
              "      <td>0.0</td>\n",
              "      <td>0.0</td>\n",
              "      <td>0.0</td>\n",
              "      <td>0.0</td>\n",
              "    </tr>\n",
              "    <tr>\n",
              "      <th>1</th>\n",
              "      <td>0.0</td>\n",
              "      <td>0.0</td>\n",
              "      <td>1.0</td>\n",
              "      <td>0.0</td>\n",
              "      <td>0.0</td>\n",
              "      <td>1.0</td>\n",
              "      <td>0.0</td>\n",
              "      <td>0.0</td>\n",
              "      <td>0.0</td>\n",
              "      <td>0.0</td>\n",
              "      <td>...</td>\n",
              "      <td>0.0</td>\n",
              "      <td>0.0</td>\n",
              "      <td>0.0</td>\n",
              "      <td>0.0</td>\n",
              "      <td>0.0</td>\n",
              "      <td>1.0</td>\n",
              "      <td>0.0</td>\n",
              "      <td>0.0</td>\n",
              "      <td>0.0</td>\n",
              "      <td>0.0</td>\n",
              "    </tr>\n",
              "    <tr>\n",
              "      <th>2</th>\n",
              "      <td>0.0</td>\n",
              "      <td>0.0</td>\n",
              "      <td>1.0</td>\n",
              "      <td>0.0</td>\n",
              "      <td>0.0</td>\n",
              "      <td>1.0</td>\n",
              "      <td>0.0</td>\n",
              "      <td>0.0</td>\n",
              "      <td>0.0</td>\n",
              "      <td>0.0</td>\n",
              "      <td>...</td>\n",
              "      <td>0.0</td>\n",
              "      <td>0.0</td>\n",
              "      <td>0.0</td>\n",
              "      <td>0.0</td>\n",
              "      <td>0.0</td>\n",
              "      <td>1.0</td>\n",
              "      <td>0.0</td>\n",
              "      <td>0.0</td>\n",
              "      <td>0.0</td>\n",
              "      <td>0.0</td>\n",
              "    </tr>\n",
              "    <tr>\n",
              "      <th>3</th>\n",
              "      <td>0.0</td>\n",
              "      <td>0.0</td>\n",
              "      <td>1.0</td>\n",
              "      <td>0.0</td>\n",
              "      <td>0.0</td>\n",
              "      <td>1.0</td>\n",
              "      <td>0.0</td>\n",
              "      <td>0.0</td>\n",
              "      <td>0.0</td>\n",
              "      <td>0.0</td>\n",
              "      <td>...</td>\n",
              "      <td>0.0</td>\n",
              "      <td>0.0</td>\n",
              "      <td>0.0</td>\n",
              "      <td>0.0</td>\n",
              "      <td>0.0</td>\n",
              "      <td>1.0</td>\n",
              "      <td>0.0</td>\n",
              "      <td>0.0</td>\n",
              "      <td>0.0</td>\n",
              "      <td>0.0</td>\n",
              "    </tr>\n",
              "    <tr>\n",
              "      <th>4</th>\n",
              "      <td>0.0</td>\n",
              "      <td>0.0</td>\n",
              "      <td>1.0</td>\n",
              "      <td>0.0</td>\n",
              "      <td>0.0</td>\n",
              "      <td>1.0</td>\n",
              "      <td>0.0</td>\n",
              "      <td>0.0</td>\n",
              "      <td>0.0</td>\n",
              "      <td>0.0</td>\n",
              "      <td>...</td>\n",
              "      <td>0.0</td>\n",
              "      <td>0.0</td>\n",
              "      <td>0.0</td>\n",
              "      <td>0.0</td>\n",
              "      <td>0.0</td>\n",
              "      <td>0.0</td>\n",
              "      <td>0.0</td>\n",
              "      <td>1.0</td>\n",
              "      <td>0.0</td>\n",
              "      <td>0.0</td>\n",
              "    </tr>\n",
              "    <tr>\n",
              "      <th>...</th>\n",
              "      <td>...</td>\n",
              "      <td>...</td>\n",
              "      <td>...</td>\n",
              "      <td>...</td>\n",
              "      <td>...</td>\n",
              "      <td>...</td>\n",
              "      <td>...</td>\n",
              "      <td>...</td>\n",
              "      <td>...</td>\n",
              "      <td>...</td>\n",
              "      <td>...</td>\n",
              "      <td>...</td>\n",
              "      <td>...</td>\n",
              "      <td>...</td>\n",
              "      <td>...</td>\n",
              "      <td>...</td>\n",
              "      <td>...</td>\n",
              "      <td>...</td>\n",
              "      <td>...</td>\n",
              "      <td>...</td>\n",
              "      <td>...</td>\n",
              "    </tr>\n",
              "    <tr>\n",
              "      <th>362772</th>\n",
              "      <td>0.0</td>\n",
              "      <td>0.0</td>\n",
              "      <td>1.0</td>\n",
              "      <td>0.0</td>\n",
              "      <td>0.0</td>\n",
              "      <td>1.0</td>\n",
              "      <td>0.0</td>\n",
              "      <td>0.0</td>\n",
              "      <td>0.0</td>\n",
              "      <td>0.0</td>\n",
              "      <td>...</td>\n",
              "      <td>0.0</td>\n",
              "      <td>0.0</td>\n",
              "      <td>0.0</td>\n",
              "      <td>0.0</td>\n",
              "      <td>0.0</td>\n",
              "      <td>0.0</td>\n",
              "      <td>1.0</td>\n",
              "      <td>0.0</td>\n",
              "      <td>0.0</td>\n",
              "      <td>0.0</td>\n",
              "    </tr>\n",
              "    <tr>\n",
              "      <th>362773</th>\n",
              "      <td>0.0</td>\n",
              "      <td>0.0</td>\n",
              "      <td>1.0</td>\n",
              "      <td>0.0</td>\n",
              "      <td>0.0</td>\n",
              "      <td>1.0</td>\n",
              "      <td>0.0</td>\n",
              "      <td>0.0</td>\n",
              "      <td>0.0</td>\n",
              "      <td>0.0</td>\n",
              "      <td>...</td>\n",
              "      <td>0.0</td>\n",
              "      <td>0.0</td>\n",
              "      <td>0.0</td>\n",
              "      <td>0.0</td>\n",
              "      <td>0.0</td>\n",
              "      <td>0.0</td>\n",
              "      <td>1.0</td>\n",
              "      <td>0.0</td>\n",
              "      <td>0.0</td>\n",
              "      <td>0.0</td>\n",
              "    </tr>\n",
              "    <tr>\n",
              "      <th>362774</th>\n",
              "      <td>1.0</td>\n",
              "      <td>0.0</td>\n",
              "      <td>0.0</td>\n",
              "      <td>0.0</td>\n",
              "      <td>0.0</td>\n",
              "      <td>1.0</td>\n",
              "      <td>0.0</td>\n",
              "      <td>0.0</td>\n",
              "      <td>0.0</td>\n",
              "      <td>0.0</td>\n",
              "      <td>...</td>\n",
              "      <td>0.0</td>\n",
              "      <td>1.0</td>\n",
              "      <td>0.0</td>\n",
              "      <td>0.0</td>\n",
              "      <td>0.0</td>\n",
              "      <td>0.0</td>\n",
              "      <td>0.0</td>\n",
              "      <td>0.0</td>\n",
              "      <td>0.0</td>\n",
              "      <td>0.0</td>\n",
              "    </tr>\n",
              "    <tr>\n",
              "      <th>362775</th>\n",
              "      <td>0.0</td>\n",
              "      <td>0.0</td>\n",
              "      <td>1.0</td>\n",
              "      <td>0.0</td>\n",
              "      <td>0.0</td>\n",
              "      <td>1.0</td>\n",
              "      <td>0.0</td>\n",
              "      <td>0.0</td>\n",
              "      <td>0.0</td>\n",
              "      <td>0.0</td>\n",
              "      <td>...</td>\n",
              "      <td>0.0</td>\n",
              "      <td>0.0</td>\n",
              "      <td>0.0</td>\n",
              "      <td>0.0</td>\n",
              "      <td>0.0</td>\n",
              "      <td>0.0</td>\n",
              "      <td>1.0</td>\n",
              "      <td>0.0</td>\n",
              "      <td>0.0</td>\n",
              "      <td>0.0</td>\n",
              "    </tr>\n",
              "    <tr>\n",
              "      <th>362776</th>\n",
              "      <td>0.0</td>\n",
              "      <td>0.0</td>\n",
              "      <td>1.0</td>\n",
              "      <td>0.0</td>\n",
              "      <td>0.0</td>\n",
              "      <td>1.0</td>\n",
              "      <td>0.0</td>\n",
              "      <td>0.0</td>\n",
              "      <td>0.0</td>\n",
              "      <td>0.0</td>\n",
              "      <td>...</td>\n",
              "      <td>1.0</td>\n",
              "      <td>0.0</td>\n",
              "      <td>0.0</td>\n",
              "      <td>0.0</td>\n",
              "      <td>0.0</td>\n",
              "      <td>0.0</td>\n",
              "      <td>0.0</td>\n",
              "      <td>0.0</td>\n",
              "      <td>0.0</td>\n",
              "      <td>0.0</td>\n",
              "    </tr>\n",
              "  </tbody>\n",
              "</table>\n",
              "<p>362777 rows × 27 columns</p>\n",
              "</div>\n",
              "      <button class=\"colab-df-convert\" onclick=\"convertToInteractive('df-b3682a7c-866a-48c2-8a23-b268cb32d409')\"\n",
              "              title=\"Convert this dataframe to an interactive table.\"\n",
              "              style=\"display:none;\">\n",
              "        \n",
              "  <svg xmlns=\"http://www.w3.org/2000/svg\" height=\"24px\"viewBox=\"0 0 24 24\"\n",
              "       width=\"24px\">\n",
              "    <path d=\"M0 0h24v24H0V0z\" fill=\"none\"/>\n",
              "    <path d=\"M18.56 5.44l.94 2.06.94-2.06 2.06-.94-2.06-.94-.94-2.06-.94 2.06-2.06.94zm-11 1L8.5 8.5l.94-2.06 2.06-.94-2.06-.94L8.5 2.5l-.94 2.06-2.06.94zm10 10l.94 2.06.94-2.06 2.06-.94-2.06-.94-.94-2.06-.94 2.06-2.06.94z\"/><path d=\"M17.41 7.96l-1.37-1.37c-.4-.4-.92-.59-1.43-.59-.52 0-1.04.2-1.43.59L10.3 9.45l-7.72 7.72c-.78.78-.78 2.05 0 2.83L4 21.41c.39.39.9.59 1.41.59.51 0 1.02-.2 1.41-.59l7.78-7.78 2.81-2.81c.8-.78.8-2.07 0-2.86zM5.41 20L4 18.59l7.72-7.72 1.47 1.35L5.41 20z\"/>\n",
              "  </svg>\n",
              "      </button>\n",
              "      \n",
              "  <style>\n",
              "    .colab-df-container {\n",
              "      display:flex;\n",
              "      flex-wrap:wrap;\n",
              "      gap: 12px;\n",
              "    }\n",
              "\n",
              "    .colab-df-convert {\n",
              "      background-color: #E8F0FE;\n",
              "      border: none;\n",
              "      border-radius: 50%;\n",
              "      cursor: pointer;\n",
              "      display: none;\n",
              "      fill: #1967D2;\n",
              "      height: 32px;\n",
              "      padding: 0 0 0 0;\n",
              "      width: 32px;\n",
              "    }\n",
              "\n",
              "    .colab-df-convert:hover {\n",
              "      background-color: #E2EBFA;\n",
              "      box-shadow: 0px 1px 2px rgba(60, 64, 67, 0.3), 0px 1px 3px 1px rgba(60, 64, 67, 0.15);\n",
              "      fill: #174EA6;\n",
              "    }\n",
              "\n",
              "    [theme=dark] .colab-df-convert {\n",
              "      background-color: #3B4455;\n",
              "      fill: #D2E3FC;\n",
              "    }\n",
              "\n",
              "    [theme=dark] .colab-df-convert:hover {\n",
              "      background-color: #434B5C;\n",
              "      box-shadow: 0px 1px 3px 1px rgba(0, 0, 0, 0.15);\n",
              "      filter: drop-shadow(0px 1px 2px rgba(0, 0, 0, 0.3));\n",
              "      fill: #FFFFFF;\n",
              "    }\n",
              "  </style>\n",
              "\n",
              "      <script>\n",
              "        const buttonEl =\n",
              "          document.querySelector('#df-b3682a7c-866a-48c2-8a23-b268cb32d409 button.colab-df-convert');\n",
              "        buttonEl.style.display =\n",
              "          google.colab.kernel.accessAllowed ? 'block' : 'none';\n",
              "\n",
              "        async function convertToInteractive(key) {\n",
              "          const element = document.querySelector('#df-b3682a7c-866a-48c2-8a23-b268cb32d409');\n",
              "          const dataTable =\n",
              "            await google.colab.kernel.invokeFunction('convertToInteractive',\n",
              "                                                     [key], {});\n",
              "          if (!dataTable) return;\n",
              "\n",
              "          const docLinkHtml = 'Like what you see? Visit the ' +\n",
              "            '<a target=\"_blank\" href=https://colab.research.google.com/notebooks/data_table.ipynb>data table notebook</a>'\n",
              "            + ' to learn more about interactive tables.';\n",
              "          element.innerHTML = '';\n",
              "          dataTable['output_type'] = 'display_data';\n",
              "          await google.colab.output.renderOutput(dataTable, element);\n",
              "          const docLink = document.createElement('div');\n",
              "          docLink.innerHTML = docLinkHtml;\n",
              "          element.appendChild(docLink);\n",
              "        }\n",
              "      </script>\n",
              "    </div>\n",
              "  </div>\n",
              "  "
            ]
          },
          "metadata": {},
          "execution_count": 53
        }
      ]
    },
    {
      "cell_type": "markdown",
      "source": [
        "9. Aplica codificación binaria a las variables en `highly_cardinal_variables`."
      ],
      "metadata": {
        "id": "191XmIQr7_Jj"
      }
    },
    {
      "cell_type": "code",
      "source": [
        "!pip install category_encoders\n",
        "from category_encoders.binary import BinaryEncoder\n",
        "encoder = BinaryEncoder()\n",
        "binary = encoder.fit_transform(temp_df[highly_cardinal_variables])\n",
        "binary.head(10)"
      ],
      "metadata": {
        "id": "SiNttZ-6-03x",
        "colab": {
          "base_uri": "https://localhost:8080/",
          "height": 688
        },
        "outputId": "2ac89f23-7fd4-4401-e493-f0f384f30f66"
      },
      "execution_count": 54,
      "outputs": [
        {
          "output_type": "stream",
          "name": "stdout",
          "text": [
            "Looking in indexes: https://pypi.org/simple, https://us-python.pkg.dev/colab-wheels/public/simple/\n",
            "Collecting category_encoders\n",
            "  Downloading category_encoders-2.6.0-py2.py3-none-any.whl (81 kB)\n",
            "\u001b[2K     \u001b[90m━━━━━━━━━━━━━━━━━━━━━━━━━━━━━━━━━━━━━━━━\u001b[0m \u001b[32m81.2/81.2 KB\u001b[0m \u001b[31m3.2 MB/s\u001b[0m eta \u001b[36m0:00:00\u001b[0m\n",
            "\u001b[?25hRequirement already satisfied: scikit-learn>=0.20.0 in /usr/local/lib/python3.8/dist-packages (from category_encoders) (1.0.2)\n",
            "Requirement already satisfied: statsmodels>=0.9.0 in /usr/local/lib/python3.8/dist-packages (from category_encoders) (0.12.2)\n",
            "Requirement already satisfied: scipy>=1.0.0 in /usr/local/lib/python3.8/dist-packages (from category_encoders) (1.7.3)\n",
            "Requirement already satisfied: pandas>=1.0.5 in /usr/local/lib/python3.8/dist-packages (from category_encoders) (1.3.5)\n",
            "Requirement already satisfied: patsy>=0.5.1 in /usr/local/lib/python3.8/dist-packages (from category_encoders) (0.5.3)\n",
            "Requirement already satisfied: numpy>=1.14.0 in /usr/local/lib/python3.8/dist-packages (from category_encoders) (1.21.6)\n",
            "Requirement already satisfied: python-dateutil>=2.7.3 in /usr/local/lib/python3.8/dist-packages (from pandas>=1.0.5->category_encoders) (2.8.2)\n",
            "Requirement already satisfied: pytz>=2017.3 in /usr/local/lib/python3.8/dist-packages (from pandas>=1.0.5->category_encoders) (2022.7.1)\n",
            "Requirement already satisfied: six in /usr/local/lib/python3.8/dist-packages (from patsy>=0.5.1->category_encoders) (1.15.0)\n",
            "Requirement already satisfied: threadpoolctl>=2.0.0 in /usr/local/lib/python3.8/dist-packages (from scikit-learn>=0.20.0->category_encoders) (3.1.0)\n",
            "Requirement already satisfied: joblib>=0.11 in /usr/local/lib/python3.8/dist-packages (from scikit-learn>=0.20.0->category_encoders) (1.2.0)\n",
            "Installing collected packages: category_encoders\n",
            "Successfully installed category_encoders-2.6.0\n"
          ]
        },
        {
          "output_type": "execute_result",
          "data": {
            "text/plain": [
              "    region_0  region_1  region_2  region_3  region_4  region_5  region_6  \\\n",
              "27         0         0         0         0         0         0         0   \n",
              "28         0         0         0         0         0         0         0   \n",
              "29         0         0         0         0         0         0         0   \n",
              "30         0         0         0         0         0         0         0   \n",
              "31         0         0         0         0         0         0         0   \n",
              "32         0         0         0         0         0         0         0   \n",
              "33         0         0         0         0         0         0         0   \n",
              "34         0         0         0         0         0         0         0   \n",
              "35         0         0         0         0         0         0         0   \n",
              "36         0         0         0         0         0         0         0   \n",
              "\n",
              "    region_7  region_8  region_url_0  ...  model_11  model_12  model_13  \\\n",
              "27         0         1             0  ...         0         0         0   \n",
              "28         0         1             0  ...         0         0         1   \n",
              "29         0         1             0  ...         0         0         1   \n",
              "30         0         1             0  ...         0         1         0   \n",
              "31         0         1             0  ...         0         1         0   \n",
              "32         0         1             0  ...         0         1         1   \n",
              "33         0         1             0  ...         0         1         1   \n",
              "34         0         1             0  ...         1         0         0   \n",
              "35         0         1             0  ...         1         0         0   \n",
              "36         0         1             0  ...         1         0         1   \n",
              "\n",
              "    model_14  state_0  state_1  state_2  state_3  state_4  state_5  \n",
              "27         1        0        0        0        0        0        1  \n",
              "28         0        0        0        0        0        0        1  \n",
              "29         1        0        0        0        0        0        1  \n",
              "30         0        0        0        0        0        0        1  \n",
              "31         1        0        0        0        0        0        1  \n",
              "32         0        0        0        0        0        0        1  \n",
              "33         1        0        0        0        0        0        1  \n",
              "34         0        0        0        0        0        0        1  \n",
              "35         1        0        0        0        0        0        1  \n",
              "36         0        0        0        0        0        0        1  \n",
              "\n",
              "[10 rows x 45 columns]"
            ],
            "text/html": [
              "\n",
              "  <div id=\"df-13ea16ca-df8e-423d-9461-42432f4b321f\">\n",
              "    <div class=\"colab-df-container\">\n",
              "      <div>\n",
              "<style scoped>\n",
              "    .dataframe tbody tr th:only-of-type {\n",
              "        vertical-align: middle;\n",
              "    }\n",
              "\n",
              "    .dataframe tbody tr th {\n",
              "        vertical-align: top;\n",
              "    }\n",
              "\n",
              "    .dataframe thead th {\n",
              "        text-align: right;\n",
              "    }\n",
              "</style>\n",
              "<table border=\"1\" class=\"dataframe\">\n",
              "  <thead>\n",
              "    <tr style=\"text-align: right;\">\n",
              "      <th></th>\n",
              "      <th>region_0</th>\n",
              "      <th>region_1</th>\n",
              "      <th>region_2</th>\n",
              "      <th>region_3</th>\n",
              "      <th>region_4</th>\n",
              "      <th>region_5</th>\n",
              "      <th>region_6</th>\n",
              "      <th>region_7</th>\n",
              "      <th>region_8</th>\n",
              "      <th>region_url_0</th>\n",
              "      <th>...</th>\n",
              "      <th>model_11</th>\n",
              "      <th>model_12</th>\n",
              "      <th>model_13</th>\n",
              "      <th>model_14</th>\n",
              "      <th>state_0</th>\n",
              "      <th>state_1</th>\n",
              "      <th>state_2</th>\n",
              "      <th>state_3</th>\n",
              "      <th>state_4</th>\n",
              "      <th>state_5</th>\n",
              "    </tr>\n",
              "  </thead>\n",
              "  <tbody>\n",
              "    <tr>\n",
              "      <th>27</th>\n",
              "      <td>0</td>\n",
              "      <td>0</td>\n",
              "      <td>0</td>\n",
              "      <td>0</td>\n",
              "      <td>0</td>\n",
              "      <td>0</td>\n",
              "      <td>0</td>\n",
              "      <td>0</td>\n",
              "      <td>1</td>\n",
              "      <td>0</td>\n",
              "      <td>...</td>\n",
              "      <td>0</td>\n",
              "      <td>0</td>\n",
              "      <td>0</td>\n",
              "      <td>1</td>\n",
              "      <td>0</td>\n",
              "      <td>0</td>\n",
              "      <td>0</td>\n",
              "      <td>0</td>\n",
              "      <td>0</td>\n",
              "      <td>1</td>\n",
              "    </tr>\n",
              "    <tr>\n",
              "      <th>28</th>\n",
              "      <td>0</td>\n",
              "      <td>0</td>\n",
              "      <td>0</td>\n",
              "      <td>0</td>\n",
              "      <td>0</td>\n",
              "      <td>0</td>\n",
              "      <td>0</td>\n",
              "      <td>0</td>\n",
              "      <td>1</td>\n",
              "      <td>0</td>\n",
              "      <td>...</td>\n",
              "      <td>0</td>\n",
              "      <td>0</td>\n",
              "      <td>1</td>\n",
              "      <td>0</td>\n",
              "      <td>0</td>\n",
              "      <td>0</td>\n",
              "      <td>0</td>\n",
              "      <td>0</td>\n",
              "      <td>0</td>\n",
              "      <td>1</td>\n",
              "    </tr>\n",
              "    <tr>\n",
              "      <th>29</th>\n",
              "      <td>0</td>\n",
              "      <td>0</td>\n",
              "      <td>0</td>\n",
              "      <td>0</td>\n",
              "      <td>0</td>\n",
              "      <td>0</td>\n",
              "      <td>0</td>\n",
              "      <td>0</td>\n",
              "      <td>1</td>\n",
              "      <td>0</td>\n",
              "      <td>...</td>\n",
              "      <td>0</td>\n",
              "      <td>0</td>\n",
              "      <td>1</td>\n",
              "      <td>1</td>\n",
              "      <td>0</td>\n",
              "      <td>0</td>\n",
              "      <td>0</td>\n",
              "      <td>0</td>\n",
              "      <td>0</td>\n",
              "      <td>1</td>\n",
              "    </tr>\n",
              "    <tr>\n",
              "      <th>30</th>\n",
              "      <td>0</td>\n",
              "      <td>0</td>\n",
              "      <td>0</td>\n",
              "      <td>0</td>\n",
              "      <td>0</td>\n",
              "      <td>0</td>\n",
              "      <td>0</td>\n",
              "      <td>0</td>\n",
              "      <td>1</td>\n",
              "      <td>0</td>\n",
              "      <td>...</td>\n",
              "      <td>0</td>\n",
              "      <td>1</td>\n",
              "      <td>0</td>\n",
              "      <td>0</td>\n",
              "      <td>0</td>\n",
              "      <td>0</td>\n",
              "      <td>0</td>\n",
              "      <td>0</td>\n",
              "      <td>0</td>\n",
              "      <td>1</td>\n",
              "    </tr>\n",
              "    <tr>\n",
              "      <th>31</th>\n",
              "      <td>0</td>\n",
              "      <td>0</td>\n",
              "      <td>0</td>\n",
              "      <td>0</td>\n",
              "      <td>0</td>\n",
              "      <td>0</td>\n",
              "      <td>0</td>\n",
              "      <td>0</td>\n",
              "      <td>1</td>\n",
              "      <td>0</td>\n",
              "      <td>...</td>\n",
              "      <td>0</td>\n",
              "      <td>1</td>\n",
              "      <td>0</td>\n",
              "      <td>1</td>\n",
              "      <td>0</td>\n",
              "      <td>0</td>\n",
              "      <td>0</td>\n",
              "      <td>0</td>\n",
              "      <td>0</td>\n",
              "      <td>1</td>\n",
              "    </tr>\n",
              "    <tr>\n",
              "      <th>32</th>\n",
              "      <td>0</td>\n",
              "      <td>0</td>\n",
              "      <td>0</td>\n",
              "      <td>0</td>\n",
              "      <td>0</td>\n",
              "      <td>0</td>\n",
              "      <td>0</td>\n",
              "      <td>0</td>\n",
              "      <td>1</td>\n",
              "      <td>0</td>\n",
              "      <td>...</td>\n",
              "      <td>0</td>\n",
              "      <td>1</td>\n",
              "      <td>1</td>\n",
              "      <td>0</td>\n",
              "      <td>0</td>\n",
              "      <td>0</td>\n",
              "      <td>0</td>\n",
              "      <td>0</td>\n",
              "      <td>0</td>\n",
              "      <td>1</td>\n",
              "    </tr>\n",
              "    <tr>\n",
              "      <th>33</th>\n",
              "      <td>0</td>\n",
              "      <td>0</td>\n",
              "      <td>0</td>\n",
              "      <td>0</td>\n",
              "      <td>0</td>\n",
              "      <td>0</td>\n",
              "      <td>0</td>\n",
              "      <td>0</td>\n",
              "      <td>1</td>\n",
              "      <td>0</td>\n",
              "      <td>...</td>\n",
              "      <td>0</td>\n",
              "      <td>1</td>\n",
              "      <td>1</td>\n",
              "      <td>1</td>\n",
              "      <td>0</td>\n",
              "      <td>0</td>\n",
              "      <td>0</td>\n",
              "      <td>0</td>\n",
              "      <td>0</td>\n",
              "      <td>1</td>\n",
              "    </tr>\n",
              "    <tr>\n",
              "      <th>34</th>\n",
              "      <td>0</td>\n",
              "      <td>0</td>\n",
              "      <td>0</td>\n",
              "      <td>0</td>\n",
              "      <td>0</td>\n",
              "      <td>0</td>\n",
              "      <td>0</td>\n",
              "      <td>0</td>\n",
              "      <td>1</td>\n",
              "      <td>0</td>\n",
              "      <td>...</td>\n",
              "      <td>1</td>\n",
              "      <td>0</td>\n",
              "      <td>0</td>\n",
              "      <td>0</td>\n",
              "      <td>0</td>\n",
              "      <td>0</td>\n",
              "      <td>0</td>\n",
              "      <td>0</td>\n",
              "      <td>0</td>\n",
              "      <td>1</td>\n",
              "    </tr>\n",
              "    <tr>\n",
              "      <th>35</th>\n",
              "      <td>0</td>\n",
              "      <td>0</td>\n",
              "      <td>0</td>\n",
              "      <td>0</td>\n",
              "      <td>0</td>\n",
              "      <td>0</td>\n",
              "      <td>0</td>\n",
              "      <td>0</td>\n",
              "      <td>1</td>\n",
              "      <td>0</td>\n",
              "      <td>...</td>\n",
              "      <td>1</td>\n",
              "      <td>0</td>\n",
              "      <td>0</td>\n",
              "      <td>1</td>\n",
              "      <td>0</td>\n",
              "      <td>0</td>\n",
              "      <td>0</td>\n",
              "      <td>0</td>\n",
              "      <td>0</td>\n",
              "      <td>1</td>\n",
              "    </tr>\n",
              "    <tr>\n",
              "      <th>36</th>\n",
              "      <td>0</td>\n",
              "      <td>0</td>\n",
              "      <td>0</td>\n",
              "      <td>0</td>\n",
              "      <td>0</td>\n",
              "      <td>0</td>\n",
              "      <td>0</td>\n",
              "      <td>0</td>\n",
              "      <td>1</td>\n",
              "      <td>0</td>\n",
              "      <td>...</td>\n",
              "      <td>1</td>\n",
              "      <td>0</td>\n",
              "      <td>1</td>\n",
              "      <td>0</td>\n",
              "      <td>0</td>\n",
              "      <td>0</td>\n",
              "      <td>0</td>\n",
              "      <td>0</td>\n",
              "      <td>0</td>\n",
              "      <td>1</td>\n",
              "    </tr>\n",
              "  </tbody>\n",
              "</table>\n",
              "<p>10 rows × 45 columns</p>\n",
              "</div>\n",
              "      <button class=\"colab-df-convert\" onclick=\"convertToInteractive('df-13ea16ca-df8e-423d-9461-42432f4b321f')\"\n",
              "              title=\"Convert this dataframe to an interactive table.\"\n",
              "              style=\"display:none;\">\n",
              "        \n",
              "  <svg xmlns=\"http://www.w3.org/2000/svg\" height=\"24px\"viewBox=\"0 0 24 24\"\n",
              "       width=\"24px\">\n",
              "    <path d=\"M0 0h24v24H0V0z\" fill=\"none\"/>\n",
              "    <path d=\"M18.56 5.44l.94 2.06.94-2.06 2.06-.94-2.06-.94-.94-2.06-.94 2.06-2.06.94zm-11 1L8.5 8.5l.94-2.06 2.06-.94-2.06-.94L8.5 2.5l-.94 2.06-2.06.94zm10 10l.94 2.06.94-2.06 2.06-.94-2.06-.94-.94-2.06-.94 2.06-2.06.94z\"/><path d=\"M17.41 7.96l-1.37-1.37c-.4-.4-.92-.59-1.43-.59-.52 0-1.04.2-1.43.59L10.3 9.45l-7.72 7.72c-.78.78-.78 2.05 0 2.83L4 21.41c.39.39.9.59 1.41.59.51 0 1.02-.2 1.41-.59l7.78-7.78 2.81-2.81c.8-.78.8-2.07 0-2.86zM5.41 20L4 18.59l7.72-7.72 1.47 1.35L5.41 20z\"/>\n",
              "  </svg>\n",
              "      </button>\n",
              "      \n",
              "  <style>\n",
              "    .colab-df-container {\n",
              "      display:flex;\n",
              "      flex-wrap:wrap;\n",
              "      gap: 12px;\n",
              "    }\n",
              "\n",
              "    .colab-df-convert {\n",
              "      background-color: #E8F0FE;\n",
              "      border: none;\n",
              "      border-radius: 50%;\n",
              "      cursor: pointer;\n",
              "      display: none;\n",
              "      fill: #1967D2;\n",
              "      height: 32px;\n",
              "      padding: 0 0 0 0;\n",
              "      width: 32px;\n",
              "    }\n",
              "\n",
              "    .colab-df-convert:hover {\n",
              "      background-color: #E2EBFA;\n",
              "      box-shadow: 0px 1px 2px rgba(60, 64, 67, 0.3), 0px 1px 3px 1px rgba(60, 64, 67, 0.15);\n",
              "      fill: #174EA6;\n",
              "    }\n",
              "\n",
              "    [theme=dark] .colab-df-convert {\n",
              "      background-color: #3B4455;\n",
              "      fill: #D2E3FC;\n",
              "    }\n",
              "\n",
              "    [theme=dark] .colab-df-convert:hover {\n",
              "      background-color: #434B5C;\n",
              "      box-shadow: 0px 1px 3px 1px rgba(0, 0, 0, 0.15);\n",
              "      filter: drop-shadow(0px 1px 2px rgba(0, 0, 0, 0.3));\n",
              "      fill: #FFFFFF;\n",
              "    }\n",
              "  </style>\n",
              "\n",
              "      <script>\n",
              "        const buttonEl =\n",
              "          document.querySelector('#df-13ea16ca-df8e-423d-9461-42432f4b321f button.colab-df-convert');\n",
              "        buttonEl.style.display =\n",
              "          google.colab.kernel.accessAllowed ? 'block' : 'none';\n",
              "\n",
              "        async function convertToInteractive(key) {\n",
              "          const element = document.querySelector('#df-13ea16ca-df8e-423d-9461-42432f4b321f');\n",
              "          const dataTable =\n",
              "            await google.colab.kernel.invokeFunction('convertToInteractive',\n",
              "                                                     [key], {});\n",
              "          if (!dataTable) return;\n",
              "\n",
              "          const docLinkHtml = 'Like what you see? Visit the ' +\n",
              "            '<a target=\"_blank\" href=https://colab.research.google.com/notebooks/data_table.ipynb>data table notebook</a>'\n",
              "            + ' to learn more about interactive tables.';\n",
              "          element.innerHTML = '';\n",
              "          dataTable['output_type'] = 'display_data';\n",
              "          await google.colab.output.renderOutput(dataTable, element);\n",
              "          const docLink = document.createElement('div');\n",
              "          docLink.innerHTML = docLinkHtml;\n",
              "          element.appendChild(docLink);\n",
              "        }\n",
              "      </script>\n",
              "    </div>\n",
              "  </div>\n",
              "  "
            ]
          },
          "metadata": {},
          "execution_count": 54
        }
      ]
    },
    {
      "cell_type": "markdown",
      "source": [
        "10. Concatena los dataframes obtenidos de las codificaciones anteriores al dataframe `minmax_df` (cuyas variables numéricas ya están transformadas) y elimina las columnas categóricas originales. Toma en cuenta que si los índices de los dataframes no coinciden, la concatenación no se realizará correctamente. Utiliza `reset_index(drop=True, inplace=True)` para restablecer los índices."
      ],
      "metadata": {
        "id": "QRu3tbKA8HbQ"
      }
    },
    {
      "cell_type": "code",
      "source": [
        "minmax_df.reset_index(drop=True, inplace=True)\n",
        "one_hot_df.reset_index(drop=True, inplace=True)\n",
        "binary.reset_index(drop=True, inplace=True)\n",
        "\n",
        "encoded_df = pd.concat([minmax_df, one_hot_df, binary], axis=1)\n",
        "encoded_df.drop(few_cardinal_variables + highly_cardinal_variables, axis=1, inplace=True)\n",
        "encoded_df"
      ],
      "metadata": {
        "id": "tVIh3EaVEB0k",
        "colab": {
          "base_uri": "https://localhost:8080/",
          "height": 424
        },
        "outputId": "15746ae4-74df-4c8f-8e29-13ee314dd6da"
      },
      "execution_count": 55,
      "outputs": [
        {
          "output_type": "execute_result",
          "data": {
            "text/plain": [
              "           price  odometer        lat       long       age  fuel_diesel  \\\n",
              "0       0.788279  0.434239  32.590000 -85.480000  0.573885          0.0   \n",
              "1       0.663623  0.484697  32.590000 -85.480000  0.704320          0.0   \n",
              "2       0.846457  0.240991  32.590000 -85.480000  0.237377          0.0   \n",
              "3       0.761222  0.361921  32.590000 -85.480000  0.439710          0.0   \n",
              "4       0.555366  0.661793  32.592000 -85.518900  0.610447          0.0   \n",
              "...          ...       ...        ...        ...       ...          ...   \n",
              "362772  0.676226  0.317882  33.786500 -84.445400  0.316881          0.0   \n",
              "362773  0.756945  0.188010  33.786500 -84.445400  0.237377          0.0   \n",
              "362774  0.802354  0.106726  33.779214 -84.411811  0.237377          1.0   \n",
              "362775  0.739512  0.306606  33.786500 -84.445400  0.382992          0.0   \n",
              "362776  0.756945  0.263874  33.779214 -84.411811  0.316881          0.0   \n",
              "\n",
              "        fuel_electric  fuel_gas  fuel_hybrid  fuel_other  ...  model_11  \\\n",
              "0                 0.0       1.0          0.0         0.0  ...         0   \n",
              "1                 0.0       1.0          0.0         0.0  ...         0   \n",
              "2                 0.0       1.0          0.0         0.0  ...         0   \n",
              "3                 0.0       1.0          0.0         0.0  ...         0   \n",
              "4                 0.0       1.0          0.0         0.0  ...         0   \n",
              "...               ...       ...          ...         ...  ...       ...   \n",
              "362772            0.0       1.0          0.0         0.0  ...         0   \n",
              "362773            0.0       1.0          0.0         0.0  ...         0   \n",
              "362774            0.0       0.0          0.0         0.0  ...         1   \n",
              "362775            0.0       1.0          0.0         0.0  ...         1   \n",
              "362776            0.0       1.0          0.0         0.0  ...         1   \n",
              "\n",
              "        model_12  model_13  model_14  state_0  state_1  state_2  state_3  \\\n",
              "0              0         0         1        0        0        0        0   \n",
              "1              0         1         0        0        0        0        0   \n",
              "2              0         1         1        0        0        0        0   \n",
              "3              1         0         0        0        0        0        0   \n",
              "4              1         0         1        0        0        0        0   \n",
              "...          ...       ...       ...      ...      ...      ...      ...   \n",
              "362772         1         1         1        1        1        0        0   \n",
              "362773         1         1         1        1        1        0        0   \n",
              "362774         0         1         1        1        1        0        0   \n",
              "362775         1         0         0        1        1        0        0   \n",
              "362776         0         0         1        1        1        0        0   \n",
              "\n",
              "        state_4  state_5  \n",
              "0             0        1  \n",
              "1             0        1  \n",
              "2             0        1  \n",
              "3             0        1  \n",
              "4             0        1  \n",
              "...         ...      ...  \n",
              "362772        1        1  \n",
              "362773        1        1  \n",
              "362774        1        1  \n",
              "362775        1        1  \n",
              "362776        1        1  \n",
              "\n",
              "[362777 rows x 77 columns]"
            ],
            "text/html": [
              "\n",
              "  <div id=\"df-6d94f75d-3bfe-4808-b26d-75543d58710d\">\n",
              "    <div class=\"colab-df-container\">\n",
              "      <div>\n",
              "<style scoped>\n",
              "    .dataframe tbody tr th:only-of-type {\n",
              "        vertical-align: middle;\n",
              "    }\n",
              "\n",
              "    .dataframe tbody tr th {\n",
              "        vertical-align: top;\n",
              "    }\n",
              "\n",
              "    .dataframe thead th {\n",
              "        text-align: right;\n",
              "    }\n",
              "</style>\n",
              "<table border=\"1\" class=\"dataframe\">\n",
              "  <thead>\n",
              "    <tr style=\"text-align: right;\">\n",
              "      <th></th>\n",
              "      <th>price</th>\n",
              "      <th>odometer</th>\n",
              "      <th>lat</th>\n",
              "      <th>long</th>\n",
              "      <th>age</th>\n",
              "      <th>fuel_diesel</th>\n",
              "      <th>fuel_electric</th>\n",
              "      <th>fuel_gas</th>\n",
              "      <th>fuel_hybrid</th>\n",
              "      <th>fuel_other</th>\n",
              "      <th>...</th>\n",
              "      <th>model_11</th>\n",
              "      <th>model_12</th>\n",
              "      <th>model_13</th>\n",
              "      <th>model_14</th>\n",
              "      <th>state_0</th>\n",
              "      <th>state_1</th>\n",
              "      <th>state_2</th>\n",
              "      <th>state_3</th>\n",
              "      <th>state_4</th>\n",
              "      <th>state_5</th>\n",
              "    </tr>\n",
              "  </thead>\n",
              "  <tbody>\n",
              "    <tr>\n",
              "      <th>0</th>\n",
              "      <td>0.788279</td>\n",
              "      <td>0.434239</td>\n",
              "      <td>32.590000</td>\n",
              "      <td>-85.480000</td>\n",
              "      <td>0.573885</td>\n",
              "      <td>0.0</td>\n",
              "      <td>0.0</td>\n",
              "      <td>1.0</td>\n",
              "      <td>0.0</td>\n",
              "      <td>0.0</td>\n",
              "      <td>...</td>\n",
              "      <td>0</td>\n",
              "      <td>0</td>\n",
              "      <td>0</td>\n",
              "      <td>1</td>\n",
              "      <td>0</td>\n",
              "      <td>0</td>\n",
              "      <td>0</td>\n",
              "      <td>0</td>\n",
              "      <td>0</td>\n",
              "      <td>1</td>\n",
              "    </tr>\n",
              "    <tr>\n",
              "      <th>1</th>\n",
              "      <td>0.663623</td>\n",
              "      <td>0.484697</td>\n",
              "      <td>32.590000</td>\n",
              "      <td>-85.480000</td>\n",
              "      <td>0.704320</td>\n",
              "      <td>0.0</td>\n",
              "      <td>0.0</td>\n",
              "      <td>1.0</td>\n",
              "      <td>0.0</td>\n",
              "      <td>0.0</td>\n",
              "      <td>...</td>\n",
              "      <td>0</td>\n",
              "      <td>0</td>\n",
              "      <td>1</td>\n",
              "      <td>0</td>\n",
              "      <td>0</td>\n",
              "      <td>0</td>\n",
              "      <td>0</td>\n",
              "      <td>0</td>\n",
              "      <td>0</td>\n",
              "      <td>1</td>\n",
              "    </tr>\n",
              "    <tr>\n",
              "      <th>2</th>\n",
              "      <td>0.846457</td>\n",
              "      <td>0.240991</td>\n",
              "      <td>32.590000</td>\n",
              "      <td>-85.480000</td>\n",
              "      <td>0.237377</td>\n",
              "      <td>0.0</td>\n",
              "      <td>0.0</td>\n",
              "      <td>1.0</td>\n",
              "      <td>0.0</td>\n",
              "      <td>0.0</td>\n",
              "      <td>...</td>\n",
              "      <td>0</td>\n",
              "      <td>0</td>\n",
              "      <td>1</td>\n",
              "      <td>1</td>\n",
              "      <td>0</td>\n",
              "      <td>0</td>\n",
              "      <td>0</td>\n",
              "      <td>0</td>\n",
              "      <td>0</td>\n",
              "      <td>1</td>\n",
              "    </tr>\n",
              "    <tr>\n",
              "      <th>3</th>\n",
              "      <td>0.761222</td>\n",
              "      <td>0.361921</td>\n",
              "      <td>32.590000</td>\n",
              "      <td>-85.480000</td>\n",
              "      <td>0.439710</td>\n",
              "      <td>0.0</td>\n",
              "      <td>0.0</td>\n",
              "      <td>1.0</td>\n",
              "      <td>0.0</td>\n",
              "      <td>0.0</td>\n",
              "      <td>...</td>\n",
              "      <td>0</td>\n",
              "      <td>1</td>\n",
              "      <td>0</td>\n",
              "      <td>0</td>\n",
              "      <td>0</td>\n",
              "      <td>0</td>\n",
              "      <td>0</td>\n",
              "      <td>0</td>\n",
              "      <td>0</td>\n",
              "      <td>1</td>\n",
              "    </tr>\n",
              "    <tr>\n",
              "      <th>4</th>\n",
              "      <td>0.555366</td>\n",
              "      <td>0.661793</td>\n",
              "      <td>32.592000</td>\n",
              "      <td>-85.518900</td>\n",
              "      <td>0.610447</td>\n",
              "      <td>0.0</td>\n",
              "      <td>0.0</td>\n",
              "      <td>1.0</td>\n",
              "      <td>0.0</td>\n",
              "      <td>0.0</td>\n",
              "      <td>...</td>\n",
              "      <td>0</td>\n",
              "      <td>1</td>\n",
              "      <td>0</td>\n",
              "      <td>1</td>\n",
              "      <td>0</td>\n",
              "      <td>0</td>\n",
              "      <td>0</td>\n",
              "      <td>0</td>\n",
              "      <td>0</td>\n",
              "      <td>1</td>\n",
              "    </tr>\n",
              "    <tr>\n",
              "      <th>...</th>\n",
              "      <td>...</td>\n",
              "      <td>...</td>\n",
              "      <td>...</td>\n",
              "      <td>...</td>\n",
              "      <td>...</td>\n",
              "      <td>...</td>\n",
              "      <td>...</td>\n",
              "      <td>...</td>\n",
              "      <td>...</td>\n",
              "      <td>...</td>\n",
              "      <td>...</td>\n",
              "      <td>...</td>\n",
              "      <td>...</td>\n",
              "      <td>...</td>\n",
              "      <td>...</td>\n",
              "      <td>...</td>\n",
              "      <td>...</td>\n",
              "      <td>...</td>\n",
              "      <td>...</td>\n",
              "      <td>...</td>\n",
              "      <td>...</td>\n",
              "    </tr>\n",
              "    <tr>\n",
              "      <th>362772</th>\n",
              "      <td>0.676226</td>\n",
              "      <td>0.317882</td>\n",
              "      <td>33.786500</td>\n",
              "      <td>-84.445400</td>\n",
              "      <td>0.316881</td>\n",
              "      <td>0.0</td>\n",
              "      <td>0.0</td>\n",
              "      <td>1.0</td>\n",
              "      <td>0.0</td>\n",
              "      <td>0.0</td>\n",
              "      <td>...</td>\n",
              "      <td>0</td>\n",
              "      <td>1</td>\n",
              "      <td>1</td>\n",
              "      <td>1</td>\n",
              "      <td>1</td>\n",
              "      <td>1</td>\n",
              "      <td>0</td>\n",
              "      <td>0</td>\n",
              "      <td>1</td>\n",
              "      <td>1</td>\n",
              "    </tr>\n",
              "    <tr>\n",
              "      <th>362773</th>\n",
              "      <td>0.756945</td>\n",
              "      <td>0.188010</td>\n",
              "      <td>33.786500</td>\n",
              "      <td>-84.445400</td>\n",
              "      <td>0.237377</td>\n",
              "      <td>0.0</td>\n",
              "      <td>0.0</td>\n",
              "      <td>1.0</td>\n",
              "      <td>0.0</td>\n",
              "      <td>0.0</td>\n",
              "      <td>...</td>\n",
              "      <td>0</td>\n",
              "      <td>1</td>\n",
              "      <td>1</td>\n",
              "      <td>1</td>\n",
              "      <td>1</td>\n",
              "      <td>1</td>\n",
              "      <td>0</td>\n",
              "      <td>0</td>\n",
              "      <td>1</td>\n",
              "      <td>1</td>\n",
              "    </tr>\n",
              "    <tr>\n",
              "      <th>362774</th>\n",
              "      <td>0.802354</td>\n",
              "      <td>0.106726</td>\n",
              "      <td>33.779214</td>\n",
              "      <td>-84.411811</td>\n",
              "      <td>0.237377</td>\n",
              "      <td>1.0</td>\n",
              "      <td>0.0</td>\n",
              "      <td>0.0</td>\n",
              "      <td>0.0</td>\n",
              "      <td>0.0</td>\n",
              "      <td>...</td>\n",
              "      <td>1</td>\n",
              "      <td>0</td>\n",
              "      <td>1</td>\n",
              "      <td>1</td>\n",
              "      <td>1</td>\n",
              "      <td>1</td>\n",
              "      <td>0</td>\n",
              "      <td>0</td>\n",
              "      <td>1</td>\n",
              "      <td>1</td>\n",
              "    </tr>\n",
              "    <tr>\n",
              "      <th>362775</th>\n",
              "      <td>0.739512</td>\n",
              "      <td>0.306606</td>\n",
              "      <td>33.786500</td>\n",
              "      <td>-84.445400</td>\n",
              "      <td>0.382992</td>\n",
              "      <td>0.0</td>\n",
              "      <td>0.0</td>\n",
              "      <td>1.0</td>\n",
              "      <td>0.0</td>\n",
              "      <td>0.0</td>\n",
              "      <td>...</td>\n",
              "      <td>1</td>\n",
              "      <td>1</td>\n",
              "      <td>0</td>\n",
              "      <td>0</td>\n",
              "      <td>1</td>\n",
              "      <td>1</td>\n",
              "      <td>0</td>\n",
              "      <td>0</td>\n",
              "      <td>1</td>\n",
              "      <td>1</td>\n",
              "    </tr>\n",
              "    <tr>\n",
              "      <th>362776</th>\n",
              "      <td>0.756945</td>\n",
              "      <td>0.263874</td>\n",
              "      <td>33.779214</td>\n",
              "      <td>-84.411811</td>\n",
              "      <td>0.316881</td>\n",
              "      <td>0.0</td>\n",
              "      <td>0.0</td>\n",
              "      <td>1.0</td>\n",
              "      <td>0.0</td>\n",
              "      <td>0.0</td>\n",
              "      <td>...</td>\n",
              "      <td>1</td>\n",
              "      <td>0</td>\n",
              "      <td>0</td>\n",
              "      <td>1</td>\n",
              "      <td>1</td>\n",
              "      <td>1</td>\n",
              "      <td>0</td>\n",
              "      <td>0</td>\n",
              "      <td>1</td>\n",
              "      <td>1</td>\n",
              "    </tr>\n",
              "  </tbody>\n",
              "</table>\n",
              "<p>362777 rows × 77 columns</p>\n",
              "</div>\n",
              "      <button class=\"colab-df-convert\" onclick=\"convertToInteractive('df-6d94f75d-3bfe-4808-b26d-75543d58710d')\"\n",
              "              title=\"Convert this dataframe to an interactive table.\"\n",
              "              style=\"display:none;\">\n",
              "        \n",
              "  <svg xmlns=\"http://www.w3.org/2000/svg\" height=\"24px\"viewBox=\"0 0 24 24\"\n",
              "       width=\"24px\">\n",
              "    <path d=\"M0 0h24v24H0V0z\" fill=\"none\"/>\n",
              "    <path d=\"M18.56 5.44l.94 2.06.94-2.06 2.06-.94-2.06-.94-.94-2.06-.94 2.06-2.06.94zm-11 1L8.5 8.5l.94-2.06 2.06-.94-2.06-.94L8.5 2.5l-.94 2.06-2.06.94zm10 10l.94 2.06.94-2.06 2.06-.94-2.06-.94-.94-2.06-.94 2.06-2.06.94z\"/><path d=\"M17.41 7.96l-1.37-1.37c-.4-.4-.92-.59-1.43-.59-.52 0-1.04.2-1.43.59L10.3 9.45l-7.72 7.72c-.78.78-.78 2.05 0 2.83L4 21.41c.39.39.9.59 1.41.59.51 0 1.02-.2 1.41-.59l7.78-7.78 2.81-2.81c.8-.78.8-2.07 0-2.86zM5.41 20L4 18.59l7.72-7.72 1.47 1.35L5.41 20z\"/>\n",
              "  </svg>\n",
              "      </button>\n",
              "      \n",
              "  <style>\n",
              "    .colab-df-container {\n",
              "      display:flex;\n",
              "      flex-wrap:wrap;\n",
              "      gap: 12px;\n",
              "    }\n",
              "\n",
              "    .colab-df-convert {\n",
              "      background-color: #E8F0FE;\n",
              "      border: none;\n",
              "      border-radius: 50%;\n",
              "      cursor: pointer;\n",
              "      display: none;\n",
              "      fill: #1967D2;\n",
              "      height: 32px;\n",
              "      padding: 0 0 0 0;\n",
              "      width: 32px;\n",
              "    }\n",
              "\n",
              "    .colab-df-convert:hover {\n",
              "      background-color: #E2EBFA;\n",
              "      box-shadow: 0px 1px 2px rgba(60, 64, 67, 0.3), 0px 1px 3px 1px rgba(60, 64, 67, 0.15);\n",
              "      fill: #174EA6;\n",
              "    }\n",
              "\n",
              "    [theme=dark] .colab-df-convert {\n",
              "      background-color: #3B4455;\n",
              "      fill: #D2E3FC;\n",
              "    }\n",
              "\n",
              "    [theme=dark] .colab-df-convert:hover {\n",
              "      background-color: #434B5C;\n",
              "      box-shadow: 0px 1px 3px 1px rgba(0, 0, 0, 0.15);\n",
              "      filter: drop-shadow(0px 1px 2px rgba(0, 0, 0, 0.3));\n",
              "      fill: #FFFFFF;\n",
              "    }\n",
              "  </style>\n",
              "\n",
              "      <script>\n",
              "        const buttonEl =\n",
              "          document.querySelector('#df-6d94f75d-3bfe-4808-b26d-75543d58710d button.colab-df-convert');\n",
              "        buttonEl.style.display =\n",
              "          google.colab.kernel.accessAllowed ? 'block' : 'none';\n",
              "\n",
              "        async function convertToInteractive(key) {\n",
              "          const element = document.querySelector('#df-6d94f75d-3bfe-4808-b26d-75543d58710d');\n",
              "          const dataTable =\n",
              "            await google.colab.kernel.invokeFunction('convertToInteractive',\n",
              "                                                     [key], {});\n",
              "          if (!dataTable) return;\n",
              "\n",
              "          const docLinkHtml = 'Like what you see? Visit the ' +\n",
              "            '<a target=\"_blank\" href=https://colab.research.google.com/notebooks/data_table.ipynb>data table notebook</a>'\n",
              "            + ' to learn more about interactive tables.';\n",
              "          element.innerHTML = '';\n",
              "          dataTable['output_type'] = 'display_data';\n",
              "          await google.colab.output.renderOutput(dataTable, element);\n",
              "          const docLink = document.createElement('div');\n",
              "          docLink.innerHTML = docLinkHtml;\n",
              "          element.appendChild(docLink);\n",
              "        }\n",
              "      </script>\n",
              "    </div>\n",
              "  </div>\n",
              "  "
            ]
          },
          "metadata": {},
          "execution_count": 55
        }
      ]
    }
  ],
  "metadata": {
    "kernelspec": {
      "display_name": "Python 3",
      "language": "python",
      "name": "python3"
    },
    "language_info": {
      "codemirror_mode": {
        "name": "ipython",
        "version": 3
      },
      "file_extension": ".py",
      "mimetype": "text/x-python",
      "name": "python",
      "nbconvert_exporter": "python",
      "pygments_lexer": "ipython3",
      "version": "3.8.5"
    },
    "colab": {
      "provenance": [],
      "include_colab_link": true
    }
  },
  "nbformat": 4,
  "nbformat_minor": 0
}